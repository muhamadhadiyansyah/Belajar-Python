{
 "cells": [
  {
   "cell_type": "markdown",
   "metadata": {},
   "source": [
    "# Apa itu Python?"
   ]
  },
  {
   "cell_type": "markdown",
   "metadata": {},
   "source": [
    "Python merupakan salah satu bahasa pemograman tingkat tinggi (high level language). Pada tahun 1991, Python pertama kali diperkenalkan kepada publik, yang mana dikembangkan oleh Guido Van Rosume."
   ]
  },
  {
   "cell_type": "markdown",
   "metadata": {},
   "source": [
    "# Mengapa Python begitu populer?"
   ]
  },
  {
   "cell_type": "markdown",
   "metadata": {},
   "source": [
    "Karena Python memiliki keistimewaan yang membedakannya dengan bahasa-bahasa pemograman lainnya yaitu:\n",
    "- Bahasa pemograman tingkat tinggi\n",
    "- Mudah untuk dipelajar\n",
    "- Mudah untuk digunakan\n",
    "- Mudah untuk dikembangkan\n",
    "- Memiliki Manajemen memori yang dinamis\n",
    "- Pemograman berorientasi Objek (Object Oriented Programming)\n",
    "- Bersifat open source yang mana gratis untuk digunakan oleh semua kalangan"
   ]
  },
  {
   "cell_type": "markdown",
   "metadata": {},
   "source": [
    "Selain keistimewaan yang telah dijelaskan sebelumnya, Python juga memiliki kelebihan lain yang mana bersifat platform independent. Sifat dari Python tersebut membuat Python dapat digunakan dalam sistem operasi manapun, selama sistem operasi terseubt terdapat interpreter Python."
   ]
  },
  {
   "cell_type": "markdown",
   "metadata": {},
   "source": [
    "# Bagaimana cara mendownload Python?"
   ]
  },
  {
   "cell_type": "markdown",
   "metadata": {},
   "source": [
    "Untuk mendownload Python dapat mengunjungin website Python - www.python.org/downloads"
   ]
  },
  {
   "cell_type": "markdown",
   "metadata": {},
   "source": [
    "Untuk melakukan instalasi Python di Windows, dapat dilihat melalui - www.petanikode.com/python-windows/"
   ]
  },
  {
   "cell_type": "markdown",
   "metadata": {},
   "source": [
    "Jika kamu tidak ingin mendownload Python di komputer/laptop, kamu dapat menjalankan Pyhton dengan Google Colab. - colab.research.google.com"
   ]
  },
  {
   "cell_type": "markdown",
   "metadata": {},
   "source": [
    "# Python dapat digunakan sebagai Kalkulator"
   ]
  },
  {
   "cell_type": "markdown",
   "metadata": {},
   "source": [
    "Pertama-tama, kita mencoba menggunakan python sebagai sebuah kalkulator."
   ]
  },
  {
   "cell_type": "markdown",
   "metadata": {},
   "source": [
    "Jika ingin menampilkan output di Python, dapat menggunakan fungsi print( )"
   ]
  },
  {
   "cell_type": "code",
   "execution_count": 3,
   "metadata": {},
   "outputs": [
    {
     "name": "stdout",
     "output_type": "stream",
     "text": [
      "10\n"
     ]
    }
   ],
   "source": [
    "# Melakukan Penjumlahan 5 + 5\n",
    "print(5 + 5)"
   ]
  },
  {
   "cell_type": "code",
   "execution_count": 4,
   "metadata": {},
   "outputs": [
    {
     "name": "stdout",
     "output_type": "stream",
     "text": [
      "5\n"
     ]
    }
   ],
   "source": [
    "# Melakukan Pengurangan 10 - 5\n",
    "print(10 - 5)"
   ]
  },
  {
   "cell_type": "code",
   "execution_count": 5,
   "metadata": {},
   "outputs": [
    {
     "name": "stdout",
     "output_type": "stream",
     "text": [
      "6\n"
     ]
    }
   ],
   "source": [
    "# Melakukan Perkalian 3 * 2\n",
    "print(3 * 2)"
   ]
  },
  {
   "cell_type": "markdown",
   "metadata": {},
   "source": [
    "Perhatikan, untuk melakukan perkalian di Python disimbolkan * (bintang)"
   ]
  },
  {
   "cell_type": "code",
   "execution_count": 6,
   "metadata": {},
   "outputs": [
    {
     "name": "stdout",
     "output_type": "stream",
     "text": [
      "2.0\n"
     ]
    }
   ],
   "source": [
    "# Melakukan Pembagian 10 / 5\n",
    "print(10 / 5)"
   ]
  },
  {
   "cell_type": "markdown",
   "metadata": {},
   "source": [
    "Perhatikan, untuk melakukan pembagian di Python disimbolkan / (forward slash)"
   ]
  },
  {
   "cell_type": "markdown",
   "metadata": {},
   "source": [
    "Selain melakukan operasi matematika sederhana. Python juga dapat melakukan operasi matematika pada suatu text atau tipe data String (yang mana akan kita bahas lebih lanjut). "
   ]
  },
  {
   "cell_type": "code",
   "execution_count": 7,
   "metadata": {},
   "outputs": [
    {
     "name": "stdout",
     "output_type": "stream",
     "text": [
      "Muhamad Hadiyansyah\n"
     ]
    }
   ],
   "source": [
    "# Melakukan operasi perhitungan dengan text atau tipe data string\n",
    "print('Muhamad ' + 'Hadiyansyah')"
   ]
  },
  {
   "cell_type": "markdown",
   "metadata": {},
   "source": [
    "# Komentar "
   ]
  },
  {
   "cell_type": "markdown",
   "metadata": {},
   "source": [
    "Kamu juga dapat menambahkan Komentar dalam syntax yang kamu buat, dengan tujuan untuk memberitahu orang lain tentang kode yang sedang dijalankan. Cara menambahkan komentar, dapat menggunakan # (hashtag). Komentar yang dimuat tidak akan dijalankan sebagai kode oleh Python, sehingga tidak akan mempengaruhi hasil."
   ]
  },
  {
   "cell_type": "code",
   "execution_count": 8,
   "metadata": {},
   "outputs": [
    {
     "name": "stdout",
     "output_type": "stream",
     "text": [
      "3\n"
     ]
    }
   ],
   "source": [
    "# Penjumlahan\n",
    "print(1 + 2)"
   ]
  },
  {
   "cell_type": "code",
   "execution_count": 9,
   "metadata": {},
   "outputs": [
    {
     "name": "stdout",
     "output_type": "stream",
     "text": [
      "2\n"
     ]
    }
   ],
   "source": [
    "# Pengurangan\n",
    "print(3 - 1)"
   ]
  },
  {
   "cell_type": "code",
   "execution_count": 10,
   "metadata": {},
   "outputs": [
    {
     "name": "stdout",
     "output_type": "stream",
     "text": [
      "6\n"
     ]
    }
   ],
   "source": [
    "# Perkalian\n",
    "print(3 * 2)"
   ]
  },
  {
   "cell_type": "code",
   "execution_count": 11,
   "metadata": {},
   "outputs": [
    {
     "name": "stdout",
     "output_type": "stream",
     "text": [
      "5.0\n"
     ]
    }
   ],
   "source": [
    "# Pembagian\n",
    "print(10 / 2)"
   ]
  },
  {
   "cell_type": "markdown",
   "metadata": {},
   "source": [
    "# Operasi Matematika Lanjutan"
   ]
  },
  {
   "cell_type": "markdown",
   "metadata": {},
   "source": [
    "Sebelumnya, kamu telah membuat operasi perhitungan matematika secara sederhana. Dengan Python, kamu juga dapat melakukan operasi perhitungan lainnya seperti Modulo dan Eksponensial."
   ]
  },
  {
   "cell_type": "markdown",
   "metadata": {},
   "source": [
    "Modulo merupakan operator yang digunakan untuk mengembalikan sisa pembagian. Sebagai contoh: 10 % 3 = 1. 10 % 2 = 0. 10 % 6 = 4.\n",
    "\n",
    "Eksponensial merupakan operator perpangkatan. Misalnya 2 pangkat 2 = 4. Maka kodenya 2 ** 2"
   ]
  },
  {
   "cell_type": "code",
   "execution_count": 13,
   "metadata": {},
   "outputs": [
    {
     "name": "stdout",
     "output_type": "stream",
     "text": [
      "1\n",
      "0\n",
      "4\n"
     ]
    }
   ],
   "source": [
    "# modulo\n",
    "print(10 % 3)\n",
    "\n",
    "print(10 % 2)\n",
    "\n",
    "print(10 % 6)"
   ]
  },
  {
   "cell_type": "code",
   "execution_count": 14,
   "metadata": {},
   "outputs": [
    {
     "name": "stdout",
     "output_type": "stream",
     "text": [
      "4\n"
     ]
    }
   ],
   "source": [
    "# eksponensial\n",
    "print(2 ** 2)"
   ]
  },
  {
   "cell_type": "markdown",
   "metadata": {},
   "source": [
    "# Soal"
   ]
  },
  {
   "cell_type": "markdown",
   "metadata": {},
   "source": [
    "Kamu memiliki uang sebesar 300 ribu rupiah, yang mana akan diinvestasikan dengan return sebesar 10%. Berapa banyak uang kamu jika diinvestasikan selama 5 tahun.   "
   ]
  },
  {
   "cell_type": "markdown",
   "metadata": {},
   "source": [
    "Diketahui:\n",
    "Uang = 300000\n",
    "Return = 10% atau 1.1\n",
    "Investasi = 5 "
   ]
  },
  {
   "cell_type": "markdown",
   "metadata": {},
   "source": [
    "# Jawaban "
   ]
  },
  {
   "cell_type": "code",
   "execution_count": 15,
   "metadata": {},
   "outputs": [
    {
     "name": "stdout",
     "output_type": "stream",
     "text": [
      "483153.0000000002\n"
     ]
    }
   ],
   "source": [
    "print(300000 * 1.1 ** 5)"
   ]
  },
  {
   "cell_type": "markdown",
   "metadata": {},
   "source": [
    "Dengan demikian, dengan uang yang diinvestasikan 300 ribu rupiah dengan return 10% dan lama investasi 5 tahun. Maka, uang kamu sekarang sebesar 483.153."
   ]
  },
  {
   "cell_type": "markdown",
   "metadata": {},
   "source": [
    "# Mohon maaf jika ada kesalahan. Sekian dan Terima Kasih "
   ]
  }
 ],
 "metadata": {
  "kernelspec": {
   "display_name": "Python 3",
   "language": "python",
   "name": "python3"
  },
  "language_info": {
   "codemirror_mode": {
    "name": "ipython",
    "version": 3
   },
   "file_extension": ".py",
   "mimetype": "text/x-python",
   "name": "python",
   "nbconvert_exporter": "python",
   "pygments_lexer": "ipython3",
   "version": "3.8.5"
  }
 },
 "nbformat": 4,
 "nbformat_minor": 4
}
