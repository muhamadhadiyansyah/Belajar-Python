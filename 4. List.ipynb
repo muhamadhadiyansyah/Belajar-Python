{
 "cells": [
  {
   "cell_type": "markdown",
   "metadata": {},
   "source": [
    "#  Apa itu List?"
   ]
  },
  {
   "cell_type": "markdown",
   "metadata": {},
   "source": [
    "> List adalah struktur data pada python yang mampu menyimpan lebih dari satu data. \n",
    "\n",
    "> list dinyatakan sebagai  berikut [elemen1, elemen2, ...]. \n",
    "\n",
    "> Setiap nilai di dalam list disebut elemen. \n",
    "\n",
    "> Dengan menggunakan list, kita dapat mengelola variabel yang memiliki nilai lebih dari satu tipe data. "
   ]
  },
  {
   "cell_type": "code",
   "execution_count": 1,
   "metadata": {},
   "outputs": [],
   "source": [
    "# membuat list kosong\n",
    "warna = []"
   ]
  },
  {
   "cell_type": "code",
   "execution_count": 2,
   "metadata": {},
   "outputs": [
    {
     "name": "stdout",
     "output_type": "stream",
     "text": [
      "[]\n"
     ]
    }
   ],
   "source": [
    "# menampilkan list warna\n",
    "print(warna)"
   ]
  },
  {
   "cell_type": "code",
   "execution_count": 3,
   "metadata": {},
   "outputs": [],
   "source": [
    "# membuat list yang berisikan 1 elemen\n",
    "hobi = ['membaca']"
   ]
  },
  {
   "cell_type": "code",
   "execution_count": 4,
   "metadata": {},
   "outputs": [
    {
     "name": "stdout",
     "output_type": "stream",
     "text": [
      "['membaca']\n"
     ]
    }
   ],
   "source": [
    "# menampilkan list hobi\n",
    "print(hobi)"
   ]
  },
  {
   "cell_type": "code",
   "execution_count": 5,
   "metadata": {},
   "outputs": [],
   "source": [
    "# membuat list yang berisikan banyak elemen dan memuat lebih dari satu tipe data\n",
    "nilai_mahasiswa = ['Hadi', 100, 'Kiwar', 90, 'Akbar', 98, 'Alif', 99]"
   ]
  },
  {
   "cell_type": "markdown",
   "metadata": {},
   "source": [
    "Pemisah antara satu elemen dengan elemen lainnya dapat menggunakan koma"
   ]
  },
  {
   "cell_type": "code",
   "execution_count": 6,
   "metadata": {},
   "outputs": [
    {
     "name": "stdout",
     "output_type": "stream",
     "text": [
      "['Hadi', 100, 'Kiwar', 90, 'Akbar', 98, 'Alif', 99]\n"
     ]
    }
   ],
   "source": [
    "# menampilkan list nilai_mahasiswa\n",
    "print(nilai_mahasiswa)"
   ]
  },
  {
   "cell_type": "code",
   "execution_count": 7,
   "metadata": {},
   "outputs": [
    {
     "name": "stdout",
     "output_type": "stream",
     "text": [
      "<class 'list'>\n"
     ]
    }
   ],
   "source": [
    "# melihat tipe data\n",
    "print(type(nilai_mahasiswa))"
   ]
  },
  {
   "cell_type": "code",
   "execution_count": 8,
   "metadata": {},
   "outputs": [
    {
     "name": "stdout",
     "output_type": "stream",
     "text": [
      "['buku', 12, True, 25.4]\n"
     ]
    }
   ],
   "source": [
    "# membuat list dengan isi banyak elemen dan beragam jenis tipe data\n",
    "campuran = ['buku', 12, True, 25.4]\n",
    "\n",
    "print(campuran)"
   ]
  },
  {
   "cell_type": "code",
   "execution_count": 9,
   "metadata": {},
   "outputs": [
    {
     "name": "stdout",
     "output_type": "stream",
     "text": [
      "<class 'list'>\n"
     ]
    }
   ],
   "source": [
    "print(type(campuran))"
   ]
  },
  {
   "cell_type": "code",
   "execution_count": 10,
   "metadata": {},
   "outputs": [
    {
     "name": "stdout",
     "output_type": "stream",
     "text": [
      "[100, 91, 97, 98, 96]\n"
     ]
    }
   ],
   "source": [
    "# membuat list nilai mahasiswa\n",
    "hadi = 100\n",
    "alif = 91\n",
    "kiwar = 97\n",
    "akbar = 98\n",
    "andre = 96\n",
    "\n",
    "nilai_mahasiswa = [hadi, alif, kiwar, akbar, andre]\n",
    "\n",
    "# menampilkan output dari list nilai_mahasiswa\n",
    "print(nilai_mahasiswa)"
   ]
  },
  {
   "cell_type": "code",
   "execution_count": 11,
   "metadata": {},
   "outputs": [
    {
     "name": "stdout",
     "output_type": "stream",
     "text": [
      "['Muhamad Hadiyansyah', 100, 'Alif Asha Putra', 91, 'Kiky Wardana', 97, 'Akbar Pamungkas', 98, 'Andre', 96]\n"
     ]
    }
   ],
   "source": [
    "# membuat list dengan berbagai tipe data\n",
    "hadi = 100\n",
    "alif = 91\n",
    "kiwar = 97\n",
    "akbar = 98\n",
    "andre = 96\n",
    "\n",
    "nilai_mahasiswa = ['Muhamad Hadiyansyah', hadi, 'Alif Asha Putra', alif, 'Kiky Wardana', kiwar, 'Akbar Pamungkas', akbar, 'Andre', andre]\n",
    "\n",
    "print(nilai_mahasiswa)"
   ]
  },
  {
   "cell_type": "markdown",
   "metadata": {},
   "source": [
    "Catatan: Pada \"Muhamad Hadiyansyah\" merupakan string, sedangkan hadi merupakan variabel yang mereferensikan angka 100. Begitu juga dengan \"Alif Asha Putra\" yang mana merupakan string sedangkan alif merupakan variabel yang mereferensikan angka 91 dsb."
   ]
  },
  {
   "cell_type": "markdown",
   "metadata": {},
   "source": [
    "Hal yang perlu diketahui bahwa list juga merupakan tipe data yang sama seperti string, interger, float & boolean. Sehingga list juga dapat memuat list, atau list dalam list. Dalam prakteknya, membuat list yang flat seperti diatas, dapat menampilkan hasil yang kurang informatif. Untuk memperjelas hasil yang akan ditampilkan, list dapat dibuat menjadi grup, yang mana kita akan membuat list dalam list."
   ]
  },
  {
   "cell_type": "code",
   "execution_count": 12,
   "metadata": {},
   "outputs": [
    {
     "name": "stdout",
     "output_type": "stream",
     "text": [
      "[['Muhamad Hadiyansyah', 100], ['Alif Asha Putra', 91], ['Kiky Wardana', 97], ['Akbar Pamungkas', 98], ['Andre', 96]]\n",
      "<class 'list'>\n"
     ]
    }
   ],
   "source": [
    "hadi = 100\n",
    "alif = 91\n",
    "kiwar = 97\n",
    "akbar = 98\n",
    "andre = 96\n",
    "\n",
    "# membuat list di dalam list\n",
    "nilai_mahasiswa = [['Muhamad Hadiyansyah', hadi], \n",
    "                   ['Alif Asha Putra', alif], ['Kiky Wardana', kiwar],\n",
    "                   ['Akbar Pamungkas', akbar], \n",
    "                   ['Andre', andre]]\n",
    "\n",
    "print(nilai_mahasiswa)\n",
    "print(type(nilai_mahasiswa))"
   ]
  },
  {
   "cell_type": "markdown",
   "metadata": {},
   "source": [
    "Pada list di atas, list mengandung list, memiliki 5 elemen. Kenapa? karena ['Muhamad Hadiyansyah', hadi] dihitung sebagai satu elemen. Begitu juga dengan ['Alif Asha Putra', alif] dihitunga sebagai satu elemen."
   ]
  },
  {
   "cell_type": "markdown",
   "metadata": {},
   "source": [
    "# Subset, Calculate, Slicing, Dicing List"
   ]
  },
  {
   "cell_type": "markdown",
   "metadata": {},
   "source": [
    "> Bagaimana jika kita ingin menampilkan atau mengakses satu atau beberapa elemen yang terdapat di dalam list?\n",
    "\n",
    "> Cara yang dapat digunakan untuk mengakses elemen di dalam list dengan menggunakan index. Perlu diingat bahwa index selalu dimulai dari angka 0. \n",
    "\n",
    "> Elemen atau isi pertama dalam list merupakan index ke 0.\n",
    "\n",
    "> cara mengakses elemen di list yaitu: nama_variabel[index]"
   ]
  },
  {
   "attachments": {
    "image.png": {
     "image/png": "[encoded data removed]"
    }
   },
   "cell_type": "markdown",
   "metadata": {},
   "source": [
    "![image.png](attachment:image.png)"
   ]
  },
  {
   "cell_type": "code",
   "execution_count": 13,
   "metadata": {},
   "outputs": [],
   "source": [
    "# membuat list yang disimpan dalam variabel warna\n",
    "warna = ['merah', 'hijau', 'biru', 'kuning', 'putih', 'hitam']"
   ]
  },
  {
   "cell_type": "code",
   "execution_count": 16,
   "metadata": {},
   "outputs": [
    {
     "name": "stdout",
     "output_type": "stream",
     "text": [
      "merah\n"
     ]
    }
   ],
   "source": [
    "# Ingin menampilkan atau mengakses nilai pertama di dalam list atau merah.\n",
    "print(warna[0])"
   ]
  },
  {
   "cell_type": "code",
   "execution_count": 17,
   "metadata": {},
   "outputs": [
    {
     "name": "stdout",
     "output_type": "stream",
     "text": [
      "hijau\n"
     ]
    }
   ],
   "source": [
    "# Ingin menampilkan atau mengakses nilai kedua di dalam list atau hijau.\n",
    "print(warna[1])"
   ]
  },
  {
   "cell_type": "code",
   "execution_count": 18,
   "metadata": {},
   "outputs": [
    {
     "name": "stdout",
     "output_type": "stream",
     "text": [
      "putih\n"
     ]
    }
   ],
   "source": [
    "# Ingin menampilkan atau mengakses nilai kelima di dalam list atau putih.\n",
    "print(warna[4])"
   ]
  },
  {
   "cell_type": "markdown",
   "metadata": {},
   "source": [
    "Dalam mengakses elemen di dalam list dapat menggunakan index negatif. Hal ini tentu mempermudah kita dalam mengakses isi atau elemen yang berada pada urutan terakhir."
   ]
  },
  {
   "attachments": {
    "image.png": {
     "image/png": "[encoded data removed]"
    }
   },
   "cell_type": "markdown",
   "metadata": {},
   "source": [
    "![image.png](attachment:image.png)"
   ]
  },
  {
   "cell_type": "code",
   "execution_count": 19,
   "metadata": {},
   "outputs": [],
   "source": [
    "# membuat list\n",
    "warna = ['merah', 'hijau', 'biru', 'kuning', 'putih', 'hitam']"
   ]
  },
  {
   "cell_type": "code",
   "execution_count": 20,
   "metadata": {},
   "outputs": [
    {
     "name": "stdout",
     "output_type": "stream",
     "text": [
      "hitam\n"
     ]
    }
   ],
   "source": [
    "# Ingin menampilkan atau mengakses nilai terakhir atau index ke 5 di dalam list atau hitam.\n",
    "print(warna[-1])"
   ]
  },
  {
   "cell_type": "code",
   "execution_count": 21,
   "metadata": {},
   "outputs": [
    {
     "name": "stdout",
     "output_type": "stream",
     "text": [
      "putih\n"
     ]
    }
   ],
   "source": [
    "# Ingin menampilkan atau mengakses nilai kedua terakhir atau index ke 4 di dalam list atau putih.\n",
    "print(warna[-2])"
   ]
  },
  {
   "cell_type": "code",
   "execution_count": 22,
   "metadata": {},
   "outputs": [
    {
     "name": "stdout",
     "output_type": "stream",
     "text": [
      "merah\n"
     ]
    }
   ],
   "source": [
    "# Ingin menampilkan atau mengakses nilai pertama dengan index negatif atau merah.\n",
    "print(warna[-6])"
   ]
  },
  {
   "cell_type": "code",
   "execution_count": 23,
   "metadata": {},
   "outputs": [
    {
     "name": "stdout",
     "output_type": "stream",
     "text": [
      "['Muhamad Hadiyansyah', 100, 'Alif Asha Putra', 91, 'Kiky Wardana', 97, 'Akbar Pamungkas', 98, 'Andre', 96]\n"
     ]
    }
   ],
   "source": [
    "# Contoh lain\n",
    "hadi = 100\n",
    "alif = 91\n",
    "kiwar = 97\n",
    "akbar = 98\n",
    "andre = 96\n",
    "\n",
    "nilai_mahasiswa = ['Muhamad Hadiyansyah', hadi, 'Alif Asha Putra', alif, 'Kiky Wardana', kiwar, 'Akbar Pamungkas', akbar, 'Andre', andre]\n",
    "\n",
    "print(nilai_mahasiswa)"
   ]
  },
  {
   "cell_type": "code",
   "execution_count": 24,
   "metadata": {},
   "outputs": [
    {
     "name": "stdout",
     "output_type": "stream",
     "text": [
      "100\n"
     ]
    }
   ],
   "source": [
    "# ingin mengakses nilai hadi atau berada pada urutan kedua atau index pertama.\n",
    "print(nilai_mahasiswa[1])"
   ]
  },
  {
   "cell_type": "code",
   "execution_count": 25,
   "metadata": {},
   "outputs": [
    {
     "name": "stdout",
     "output_type": "stream",
     "text": [
      "91\n"
     ]
    }
   ],
   "source": [
    "# ingin mengakses nilai alif atau berada pada urutan keempat atau index ketiga.\n",
    "print(nilai_mahasiswa[3])"
   ]
  },
  {
   "cell_type": "markdown",
   "metadata": {},
   "source": [
    "# Mengakses Beberapa Elemen di Dalam List"
   ]
  },
  {
   "cell_type": "markdown",
   "metadata": {},
   "source": [
    "> Penggunaaan dasar irisian. Start : Stop: Step. \n",
    "\n",
    "> Start merupakan awalan elemen yang ingin ditampilkan \n",
    "\n",
    "> Stop merupakan elemen yang ingin diakhiri (bersifat ekslusif, karena tidak mengambil nilai yang tertera) \n",
    "\n",
    "> Step merupakan loncatan yang diinginkan."
   ]
  },
  {
   "cell_type": "markdown",
   "metadata": {},
   "source": [
    "# Slicing List"
   ]
  },
  {
   "attachments": {
    "image.png": {
     "image/png": "[encoded data removed]"
    }
   },
   "cell_type": "markdown",
   "metadata": {},
   "source": [
    "![image.png](attachment:image.png)"
   ]
  },
  {
   "cell_type": "markdown",
   "metadata": {},
   "source": [
    "Dalam contoh startnya index ke 2, jadi potongan kita dimulai dari nilai 30. Stopnya index ke 7, jadi elemen terakhir dari potongan tersebut adalah 70 dengan indeks 6. Pada akhirnya, slice membuat list baru (kita menyimpannya dalam variabel some_nums) dengan elemen yang dipilih."
   ]
  },
  {
   "cell_type": "code",
   "execution_count": 26,
   "metadata": {},
   "outputs": [],
   "source": [
    "# buat list dengan nama variabel nums\n",
    "nums = [10, 20, 30, 40, 50, 60, 70, 80, 90]"
   ]
  },
  {
   "cell_type": "code",
   "execution_count": 27,
   "metadata": {},
   "outputs": [
    {
     "name": "stdout",
     "output_type": "stream",
     "text": [
      "[30, 40, 50, 60, 70]\n"
     ]
    }
   ],
   "source": [
    "# ingin mengakses nilai 30 sampai 70. nilai 30 merupakan index ke 2, sedangkan nilai 70 merupakan index ke 6. maka\n",
    "some_nums = nums[2 : 7]\n",
    "print(some_nums)"
   ]
  },
  {
   "cell_type": "markdown",
   "metadata": {},
   "source": [
    "Catatan:\n",
    "> Start(inklusif) sedangkan stop (ekslusif). \n",
    "\n",
    "> Sehingga walaupun ingin mengakhiri pada index ke 6, namun pada saat koding menulisnya dengan index ke 7, karena index ke 7 tidak akan disertakan."
   ]
  },
  {
   "cell_type": "code",
   "execution_count": 28,
   "metadata": {},
   "outputs": [
    {
     "name": "stdout",
     "output_type": "stream",
     "text": [
      "[10, 20, 30]\n"
     ]
    }
   ],
   "source": [
    "# ingin mengakses nilai 10 sampai 30. nilai 10 merupakan index ke 0, sedangkan nilai 30 merupakan index ke 2. maka\n",
    "some_nums = nums[0:3]\n",
    "print(some_nums)"
   ]
  },
  {
   "cell_type": "code",
   "execution_count": 29,
   "metadata": {},
   "outputs": [
    {
     "name": "stdout",
     "output_type": "stream",
     "text": [
      "[20, 30, 40]\n"
     ]
    }
   ],
   "source": [
    "# ingin mengakses nilai 20 sampai 40. nilai 20 merupakan index ke 1, sedangkan nilai 40 merupakan index ke 3. maka\n",
    "some_nums = nums[1:4]\n",
    "print(some_nums)"
   ]
  },
  {
   "cell_type": "code",
   "execution_count": 30,
   "metadata": {},
   "outputs": [
    {
     "name": "stdout",
     "output_type": "stream",
     "text": [
      "[80, 90]\n"
     ]
    }
   ],
   "source": [
    "# ingin mengakses nilai 80 dan 90. nilai 80 merupakan index ke 7, sedangkan nilai 90 merupakan index ke 8. maka\n",
    "some_nums = nums[7:9]\n",
    "print(some_nums)"
   ]
  },
  {
   "cell_type": "markdown",
   "metadata": {},
   "source": [
    "Jika kita tidak menulis indeks tempat irisan harus dimulai, maka kita memberi tahu Python untuk memulai irisan dari indeks 0, seperti contoh ini."
   ]
  },
  {
   "cell_type": "code",
   "execution_count": 31,
   "metadata": {},
   "outputs": [
    {
     "name": "stdout",
     "output_type": "stream",
     "text": [
      "[10, 20, 30, 40, 50]\n"
     ]
    }
   ],
   "source": [
    "nums = [10, 20, 30, 40, 50, 60, 70, 80, 90]\n",
    "\n",
    "some_nums = nums[:5]\n",
    "print(some_nums)"
   ]
  },
  {
   "cell_type": "code",
   "execution_count": 32,
   "metadata": {},
   "outputs": [
    {
     "name": "stdout",
     "output_type": "stream",
     "text": [
      "[10, 20, 30]\n"
     ]
    }
   ],
   "source": [
    "some_nums = nums[:3]\n",
    "print(some_nums)"
   ]
  },
  {
   "cell_type": "markdown",
   "metadata": {},
   "source": [
    "Kita juga dapat melakukan slicing sampai elemen terakhir tanpa harus menuliskan index."
   ]
  },
  {
   "cell_type": "code",
   "execution_count": 33,
   "metadata": {},
   "outputs": [
    {
     "name": "stdout",
     "output_type": "stream",
     "text": [
      "[60, 70, 80, 90]\n"
     ]
    }
   ],
   "source": [
    "nums = [10, 20, 30, 40, 50, 60, 70, 80, 90]\n",
    "\n",
    "some_nums = nums[5:]\n",
    "print(some_nums)"
   ]
  },
  {
   "cell_type": "code",
   "execution_count": 34,
   "metadata": {},
   "outputs": [
    {
     "name": "stdout",
     "output_type": "stream",
     "text": [
      "[40, 50, 60, 70, 80, 90]\n"
     ]
    }
   ],
   "source": [
    "some_nums = nums[3:]\n",
    "print(some_nums)"
   ]
  },
  {
   "cell_type": "code",
   "execution_count": 35,
   "metadata": {},
   "outputs": [
    {
     "name": "stdout",
     "output_type": "stream",
     "text": [
      "[80, 90]\n"
     ]
    }
   ],
   "source": [
    "some_nums = nums[7:]\n",
    "print(some_nums)"
   ]
  },
  {
   "cell_type": "markdown",
   "metadata": {},
   "source": [
    "Perlakuan tersebut juga berlaku jika ingin menggunakan index negatif"
   ]
  },
  {
   "cell_type": "code",
   "execution_count": 36,
   "metadata": {},
   "outputs": [
    {
     "name": "stdout",
     "output_type": "stream",
     "text": [
      "[10, 20, 30, 40, 50, 60, 70, 80]\n"
     ]
    }
   ],
   "source": [
    "nums = [10, 20, 30, 40, 50, 60, 70, 80, 90]\n",
    "\n",
    "some_nums = nums[:-1]\n",
    "print(some_nums)"
   ]
  },
  {
   "cell_type": "code",
   "execution_count": 37,
   "metadata": {},
   "outputs": [
    {
     "name": "stdout",
     "output_type": "stream",
     "text": [
      "[10, 20, 30, 40, 50, 60]\n"
     ]
    }
   ],
   "source": [
    "some_nums = nums[:-3]\n",
    "print(some_nums)"
   ]
  },
  {
   "cell_type": "code",
   "execution_count": 38,
   "metadata": {},
   "outputs": [
    {
     "name": "stdout",
     "output_type": "stream",
     "text": [
      "[80, 90]\n"
     ]
    }
   ],
   "source": [
    "nums = [10, 20, 30, 40, 50, 60, 70, 80, 90]\n",
    "\n",
    "some_nums = nums[-2:]\n",
    "print(some_nums)"
   ]
  },
  {
   "cell_type": "code",
   "execution_count": 39,
   "metadata": {},
   "outputs": [
    {
     "name": "stdout",
     "output_type": "stream",
     "text": [
      "[50, 60, 70, 80, 90]\n"
     ]
    }
   ],
   "source": [
    "some_nums = nums[-5:]\n",
    "print(some_nums)"
   ]
  },
  {
   "cell_type": "markdown",
   "metadata": {},
   "source": [
    "Bagaimana jika kita ingin mengambil menampilkan index genap saja atau ganjil saja atau lompatan dari list"
   ]
  },
  {
   "cell_type": "code",
   "execution_count": 40,
   "metadata": {},
   "outputs": [],
   "source": [
    "nums = [10, 20, 30, 40, 50, 60, 70, 80, 90]"
   ]
  },
  {
   "cell_type": "code",
   "execution_count": 41,
   "metadata": {},
   "outputs": [
    {
     "name": "stdout",
     "output_type": "stream",
     "text": [
      "[10, 30, 50, 70, 90]\n"
     ]
    }
   ],
   "source": [
    "# menampilkan nilai-nilai di list dengan loncatan 2 kali. maka step parameter berperan\n",
    "some_nums = nums[::2]\n",
    "print(some_nums)"
   ]
  },
  {
   "cell_type": "code",
   "execution_count": 42,
   "metadata": {},
   "outputs": [
    {
     "name": "stdout",
     "output_type": "stream",
     "text": [
      "[10, 40, 70]\n"
     ]
    }
   ],
   "source": [
    "# menampilkan loncatan 3 kali.\n",
    "some_nums = nums[::3]\n",
    "print(some_nums)"
   ]
  },
  {
   "cell_type": "markdown",
   "metadata": {},
   "source": [
    "Jika sebelumnya menghilangkan start/stop parameter dan hanya menggunakan step. Maka sekarang coba dengan menggunakan start atau menentukan awalan dari setiap loncatan yang diinginkan"
   ]
  },
  {
   "cell_type": "code",
   "execution_count": 43,
   "metadata": {},
   "outputs": [],
   "source": [
    "nums = [10, 20, 30, 40, 50, 60, 70, 80, 90]"
   ]
  },
  {
   "cell_type": "code",
   "execution_count": 44,
   "metadata": {},
   "outputs": [
    {
     "name": "stdout",
     "output_type": "stream",
     "text": [
      "[20, 40, 60, 80]\n"
     ]
    }
   ],
   "source": [
    "# Menampilkan loncatan 2 kali, dimulai dari index 1 atau nilai 20\n",
    "some_nums = nums[1::2]\n",
    "print(some_nums)"
   ]
  },
  {
   "cell_type": "code",
   "execution_count": 45,
   "metadata": {},
   "outputs": [
    {
     "name": "stdout",
     "output_type": "stream",
     "text": [
      "[40, 60, 80]\n"
     ]
    }
   ],
   "source": [
    "# Menampilkan loncatan 2 kali, dimulai dari index 3 atau nilai 40\n",
    "some_nums = nums[3::2]\n",
    "print(some_nums)"
   ]
  },
  {
   "cell_type": "markdown",
   "metadata": {},
   "source": [
    "Selanjutnya, kita akan menggunakan Start : Stop : Step untuk menampilkan nilai dari list yang diinginkan"
   ]
  },
  {
   "cell_type": "code",
   "execution_count": 46,
   "metadata": {},
   "outputs": [],
   "source": [
    "nums = [10, 20, 30, 40, 50, 60, 70, 80, 90]"
   ]
  },
  {
   "cell_type": "code",
   "execution_count": 47,
   "metadata": {},
   "outputs": [
    {
     "name": "stdout",
     "output_type": "stream",
     "text": [
      "[20, 40, 60]\n"
     ]
    }
   ],
   "source": [
    "# Menampilkan loncatan 2 kali, dimulai dari index 1 atau nilai 20 dan berhenti pada index 6\n",
    "some_nums = nums[1 : 6 : 2]\n",
    "print(some_nums)"
   ]
  },
  {
   "cell_type": "markdown",
   "metadata": {},
   "source": [
    "Kita juga dapat menggunakan index negatif untuk menampilkan nilai-nilai dari list secara terbalik"
   ]
  },
  {
   "cell_type": "code",
   "execution_count": 48,
   "metadata": {},
   "outputs": [
    {
     "name": "stdout",
     "output_type": "stream",
     "text": [
      "[80, 70, 60, 50, 40, 30]\n"
     ]
    }
   ],
   "source": [
    "some_nums = nums[-2 : 1 : -1]\n",
    "print(some_nums)"
   ]
  },
  {
   "cell_type": "markdown",
   "metadata": {},
   "source": [
    "kita juga dapat mengakses subsetting list atau list berisi list dengan cara x[1][1] artinya baris ke 1 kolom ke 1. vertikal horizontal."
   ]
  },
  {
   "cell_type": "code",
   "execution_count": 49,
   "metadata": {},
   "outputs": [],
   "source": [
    "# membuat subsetting list\n",
    "x = [[\"a\", \"b\", \"c\"],\n",
    "     [\"d\", \"e\", \"f\"],\n",
    "     [\"g\", \"h\", \"i\"]]"
   ]
  },
  {
   "cell_type": "code",
   "execution_count": 51,
   "metadata": {},
   "outputs": [
    {
     "data": {
      "text/plain": [
       "'d'"
      ]
     },
     "execution_count": 51,
     "metadata": {},
     "output_type": "execute_result"
    }
   ],
   "source": [
    "# mengakses \"d\"\n",
    "# dimana \"d\" berada pada baris kedua (Index 1) dan kolom pertama (index 0).\n",
    "# Cara mengkasesnya tetap menggunakan index\n",
    "x[1][0]"
   ]
  },
  {
   "cell_type": "code",
   "execution_count": 55,
   "metadata": {},
   "outputs": [
    {
     "data": {
      "text/plain": [
       "['d', 'e']"
      ]
     },
     "execution_count": 55,
     "metadata": {},
     "output_type": "execute_result"
    }
   ],
   "source": [
    "# mengakses atau menampilkan d, e\n",
    "x[1][:2]"
   ]
  }
 ],
 "metadata": {
  "kernelspec": {
   "display_name": "Python 3",
   "language": "python",
   "name": "python3"
  },
  "language_info": {
   "codemirror_mode": {
    "name": "ipython",
    "version": 3
   },
   "file_extension": ".py",
   "mimetype": "text/x-python",
   "name": "python",
   "nbconvert_exporter": "python",
   "pygments_lexer": "ipython3",
   "version": "3.8.5"
  }
 },
 "nbformat": 4,
 "nbformat_minor": 4
}
