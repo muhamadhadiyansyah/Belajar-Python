{
 "cells": [
  {
   "cell_type": "markdown",
   "metadata": {},
   "source": [
    "# Tipe-tipe Data Python"
   ]
  },
  {
   "cell_type": "markdown",
   "metadata": {},
   "source": [
    "Python memiliki banyak sekali tipe-tipe data, terdapat beberapa tipe data yang sering digunakan dalam pemograman python. Seperti:\n",
    "1. Interger (int): tipe data yang berisikan bilangan bulat. Misalnya 25\n",
    "\n",
    "2. Float (float): tipe data yang berisikan bilangan pecahan atau sederhananya yang memiliki koma. Misalnya 25.3\n",
    "\n",
    "3. String (str): tipe data yang berisikan teks. Misalnya \"ayo belajar python\" (dalam membuat string, dapat menggunakan kutip dua contoh \"nama\" dan kutip satu contoh 'nama' keduanyga memiliki arti atau makna yang sama)\n",
    "    \n",
    "4. Boolean (bool): tipe data yang berisikan True dan False. Dalam sehari-hari bisa diartikan sebagai Iya dan Tidak. Jika di ubah menjadi angka maka True bernilai 1 dan False bernilai 0. Huruf awal wajib kapital. Misalnya sudah_menikah = True\n",
    "    \n",
    "5. Complex: tipe data untuk menyatakan pasangan angka real dan angka imajiner. Misalnya 1 + 5j\n",
    "\n",
    "6. Hexadecimal: bilangan dalam format hexa (berbasis 16). Misalnya 1a3\n",
    "\n",
    "7. List: data untaian untuk menyimpan berbagai tipe data dan isinya dapat diubah-ubah sesuai kehendak. Misalnya nilai_mahasiswa = [95, 83, 65, 78, 90]\n",
    "\n",
    "8. Tuple: tipe dapat yang sama seperti list tetapi isinya tidak bisa dimodifikasi, sekali dibuat maka tidak dapat diubah lagi. Misalnya ktp = (1457595, 415423)\n",
    "    \n",
    "9. Dictonary: tipe data untaian untuk menyimpan berbagai tipe data, yang berisikan pasangan petunjuk dan nilai. Misalnya {'nama':'adi', 'id':2}"
   ]
  },
  {
   "cell_type": "markdown",
   "metadata": {},
   "source": [
    "Untuk mengetahui tipe data pada suatu nilai atau variabel, dapat menggunakan fungsi type()"
   ]
  },
  {
   "cell_type": "code",
   "execution_count": 1,
   "metadata": {},
   "outputs": [
    {
     "name": "stdout",
     "output_type": "stream",
     "text": [
      "<class 'int'>\n",
      "<class 'int'>\n"
     ]
    }
   ],
   "source": [
    "# Tipe data Interger\n",
    "print(type(25))\n",
    "\n",
    "umur = 21\n",
    "print(type(umur))"
   ]
  },
  {
   "cell_type": "code",
   "execution_count": 2,
   "metadata": {},
   "outputs": [
    {
     "name": "stdout",
     "output_type": "stream",
     "text": [
      "<class 'float'>\n",
      "<class 'float'>\n"
     ]
    }
   ],
   "source": [
    "# Tipe data Float\n",
    "print(type(16.3))\n",
    "\n",
    "tinggi = 187.3\n",
    "print(type(tinggi))"
   ]
  },
  {
   "cell_type": "code",
   "execution_count": 3,
   "metadata": {},
   "outputs": [
    {
     "name": "stdout",
     "output_type": "stream",
     "text": [
      "<class 'str'>\n",
      "<class 'str'>\n"
     ]
    }
   ],
   "source": [
    "# Tipe data String\n",
    "print(type('ayo belajar python'))\n",
    "\n",
    "nama = 'Muhamad Hadiyansyah'\n",
    "print(type(nama))"
   ]
  },
  {
   "cell_type": "code",
   "execution_count": 4,
   "metadata": {},
   "outputs": [
    {
     "name": "stdout",
     "output_type": "stream",
     "text": [
      "<class 'bool'>\n",
      "<class 'bool'>\n"
     ]
    }
   ],
   "source": [
    "# Tipe data Boolean\n",
    "print(type(True))\n",
    "\n",
    "sudah_menikah = False\n",
    "print(type(sudah_menikah))"
   ]
  },
  {
   "cell_type": "code",
   "execution_count": 9,
   "metadata": {},
   "outputs": [
    {
     "name": "stdout",
     "output_type": "stream",
     "text": [
      "<class 'complex'>\n"
     ]
    }
   ],
   "source": [
    "# Tipe data kompleks\n",
    "print(type(1 + 5j))"
   ]
  },
  {
   "cell_type": "code",
   "execution_count": 6,
   "metadata": {},
   "outputs": [
    {
     "name": "stdout",
     "output_type": "stream",
     "text": [
      "<class 'list'>\n"
     ]
    }
   ],
   "source": [
    "# Tipe data list\n",
    "nilai_mahasiswa = [95, 83, 65, 78, 90]\n",
    "print(type(nilai_mahasiswa))"
   ]
  },
  {
   "cell_type": "code",
   "execution_count": 7,
   "metadata": {},
   "outputs": [
    {
     "name": "stdout",
     "output_type": "stream",
     "text": [
      "<class 'tuple'>\n"
     ]
    }
   ],
   "source": [
    "# Tipe data tuple\n",
    "nilai = (95, 43)\n",
    "print(type(nilai))"
   ]
  },
  {
   "cell_type": "code",
   "execution_count": 8,
   "metadata": {},
   "outputs": [
    {
     "name": "stdout",
     "output_type": "stream",
     "text": [
      "<class 'dict'>\n"
     ]
    }
   ],
   "source": [
    "# Tipe data dictonary\n",
    "biodata = {'nama':'adi', 'id':2}\n",
    "print(type(biodata))"
   ]
  },
  {
   "cell_type": "code",
   "execution_count": 10,
   "metadata": {},
   "outputs": [
    {
     "name": "stdout",
     "output_type": "stream",
     "text": [
      "5 * 10.5 = 52.5\n",
      "tipe data panjang:  5 >> <class 'int'>\n",
      "tipe data lebar:  10.5 >> <class 'float'>\n",
      "tipe data luas:  52.5 >> <class 'float'>\n"
     ]
    }
   ],
   "source": [
    "panjang = 5\n",
    "lebar = 10.5\n",
    "luas = panjang * lebar\n",
    "\n",
    "print(panjang, '*', lebar, '=', luas)\n",
    "print('tipe data panjang: ', panjang, '>>', type(panjang))\n",
    "print('tipe data lebar: ', lebar, '>>', type(lebar))\n",
    "print('tipe data luas: ', luas, '>>', type(luas))"
   ]
  },
  {
   "cell_type": "code",
   "execution_count": 11,
   "metadata": {},
   "outputs": [
    {
     "name": "stdout",
     "output_type": "stream",
     "text": [
      "5j + 10j = 15j\n",
      "tipe data a:  <class 'complex'>\n",
      "tipe data b: <class 'complex'>\n",
      "tipe data c: <class 'complex'>\n"
     ]
    }
   ],
   "source": [
    "a = 5j\n",
    "b = 10j\n",
    "c = a + b\n",
    "\n",
    "print(a, '+', b, '=', c)\n",
    "print('tipe data a: ', type(a))\n",
    "print('tipe data b:', type(b))\n",
    "print('tipe data c:', type(c))"
   ]
  },
  {
   "cell_type": "markdown",
   "metadata": {},
   "source": [
    "Catatan: \n",
    "> Setiap tipe data memiliki perlakuan masing-masing. Seperti dalam operasi perhitungan, tipe data satu dapat berbeda dengan tipe data lainnya dalam memperlakukan operasi perhitungan.\n",
    "\n",
    "> Misalnya ketika melakukan penjumlahan antara tipe data interger dengan interger maka akan melakukan perhitungan. Namun ketika melakukan penjumlahan antara tipe data string dengan string maka hanya akan menggabungkan bukan perhitungan. \n",
    "\n",
    "> Kesimpulannya adalah pelaksanaan kode bergantung pada tipe data, berbeda tipe data dapat berbeda pula pelaksanaannya. Namun terdapat juga beberapa pelaksanaan yang dapat di beberapa tipe data, seperti perhitungan yang pelaksanaannya sama antara tipe data interger maupun tipe data float."
   ]
  },
  {
   "cell_type": "code",
   "execution_count": 13,
   "metadata": {},
   "outputs": [
    {
     "name": "stdout",
     "output_type": "stream",
     "text": [
      "16\n"
     ]
    }
   ],
   "source": [
    "# perhitungan interger dengan interger\n",
    "nilai = 8\n",
    "\n",
    "total_nilai = nilai + nilai\n",
    "print(total_nilai)"
   ]
  },
  {
   "cell_type": "code",
   "execution_count": 12,
   "metadata": {},
   "outputs": [
    {
     "name": "stdout",
     "output_type": "stream",
     "text": [
      "HadiHadi\n"
     ]
    }
   ],
   "source": [
    "# perhitungan string dengan string\n",
    "nama = 'Hadi'\n",
    "\n",
    "dua_nama = nama + nama\n",
    "print(dua_nama)"
   ]
  },
  {
   "cell_type": "markdown",
   "metadata": {},
   "source": [
    "#  Konversi Tipe Data"
   ]
  },
  {
   "cell_type": "markdown",
   "metadata": {},
   "source": [
    "Python dapat mengubah suatu tipe data ke tipe data yang lain. Misalnya tipe data interger, berubah menjadi tipe data string. Terdapat dua cara, yaitu konversi implisit dengan konversi eksplisit."
   ]
  },
  {
   "cell_type": "markdown",
   "metadata": {},
   "source": [
    "Dalam konversi tipe implisit, interpreter Python secara otomatis mengonversi satu tipe data ke tipe data lainnya tanpa keterlibatan pengguna."
   ]
  },
  {
   "cell_type": "code",
   "execution_count": 14,
   "metadata": {},
   "outputs": [
    {
     "name": "stdout",
     "output_type": "stream",
     "text": [
      "x is the type: <class 'int'>\n",
      "y is the type: <class 'float'>\n",
      "z is the type: <class 'float'>\n"
     ]
    }
   ],
   "source": [
    "# Contoh konversi tipe data secara implisit\n",
    "x = 10\n",
    "y = 10.6\n",
    "z = x + y\n",
    "\n",
    "print('x is the type:', type(x))\n",
    "print('y is the type:', type(y))\n",
    "print('z is the type:', type(z))"
   ]
  },
  {
   "cell_type": "markdown",
   "metadata": {},
   "source": [
    "Dalam Konversi Eksplisit, tipe data diubah secara manual oleh pengguna sesuai kebutuhan."
   ]
  },
  {
   "cell_type": "markdown",
   "metadata": {},
   "source": [
    "> Menggunakan fungsi int() untuk mengubah menjadi tipe data Interger\n",
    "\n",
    "> Menggunakan fungsi float() untuk mengubah menjadi tipe data Float\n",
    "\n",
    "> Menggunakan fungsi str() untuk mengubah menjadi tipe data String\n",
    "\n",
    "> Menggunakan fungsi bool() untuk mengubah menjadi tipe data Boolean"
   ]
  },
  {
   "cell_type": "code",
   "execution_count": 16,
   "metadata": {},
   "outputs": [
    {
     "name": "stdout",
     "output_type": "stream",
     "text": [
      "After converting to interger base 2: After converting to float: 10010.0\n"
     ]
    }
   ],
   "source": [
    "# Contoh konversi tipe data secara eksplisit\n",
    "\n",
    "\n",
    "# initializing  string\n",
    "s = '10010'\n",
    "\n",
    "# printing string converting to int base 2\n",
    "c = int(s, 2)\n",
    "print(\"After converting to interger base 2: \", end=\"\")\n",
    "\n",
    "# printing string converting to float\n",
    "e = float(s)\n",
    "print(\"After converting to float: \", end=\"\")\n",
    "print(e)"
   ]
  },
  {
   "cell_type": "code",
   "execution_count": 17,
   "metadata": {},
   "outputs": [
    {
     "name": "stdout",
     "output_type": "stream",
     "text": [
      "<class 'float'>\n",
      "compound interestcompound interest\n"
     ]
    }
   ],
   "source": [
    "tabungan = 300000\n",
    "pertumbuhan_investasi = 1.1\n",
    "deskripsi = \"compound interest\"\n",
    "\n",
    "tahun_1 = tabungan * pertumbuhan_investasi\n",
    "\n",
    "# print tipe data tahun_1\n",
    "print(type(tahun_1))\n",
    "\n",
    "# melakukan penjumlahan pada variabel deskripsi\n",
    "deskripsi_2 = deskripsi + deskripsi\n",
    "\n",
    "# Print deskripsi_2\n",
    "print(deskripsi_2)"
   ]
  },
  {
   "cell_type": "code",
   "execution_count": 20,
   "metadata": {},
   "outputs": [
    {
     "name": "stdout",
     "output_type": "stream",
     "text": [
      "Saya menabung sebesar 300000 rupiah dan sekarang menjadi 584615.1300000004 rupiah\n"
     ]
    }
   ],
   "source": [
    "# mendefinisikan variabel tabungan dan hasil\n",
    "tabungan = 300000\n",
    "hasil = 300000 * 1.1 ** 7\n",
    "\n",
    "# print tabungan dan nilai dan diberi keterangan string\n",
    "print(\"Saya menabung sebesar \" + str(tabungan) + \" rupiah dan sekarang menjadi \" + str(hasil) + \" rupiah\")\n",
    "\n",
    "# mendefinisikan variabel pi_string\n",
    "pi_string = \"3.1415926\"\n",
    "\n",
    "# mengkonversi pi_string menjadi tipe data float: pi_float\n",
    "pi_float = float(pi_string)"
   ]
  },
  {
   "cell_type": "markdown",
   "metadata": {},
   "source": [
    "Catatan:\n",
    "Perlu diingat bahwa python tidak dapat menampilkan dua atau lebih tipe data dalam satu tampilan. Maka dari itu, harus di konversi dahulu seperti pada kode ini print(\"Saya menabung sebesar \" + str(tabungan) + \" rupiah dan sekarang menjadi \" + str(hasil) + \" rupiah\"). Jika tidak dikonversi terlebih dahulu maka akan menghasilkan error"
   ]
  },
  {
   "cell_type": "code",
   "execution_count": 22,
   "metadata": {},
   "outputs": [
    {
     "ename": "TypeError",
     "evalue": "can only concatenate str (not \"int\") to str",
     "output_type": "error",
     "traceback": [
      "\u001b[1;31m---------------------------------------------------------------------------\u001b[0m",
      "\u001b[1;31mTypeError\u001b[0m                                 Traceback (most recent call last)",
      "\u001b[1;32m<ipython-input-22-93348a301af8>\u001b[0m in \u001b[0;36m<module>\u001b[1;34m\u001b[0m\n\u001b[0;32m      1\u001b[0m \u001b[1;31m# Contoh error\u001b[0m\u001b[1;33m\u001b[0m\u001b[1;33m\u001b[0m\u001b[1;33m\u001b[0m\u001b[0m\n\u001b[1;32m----> 2\u001b[1;33m \u001b[0mprint\u001b[0m\u001b[1;33m(\u001b[0m\u001b[1;34m\"Jawaban yang benar adalah \"\u001b[0m \u001b[1;33m+\u001b[0m \u001b[1;36m76\u001b[0m\u001b[1;33m)\u001b[0m\u001b[1;33m\u001b[0m\u001b[1;33m\u001b[0m\u001b[0m\n\u001b[0m",
      "\u001b[1;31mTypeError\u001b[0m: can only concatenate str (not \"int\") to str"
     ]
    }
   ],
   "source": [
    "# Contoh error\n",
    "print(\"Jawaban yang benar adalah \" + 76)"
   ]
  },
  {
   "cell_type": "code",
   "execution_count": 23,
   "metadata": {},
   "outputs": [
    {
     "name": "stdout",
     "output_type": "stream",
     "text": [
      "Jawaban yang benar adalah 76\n"
     ]
    }
   ],
   "source": [
    "# Cara memperbaiki\n",
    "print(\"Jawaban yang benar adalah \" + str(76))"
   ]
  }
 ],
 "metadata": {
  "kernelspec": {
   "display_name": "Python 3",
   "language": "python",
   "name": "python3"
  },
  "language_info": {
   "codemirror_mode": {
    "name": "ipython",
    "version": 3
   },
   "file_extension": ".py",
   "mimetype": "text/x-python",
   "name": "python",
   "nbconvert_exporter": "python",
   "pygments_lexer": "ipython3",
   "version": "3.8.5"
  }
 },
 "nbformat": 4,
 "nbformat_minor": 4
}
