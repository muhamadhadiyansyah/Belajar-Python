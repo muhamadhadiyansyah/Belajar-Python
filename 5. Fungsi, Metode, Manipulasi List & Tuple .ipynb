{
 "cells": [
  {
   "cell_type": "markdown",
   "metadata": {},
   "source": [
    "# Fungsi"
   ]
  },
  {
   "cell_type": "markdown",
   "metadata": {},
   "source": [
    "Fungsi bukanlah merupakan sesuatu yang asing, karena anda sudah pernah menggunakan suatu fungsi. Salah satunya adalah fungsi type yang digunakan untuk mengetahui tipe data, atau fungsi print yang digunakan untuk menampilkan output. Jadi, apa itu fungsi? Fungsi merupakan suatu potongan kode yang digunakan untuk melaksanakan tugas tertentu."
   ]
  },
  {
   "cell_type": "code",
   "execution_count": 1,
   "metadata": {},
   "outputs": [],
   "source": [
    "# contoh\n",
    "nilai_mahasiswa = [70, 40, 50, 29, 90]"
   ]
  },
  {
   "cell_type": "markdown",
   "metadata": {},
   "source": [
    "> Ketika anda ingin mengetahui elemen/nilai terbesar di dalam list nilai_mahasiswa, anda tidak perlu memeriksa satu persatu elemen yang terdapat di dalam list nilai_mahasiswa. \n",
    "\n",
    "> Anda dapat memanggil suatu fungsi yang bertugas untuk memeriksa nilai terbesar di dalam list, dalam kasus ini adalah fungsi max()."
   ]
  },
  {
   "cell_type": "code",
   "execution_count": 3,
   "metadata": {},
   "outputs": [
    {
     "name": "stdout",
     "output_type": "stream",
     "text": [
      "90\n"
     ]
    }
   ],
   "source": [
    "# Mengetahui nilai terbesar di dalam list nilai_mahasiswa\n",
    "print(max(nilai_mahasiswa))\n",
    "\n",
    "# output akan menampilkan 90 artinya nilai terbesar di dalam list nilai_mahasiswa adalah 90"
   ]
  },
  {
   "cell_type": "code",
   "execution_count": 4,
   "metadata": {},
   "outputs": [
    {
     "name": "stdout",
     "output_type": "stream",
     "text": [
      "90\n"
     ]
    }
   ],
   "source": [
    "# Dapat juga dengan menambahkan variabe agar dapat ditampilkan berulang\n",
    "\n",
    "nilai_tertinggi = max(nilai_mahasiswa)\n",
    "\n",
    "print(nilai_tertinggi)"
   ]
  },
  {
   "cell_type": "markdown",
   "metadata": {},
   "source": [
    "Untuk mengetahui bagaimana suatu fungsi bekerja, dengan cara membukan dokumentasi dengan fungsi help()"
   ]
  },
  {
   "cell_type": "code",
   "execution_count": 6,
   "metadata": {},
   "outputs": [
    {
     "name": "stdout",
     "output_type": "stream",
     "text": [
      "Help on built-in function max in module builtins:\n",
      "\n",
      "max(...)\n",
      "    max(iterable, *[, default=obj, key=func]) -> value\n",
      "    max(arg1, arg2, *args, *[, key=func]) -> value\n",
      "    \n",
      "    With a single iterable argument, return its biggest item. The\n",
      "    default keyword-only argument specifies an object to return if\n",
      "    the provided iterable is empty.\n",
      "    With two or more arguments, return the largest argument.\n",
      "\n",
      "None\n"
     ]
    }
   ],
   "source": [
    "# membukan dokumentasi dari fungsi max\n",
    "\n",
    "print(help(max))"
   ]
  },
  {
   "cell_type": "markdown",
   "metadata": {},
   "source": [
    "Contoh Fungsi lain, yaitu round() untuk mengatur jumlah decimal"
   ]
  },
  {
   "cell_type": "code",
   "execution_count": 7,
   "metadata": {},
   "outputs": [
    {
     "name": "stdout",
     "output_type": "stream",
     "text": [
      "Help on built-in function round in module builtins:\n",
      "\n",
      "round(number, ndigits=None)\n",
      "    Round a number to a given precision in decimal digits.\n",
      "    \n",
      "    The return value is an integer if ndigits is omitted or None.  Otherwise\n",
      "    the return value has the same type as the number.  ndigits may be negative.\n",
      "\n",
      "None\n"
     ]
    }
   ],
   "source": [
    "print(help(round))"
   ]
  },
  {
   "cell_type": "markdown",
   "metadata": {},
   "source": [
    "> Dari dokumentasi kita dapat mengetahui bahwa fungsi round memiliki dua argumen yaitu number dan ndigit. \n",
    "\n",
    "> Dari dokumentasi kita juga mengetahui bahwa ndigits=None artinya ndigits merupakan optional dan memiliki nilai default jika kita tidak menuliskan argumen pada ndigits."
   ]
  },
  {
   "cell_type": "code",
   "execution_count": 8,
   "metadata": {},
   "outputs": [
    {
     "name": "stdout",
     "output_type": "stream",
     "text": [
      "1.7\n"
     ]
    }
   ],
   "source": [
    "# misal kita ingin menggati nilai 1.68 menjadi angka yang desimalnya satu, maka ndigitnya 1.\n",
    "print(round(1.68, 1))\n",
    "\n",
    "# output akan menampilkan 1.7 artinya decimal menjadi 1 angka yang sebelumnya 2"
   ]
  },
  {
   "cell_type": "code",
   "execution_count": 9,
   "metadata": {},
   "outputs": [
    {
     "name": "stdout",
     "output_type": "stream",
     "text": [
      "2\n"
     ]
    }
   ],
   "source": [
    "# kita akan mencoba untuk tidak menuliskan argumen ndigits\n",
    "print(round(1.68))\n",
    "\n",
    "# output akan menampilkan 2, \n",
    "# karena ndigit tidak dituliskan maka fungsi round akan mencoba mengganti float dengan angka interger terdekat"
   ]
  },
  {
   "cell_type": "markdown",
   "metadata": {},
   "source": [
    "# Object Slice"
   ]
  },
  {
   "cell_type": "markdown",
   "metadata": {},
   "source": [
    "Objek slice digunakan untuk menampilkan elemen dalam list dengan menggabungkan metode index dengan perhitungan. Dengan tujuan untuk melakukan potongan berulang kali."
   ]
  },
  {
   "cell_type": "code",
   "execution_count": 10,
   "metadata": {},
   "outputs": [],
   "source": [
    "# mulai indeks ke 2 sampai ke 7 atau sama seperti [2:7]\n",
    "\n",
    "five_items_after_second = slice (2, 2 + 5) \n",
    "\n",
    "nums = [10, 20, 30, 40, 50, 60, 70, 80, 90]\n",
    "\n",
    "colors = ['red', 'green', 'blue', 'yellow', 'white', 'black', 'silver']"
   ]
  },
  {
   "cell_type": "code",
   "execution_count": 11,
   "metadata": {},
   "outputs": [
    {
     "data": {
      "text/plain": [
       "[30, 40, 50, 60, 70]"
      ]
     },
     "execution_count": 11,
     "metadata": {},
     "output_type": "execute_result"
    }
   ],
   "source": [
    "nums[five_items_after_second]"
   ]
  },
  {
   "cell_type": "code",
   "execution_count": 12,
   "metadata": {},
   "outputs": [
    {
     "data": {
      "text/plain": [
       "['blue', 'yellow', 'white', 'black', 'silver']"
      ]
     },
     "execution_count": 12,
     "metadata": {},
     "output_type": "execute_result"
    }
   ],
   "source": [
    "colors[five_items_after_second]"
   ]
  },
  {
   "cell_type": "markdown",
   "metadata": {},
   "source": [
    "# Manipulasi List"
   ]
  },
  {
   "cell_type": "markdown",
   "metadata": {},
   "source": [
    "Kita dapat memanipulasi list sesuai keiinginan. Maksud dari manipulasi adalah melakukan perubahan-perubahan elemen yang terdapat di dalam list, seperti mengganti nilai, menambahkan nilai, menghitung jumlah elemen yang terdapat di dalam list, menghapus nilai, menghapus list dsb."
   ]
  },
  {
   "cell_type": "markdown",
   "metadata": {},
   "source": [
    "1. Bagaimana jika elemen atau isi yang terdapat di dalam list adalah salah dan ingin kita ganti nilai tersebut dengan nilai yang benar?"
   ]
  },
  {
   "cell_type": "code",
   "execution_count": 13,
   "metadata": {},
   "outputs": [
    {
     "name": "stdout",
     "output_type": "stream",
     "text": [
      "[100, 90, 88, 77, 60, 39, 111]\n"
     ]
    }
   ],
   "source": [
    "# membuat list dengan nama variabel nilai\n",
    "\n",
    "nilai = [100, 90, 88, 77, 60, 39, 111]\n",
    "print(nilai)"
   ]
  },
  {
   "cell_type": "code",
   "execution_count": 14,
   "metadata": {},
   "outputs": [
    {
     "name": "stdout",
     "output_type": "stream",
     "text": [
      "[100, 90, 88, 77, 60, 39, 80]\n"
     ]
    }
   ],
   "source": [
    "# kita ingin mengganti index ke 6 atau index ke -1 dengan nilai 80\n",
    "\n",
    "nilai[6] = 80\n",
    "print(nilai)"
   ]
  },
  {
   "cell_type": "code",
   "execution_count": 15,
   "metadata": {},
   "outputs": [
    {
     "name": "stdout",
     "output_type": "stream",
     "text": [
      "[100, 90, 88, 77, 60, 97, 80]\n"
     ]
    }
   ],
   "source": [
    "# kita ingin mengganti index ke 5 atau index ke -2 dengan nilai sebesar 97\n",
    "\n",
    "nilai[-2] = 97\n",
    "\n",
    "print(nilai)"
   ]
  },
  {
   "cell_type": "markdown",
   "metadata": {},
   "source": [
    "# Metode"
   ]
  },
  {
   "cell_type": "markdown",
   "metadata": {},
   "source": [
    "> Perlu diketahui bahwa semua yang terdapat di kode python merupakan objek, yang mana setiap objek memiliki tipe yang spesifik seperti float, interger, string dll. \n",
    "\n",
    "> Jadi, Metode merupakan fungsi yang memiliki objek. misalnya objek python dalam tipe data sting memiliki beberapa method seperti capitalize(), replace() dll. Begitu juga dengan tipe data lainnya. \n",
    "\n",
    "> Terdapat metode yang memiliki argumen dan juga metode yang tidak memiliki argumen. Object have methods associated, depending on type. Some Objects of different types can have methods with the same name."
   ]
  },
  {
   "cell_type": "markdown",
   "metadata": {},
   "source": [
    "# Metode Index"
   ]
  },
  {
   "cell_type": "markdown",
   "metadata": {},
   "source": [
    "2. Bagaimana jika memiliki nilai atau elemen yang banyak sekali dan sulit untuk mengetahui index keberapa nilai tersebut?\n",
    "Solusinya kita dapat menggunakan metode index untuk mengetahui posisi index"
   ]
  },
  {
   "cell_type": "code",
   "execution_count": 17,
   "metadata": {},
   "outputs": [],
   "source": [
    "# membuat list\n",
    "nilai = [4, 2, 5, 4, 10, 4]"
   ]
  },
  {
   "cell_type": "code",
   "execution_count": 19,
   "metadata": {},
   "outputs": [
    {
     "name": "stdout",
     "output_type": "stream",
     "text": [
      "1\n"
     ]
    }
   ],
   "source": [
    "# kita ingin mengetahui bahwa nilai 2 itu index keberapa?\n",
    "\n",
    "print(nilai.index(2))\n",
    "\n",
    "# output akan menampilkan 1 artinya nilai 2 dalam list nilai berada pada index ke 1"
   ]
  },
  {
   "cell_type": "code",
   "execution_count": 20,
   "metadata": {},
   "outputs": [
    {
     "name": "stdout",
     "output_type": "stream",
     "text": [
      "2\n"
     ]
    }
   ],
   "source": [
    "# kita ingin mengetahui bahwa nilai 5 itu index keberapa?\n",
    "\n",
    "print(nilai.index(5))\n",
    "\n",
    "# output akan menampilkan 2 artinya nilai 5 dalam list nilai berada pada index ke 2"
   ]
  },
  {
   "cell_type": "markdown",
   "metadata": {},
   "source": [
    "Dari list nilai kita dapat mengetahui bahwa terdapat banyak angka 4. bagaimana metode index bekerja dalam situasi nilai atau elemen yang sama?"
   ]
  },
  {
   "cell_type": "code",
   "execution_count": 21,
   "metadata": {},
   "outputs": [
    {
     "name": "stdout",
     "output_type": "stream",
     "text": [
      "0\n"
     ]
    }
   ],
   "source": [
    "print(nilai.index(4))"
   ]
  },
  {
   "cell_type": "markdown",
   "metadata": {},
   "source": [
    "Dalam Python, metode index hanya akan menampilkan nilai dengan index terkecil. Maka dalam situasi ini metode index menjadi tidak efektif"
   ]
  },
  {
   "cell_type": "markdown",
   "metadata": {},
   "source": [
    "# Metode Count"
   ]
  },
  {
   "cell_type": "markdown",
   "metadata": {},
   "source": [
    "3. Bagaimana jika kita ingin mengetahui banyaknya angka dalam sebuah nilai yang terdapat di dalam list, untuk mengetahui apakan ada duplikat nilai atau tidak? Kita dapat menggunakan metode count"
   ]
  },
  {
   "cell_type": "code",
   "execution_count": 22,
   "metadata": {},
   "outputs": [],
   "source": [
    "# membuat list\n",
    "nilai = [4, 2, 5, 4, 10, 4]"
   ]
  },
  {
   "cell_type": "code",
   "execution_count": 24,
   "metadata": {},
   "outputs": [
    {
     "name": "stdout",
     "output_type": "stream",
     "text": [
      "3\n"
     ]
    }
   ],
   "source": [
    "# berapa banyak angka 4 di dalam list nilai?\n",
    "\n",
    "print(nilai.count(4))\n",
    "\n",
    "# output akan menampilkan angka 3, artinya nilai 4 di dalam list berjumlah 3"
   ]
  },
  {
   "cell_type": "code",
   "execution_count": 25,
   "metadata": {},
   "outputs": [
    {
     "data": {
      "text/plain": [
       "1"
      ]
     },
     "execution_count": 25,
     "metadata": {},
     "output_type": "execute_result"
    }
   ],
   "source": [
    "# berapa banyak angka 10 di dalam list nilai?\n",
    "\n",
    "nilai.count(10)\n",
    "\n",
    "# output akan menampilkan angka 1, artinya nilai 10 di dalam list berjumlah 1"
   ]
  },
  {
   "cell_type": "markdown",
   "metadata": {},
   "source": [
    "#  Metode Sort"
   ]
  },
  {
   "cell_type": "markdown",
   "metadata": {},
   "source": [
    "4. Bagaimana jika kita ingin mengurutkan nilai, dari yang terkecil ke yang terbesar atau sebaliknya? Kita dapat menggunakan metode sort"
   ]
  },
  {
   "cell_type": "code",
   "execution_count": 26,
   "metadata": {},
   "outputs": [],
   "source": [
    "# membuat list\n",
    "nilai = [4, 2, 5, 4, 10, 4]"
   ]
  },
  {
   "cell_type": "code",
   "execution_count": 31,
   "metadata": {},
   "outputs": [
    {
     "name": "stdout",
     "output_type": "stream",
     "text": [
      "[2, 4, 4, 4, 5, 10]\n"
     ]
    }
   ],
   "source": [
    "# kita ingin mengurutkan elemen di list nilai dari angka terkecil ke terbesar\n",
    "\n",
    "nilai.sort()\n",
    "\n",
    "print(nilai)"
   ]
  },
  {
   "cell_type": "code",
   "execution_count": 32,
   "metadata": {},
   "outputs": [
    {
     "name": "stdout",
     "output_type": "stream",
     "text": [
      "[10, 5, 4, 4, 4, 2]\n"
     ]
    }
   ],
   "source": [
    "# kita ingin mengurutkan elemen di list nilai dari angka terbesar ke terkecil\n",
    "\n",
    "nilai.sort(reverse = True)\n",
    "\n",
    "print(nilai)"
   ]
  },
  {
   "cell_type": "markdown",
   "metadata": {},
   "source": [
    "Bagaimana dengan elemen atau nilai yang memiliki tipe data string atau teks"
   ]
  },
  {
   "cell_type": "code",
   "execution_count": 33,
   "metadata": {},
   "outputs": [],
   "source": [
    "# membuat list\n",
    "nama = ['hadi', 'kiky', 'akbar', 'alif', 'andre']"
   ]
  },
  {
   "cell_type": "code",
   "execution_count": 35,
   "metadata": {},
   "outputs": [
    {
     "name": "stdout",
     "output_type": "stream",
     "text": [
      "['akbar', 'alif', 'andre', 'hadi', 'kiky']\n"
     ]
    }
   ],
   "source": [
    "# kita ingin mengurutkan secara alphabet dari A ke Z\n",
    "\n",
    "nama.sort()\n",
    "\n",
    "print(nama)"
   ]
  },
  {
   "cell_type": "code",
   "execution_count": 36,
   "metadata": {},
   "outputs": [
    {
     "name": "stdout",
     "output_type": "stream",
     "text": [
      "['kiky', 'hadi', 'andre', 'alif', 'akbar']\n"
     ]
    }
   ],
   "source": [
    "# kita ingin mengurutkan secara alphabet dari Z ke A\n",
    "\n",
    "nama.sort(reverse = True)\n",
    "\n",
    "print(nama)"
   ]
  },
  {
   "cell_type": "markdown",
   "metadata": {},
   "source": [
    "Catatan: tidak semua metode di Python dapat menampilkan nilai secara otomatis seperti metode count. Terdapat beberapa metode yang perlu untuk dipanggil terlebih dahulu agar mengetahui perubahan yang telah kita buat, contohnya metode sort."
   ]
  },
  {
   "cell_type": "code",
   "execution_count": 37,
   "metadata": {},
   "outputs": [],
   "source": [
    "# jika kita tidak memanggil variabel maka output tidak akan muncul\n",
    "nilai.sort()"
   ]
  },
  {
   "cell_type": "markdown",
   "metadata": {},
   "source": [
    "# Metode Pop "
   ]
  },
  {
   "cell_type": "markdown",
   "metadata": {},
   "source": [
    "5. Bagaimana jika kita ingin menghapus nilai atau elemen di dalam list? Terdapat beberapa cara, salah satunya dengan menggunakan metode pop. Metode pop merupakan metode untuk menghapus elemen dalam list dengan cara mengakses index."
   ]
  },
  {
   "cell_type": "code",
   "execution_count": 38,
   "metadata": {},
   "outputs": [],
   "source": [
    "# membuat list\n",
    "nama = ['hadi', 'kiky', 'akbar', 'alif', 'andre']"
   ]
  },
  {
   "cell_type": "code",
   "execution_count": 39,
   "metadata": {},
   "outputs": [
    {
     "name": "stdout",
     "output_type": "stream",
     "text": [
      "kiky\n",
      "['hadi', 'akbar', 'alif', 'andre']\n"
     ]
    }
   ],
   "source": [
    "# Kita ingin menghapus kiky dari list. Sebelum menggunakan metode pop, kita harus mengetahui kiky berada pada index ke berapa\n",
    "# Dalam list, kiky berada pada index ke 1\n",
    "\n",
    "print(nama.pop(1))\n",
    "# output akan menampilkan kiky\n",
    "\n",
    "print(nama)\n",
    "# output akan menampilkan list nama yang mana kiky sudah tidak ada di dalam list"
   ]
  },
  {
   "cell_type": "code",
   "execution_count": 40,
   "metadata": {},
   "outputs": [
    {
     "name": "stdout",
     "output_type": "stream",
     "text": [
      "['hadi', 'akbar', 'alif']\n"
     ]
    }
   ],
   "source": [
    "# ingin menghapus andre\n",
    "\n",
    "nama.pop(-1)\n",
    "\n",
    "print(nama)"
   ]
  },
  {
   "cell_type": "markdown",
   "metadata": {},
   "source": [
    "# Metode Remove "
   ]
  },
  {
   "cell_type": "markdown",
   "metadata": {},
   "source": [
    "Metode Remove digunakan untuk menghapus elemen atau nilai di dalam list. Hal yang membuat metode remove dengan metode pop adalah metode remove menyatakan nilai yang ingin dihapus, sedangkan metode pop menyatakan dengan index."
   ]
  },
  {
   "cell_type": "code",
   "execution_count": 41,
   "metadata": {},
   "outputs": [],
   "source": [
    "x = [3, 7, 2, 11, 8, 10, 4]"
   ]
  },
  {
   "cell_type": "code",
   "execution_count": 42,
   "metadata": {},
   "outputs": [
    {
     "name": "stdout",
     "output_type": "stream",
     "text": [
      "[3, 7, 2, 11, 8, 4]\n"
     ]
    }
   ],
   "source": [
    "# ingin menghapus angka 10\n",
    "x.remove(10)\n",
    "\n",
    "print(x)"
   ]
  },
  {
   "cell_type": "code",
   "execution_count": 43,
   "metadata": {},
   "outputs": [],
   "source": [
    "# membuat list\n",
    "nama = ['hadi', 'kiky', 'akbar', 'alif', 'andre']"
   ]
  },
  {
   "cell_type": "code",
   "execution_count": 44,
   "metadata": {},
   "outputs": [
    {
     "name": "stdout",
     "output_type": "stream",
     "text": [
      "['kiky', 'akbar', 'alif', 'andre']\n"
     ]
    }
   ],
   "source": [
    "# Ingin menghapus hadi dari list nama\n",
    "nama.remove('hadi')\n",
    "\n",
    "print(nama)"
   ]
  },
  {
   "cell_type": "markdown",
   "metadata": {},
   "source": [
    "# Metode Append"
   ]
  },
  {
   "cell_type": "markdown",
   "metadata": {},
   "source": [
    "6. Bagaimana jika kita ingin menambahkan nilai atau elemen di dalam list? Kita dapat menggunakan beberapa metode, salah satunya adalah metode append. Dalam penggunaannya metode append akan menambahkan nilai atau elemen yang diinginkan dan akan ditambahkan secara otomatis di index terakhir."
   ]
  },
  {
   "cell_type": "code",
   "execution_count": 45,
   "metadata": {},
   "outputs": [],
   "source": [
    "# membuat list\n",
    "nama = ['hadi', 'kiky', 'akbar', 'alif', 'andre']"
   ]
  },
  {
   "cell_type": "code",
   "execution_count": 46,
   "metadata": {},
   "outputs": [
    {
     "name": "stdout",
     "output_type": "stream",
     "text": [
      "['hadi', 'kiky', 'akbar', 'alif', 'andre', 'bayu']\n"
     ]
    }
   ],
   "source": [
    "# kita ingin menambahkan bayu pada list nama\n",
    "\n",
    "nama.append('bayu')\n",
    "print(nama)"
   ]
  },
  {
   "cell_type": "code",
   "execution_count": 47,
   "metadata": {},
   "outputs": [
    {
     "name": "stdout",
     "output_type": "stream",
     "text": [
      "[4, 2, 5, 4, 10, 4, 18]\n"
     ]
    }
   ],
   "source": [
    "# membuat list\n",
    "nilai = [4, 2, 5, 4, 10, 4]\n",
    "\n",
    "# kita ingin menambahkan angka 18 dalam list nilai\n",
    "\n",
    "nilai.append(18)\n",
    "print(nilai)"
   ]
  },
  {
   "cell_type": "markdown",
   "metadata": {},
   "source": [
    "# Metode Insert"
   ]
  },
  {
   "cell_type": "markdown",
   "metadata": {},
   "source": [
    "Terdapat cara lain dalam menambahkan elemen atau isi di list, yaitu metode insert. Perbedaan antara metode insert dengan metode append adalah metode insert dapat memilih ingin menambahkan elemen di index ke berapa, sedangkan metode append tidak."
   ]
  },
  {
   "cell_type": "code",
   "execution_count": 48,
   "metadata": {},
   "outputs": [],
   "source": [
    "# membuat list\n",
    "nilai = [4, 2, 5, 4, 10, 4]"
   ]
  },
  {
   "cell_type": "code",
   "execution_count": 49,
   "metadata": {},
   "outputs": [
    {
     "name": "stdout",
     "output_type": "stream",
     "text": [
      "[75, 4, 2, 5, 4, 10, 4]\n"
     ]
    }
   ],
   "source": [
    "# membuat list\n",
    "nilai = [4, 2, 5, 4, 10, 4]\n",
    "\n",
    "# kita ingin menambahkan angka 75 pada index ke 0\n",
    "\n",
    "nilai.insert(0, 75) # formula(index, elemen yang ingin ditambahkan)\n",
    "print(nilai)"
   ]
  },
  {
   "cell_type": "code",
   "execution_count": 50,
   "metadata": {},
   "outputs": [
    {
     "name": "stdout",
     "output_type": "stream",
     "text": [
      "[75, [8, 7], 4, 2, 5, 4, 10, 4]\n"
     ]
    }
   ],
   "source": [
    "# kita juga dapat menambhakan lebih dari satu elemen dalam satu index\n",
    "\n",
    "nilai.insert(1, [8, 7])\n",
    "print(nilai)"
   ]
  },
  {
   "cell_type": "markdown",
   "metadata": {},
   "source": [
    "#  Replace List Elements"
   ]
  },
  {
   "cell_type": "markdown",
   "metadata": {},
   "source": [
    "Merupakan cara yang digunakan untuk mengganti elemen atau isi secara bersamaan"
   ]
  },
  {
   "cell_type": "code",
   "execution_count": 51,
   "metadata": {},
   "outputs": [],
   "source": [
    "# list\n",
    "nums = [10, 20, 30, 40, 50, 60, 70, 80, 90]"
   ]
  },
  {
   "cell_type": "code",
   "execution_count": 53,
   "metadata": {},
   "outputs": [
    {
     "name": "stdout",
     "output_type": "stream",
     "text": [
      "[1, 2, 3, 4, 50, 60, 70, 80, 90]\n"
     ]
    }
   ],
   "source": [
    "# Kita ingin mengganti nilai dari indeks [:4]\n",
    "nums[:4] = [1, 2, 3, 4]\n",
    "print(nums)\n",
    "\n",
    "# maka output nums akan berubah"
   ]
  },
  {
   "cell_type": "code",
   "execution_count": 54,
   "metadata": {},
   "outputs": [
    {
     "name": "stdout",
     "output_type": "stream",
     "text": [
      "[1, 2, 3, 4, 5, 6, 7, 8, 50, 60, 70, 80, 90]\n"
     ]
    }
   ],
   "source": [
    "# Kita juga dapat mengganti dengan nilai yang lebih banyak dari nilai yang diganti diinginkan\n",
    "nums = [10, 20, 30, 40, 50, 60, 70, 80, 90]\n",
    "\n",
    "nums[:4] = [1, 2, 3, 4, 5, 6, 7, 8]\n",
    "\n",
    "print(nums)"
   ]
  },
  {
   "cell_type": "code",
   "execution_count": 55,
   "metadata": {},
   "outputs": [
    {
     "name": "stdout",
     "output_type": "stream",
     "text": [
      "[1, 2, 50, 60, 70, 80, 90]\n"
     ]
    }
   ],
   "source": [
    "# Kita juga dapat mengganti dengan nilai yang lebih sedikitnums = [10, 20, 30, 40, 50, 60, 70, 80, 90]\n",
    "\n",
    "nums = [10, 20, 30, 40, 50, 60, 70, 80, 90]\n",
    "\n",
    "nums[:4] = [1, 2]\n",
    "\n",
    "print(nums)"
   ]
  },
  {
   "cell_type": "code",
   "execution_count": 56,
   "metadata": {},
   "outputs": [
    {
     "name": "stdout",
     "output_type": "stream",
     "text": [
      "[1, 20, 1, 40, 1, 60, 1, 80, 1]\n"
     ]
    }
   ],
   "source": [
    "# Menambahkan step memungkinkan untuk mengganti setiap elemen ke-n dengan nilai baru\n",
    "nums = [10, 20, 30, 40, 50, 60, 70, 80, 90]\n",
    "\n",
    "nums[:: 2] = [1, 1, 1, 1, 1]\n",
    "\n",
    "print(nums)"
   ]
  },
  {
   "cell_type": "code",
   "execution_count": 57,
   "metadata": {},
   "outputs": [
    {
     "name": "stdout",
     "output_type": "stream",
     "text": [
      "[1, 20, 1, 40, 1, 60, 1, 80, 1]\n"
     ]
    }
   ],
   "source": [
    "# Kita dapat menggunakan negatif step : \n",
    "nums = [10, 20, 30, 40, 50, 60, 70, 80, 90]\n",
    "\n",
    "nums[:: -2] = [1, 1, 1, 1, 1]\n",
    "\n",
    "print(nums)"
   ]
  },
  {
   "cell_type": "code",
   "execution_count": 58,
   "metadata": {},
   "outputs": [
    {
     "name": "stdout",
     "output_type": "stream",
     "text": [
      "[10, 2, 30, 4, 50, 60, 70, 80, 90]\n"
     ]
    }
   ],
   "source": [
    "# memberikan start dan stop nilai, maka dapat mempersempit area penggantian\n",
    "nums = [10, 20, 30, 40, 50, 60, 70, 80, 90]\n",
    "\n",
    "nums[1 : 5 : 2] = [2, 4]\n",
    "\n",
    "print(nums)"
   ]
  },
  {
   "cell_type": "markdown",
   "metadata": {},
   "source": [
    "# Extend Lists"
   ]
  },
  {
   "cell_type": "markdown",
   "metadata": {},
   "source": [
    "Metode extend memiliki persamaan dengan metode append, yang ditunjukan untuk menambah nilai atau elemen di dalam list. Perbedaannya, metode extend dapat menampilkan output lebih rapih"
   ]
  },
  {
   "cell_type": "code",
   "execution_count": 59,
   "metadata": {},
   "outputs": [],
   "source": [
    "nilai = [7, 3, 3, 8, 9, 4]"
   ]
  },
  {
   "cell_type": "code",
   "execution_count": 60,
   "metadata": {},
   "outputs": [
    {
     "name": "stdout",
     "output_type": "stream",
     "text": [
      "[7, 3, 3, 8, 9, 4, 6, 5]\n"
     ]
    }
   ],
   "source": [
    "# ingin menambahkan angka 4 dan 5 ke dalam list nilai\n",
    "nilai.extend([6,5])\n",
    "\n",
    "print(nilai)"
   ]
  },
  {
   "cell_type": "code",
   "execution_count": 61,
   "metadata": {},
   "outputs": [
    {
     "name": "stdout",
     "output_type": "stream",
     "text": [
      "[1, 2, 3, 4]\n"
     ]
    }
   ],
   "source": [
    "# alternatif lainnya\n",
    "print([1,2] + [3,4])"
   ]
  },
  {
   "cell_type": "markdown",
   "metadata": {},
   "source": [
    "# Delete Lists"
   ]
  },
  {
   "cell_type": "markdown",
   "metadata": {},
   "source": [
    "Metode delete digunakan untuk menghapus elemen atau beberapa elemen yang ada di dalam list."
   ]
  },
  {
   "cell_type": "code",
   "execution_count": 62,
   "metadata": {},
   "outputs": [],
   "source": [
    "# membuat list\n",
    "keranjang = ['roti', 'mentega', 'susu']"
   ]
  },
  {
   "cell_type": "code",
   "execution_count": 63,
   "metadata": {},
   "outputs": [
    {
     "name": "stdout",
     "output_type": "stream",
     "text": [
      "['mentega', 'susu']\n"
     ]
    }
   ],
   "source": [
    "# ingin menghapus indeks ke 0 atau roti dari list keranjang\n",
    "del keranjang [0]\n",
    "\n",
    "print(keranjang)"
   ]
  },
  {
   "cell_type": "code",
   "execution_count": 64,
   "metadata": {},
   "outputs": [
    {
     "name": "stdout",
     "output_type": "stream",
     "text": [
      "['mentega']\n"
     ]
    }
   ],
   "source": [
    "# ingin menghapus index ke 1 atau susu\n",
    "\n",
    "del keranjang [1]\n",
    "\n",
    "print(keranjang)"
   ]
  },
  {
   "cell_type": "markdown",
   "metadata": {},
   "source": [
    "Metode delete juga dapat menghapus potongan list"
   ]
  },
  {
   "cell_type": "code",
   "execution_count": 66,
   "metadata": {},
   "outputs": [],
   "source": [
    "# membuat list\n",
    "nums = [10, 20, 30, 40, 50, 60, 70, 80, 90]"
   ]
  },
  {
   "cell_type": "code",
   "execution_count": 67,
   "metadata": {},
   "outputs": [
    {
     "name": "stdout",
     "output_type": "stream",
     "text": [
      "[10, 20, 30, 80, 90]\n"
     ]
    }
   ],
   "source": [
    "# ingin menghapus elemen dari index ke 3 sampai 6\n",
    "\n",
    "del nums [3 : 7]\n",
    "print(nums)"
   ]
  },
  {
   "cell_type": "code",
   "execution_count": 68,
   "metadata": {},
   "outputs": [
    {
     "name": "stdout",
     "output_type": "stream",
     "text": [
      "[20, 40, 60, 80]\n"
     ]
    }
   ],
   "source": [
    "# menghapus potongan list\n",
    "\n",
    "nums = [10, 20, 30, 40, 50, 60, 70, 80, 90]\n",
    "\n",
    "del nums [:: 2]\n",
    "\n",
    "print(nums)"
   ]
  },
  {
   "cell_type": "code",
   "execution_count": 69,
   "metadata": {},
   "outputs": [
    {
     "name": "stdout",
     "output_type": "stream",
     "text": [
      "[10, 30, 50, 70, 80, 90]\n"
     ]
    }
   ],
   "source": [
    "# menghapus potongan list\n",
    "\n",
    "nums = [10, 20, 30, 40, 50, 60, 70, 80, 90]\n",
    "\n",
    "del nums [1 : 7 : 2]\n",
    "\n",
    "print(nums)"
   ]
  },
  {
   "cell_type": "markdown",
   "metadata": {},
   "source": [
    "# Tuple "
   ]
  },
  {
   "cell_type": "markdown",
   "metadata": {},
   "source": [
    "Sama halnya seperti list, namun isi atau elemen di dalam tuple tidak dapat diubah/manipulasi. Hanya dapat dipotong ketika ingin melihat beberapa nilai dalam tuple."
   ]
  },
  {
   "cell_type": "code",
   "execution_count": 70,
   "metadata": {},
   "outputs": [],
   "source": [
    "# tuple bisa menggunakan tanda kurung\n",
    "t = (1234, 4321, 'Hello')\n",
    "\n",
    "# tuple bisa juga tanpa tanda kurung\n",
    "g = 1234, 4321, 'World!'\n",
    "\n",
    "# membuat tuple kosong\n",
    "kosong = ()\n",
    "\n",
    "# membuat Tuple yang hanya berisi satu (singleton), maka kita harus menambahkan tanda koma di belakangnya.\n",
    "satu = ('isinya',)"
   ]
  },
  {
   "cell_type": "code",
   "execution_count": 71,
   "metadata": {},
   "outputs": [
    {
     "name": "stdout",
     "output_type": "stream",
     "text": [
      "(1234, 4321, 'Hello')\n",
      "(1234, 4321, 'World!')\n",
      "()\n",
      "('isinya',)\n"
     ]
    }
   ],
   "source": [
    "print(t)\n",
    "\n",
    "print(g)\n",
    "\n",
    "print(kosong)\n",
    "\n",
    "print(satu)"
   ]
  },
  {
   "cell_type": "markdown",
   "metadata": {},
   "source": [
    "Cara untuk memotong tuple"
   ]
  },
  {
   "cell_type": "code",
   "execution_count": 72,
   "metadata": {},
   "outputs": [],
   "source": [
    "# membuat tuple\n",
    "Nama = ('Hadi', 'Kiky', 'Alif')"
   ]
  },
  {
   "cell_type": "code",
   "execution_count": 73,
   "metadata": {},
   "outputs": [
    {
     "name": "stdout",
     "output_type": "stream",
     "text": [
      "('Hadi', 'Kiky')\n"
     ]
    }
   ],
   "source": [
    "# Kita dapat memotong dan hanya menampilkan indeks 0 dan 1 atau hadi dan kiky\n",
    "print(Nama[0 : 2])"
   ]
  },
  {
   "cell_type": "markdown",
   "metadata": {},
   "source": [
    "START : STOP : STEP "
   ]
  },
  {
   "cell_type": "code",
   "execution_count": 74,
   "metadata": {},
   "outputs": [
    {
     "name": "stdout",
     "output_type": "stream",
     "text": [
      "Alif\n"
     ]
    }
   ],
   "source": [
    "# Ingin menampilkan alif saja\n",
    "print(Nama[ 2 ])"
   ]
  },
  {
   "cell_type": "markdown",
   "metadata": {},
   "source": [
    "Tuple Nested merupakan tuple yang berisikan tuple"
   ]
  },
  {
   "cell_type": "code",
   "execution_count": 75,
   "metadata": {},
   "outputs": [
    {
     "name": "stdout",
     "output_type": "stream",
     "text": [
      "(('aku', 'ingin', 'belajar'), ('python', 'bersama', 'hadi'))\n"
     ]
    }
   ],
   "source": [
    "tuple1 = 'aku', 'ingin', 'belajar'\n",
    "tuple2 = 'python', 'bersama', 'hadi'\n",
    "tuple3 = (tuple1, tuple2) # nested tuple\n",
    "\n",
    "print(tuple3)"
   ]
  }
 ],
 "metadata": {
  "kernelspec": {
   "display_name": "Python 3",
   "language": "python",
   "name": "python3"
  },
  "language_info": {
   "codemirror_mode": {
    "name": "ipython",
    "version": 3
   },
   "file_extension": ".py",
   "mimetype": "text/x-python",
   "name": "python",
   "nbconvert_exporter": "python",
   "pygments_lexer": "ipython3",
   "version": "3.8.5"
  }
 },
 "nbformat": 4,
 "nbformat_minor": 4
}
