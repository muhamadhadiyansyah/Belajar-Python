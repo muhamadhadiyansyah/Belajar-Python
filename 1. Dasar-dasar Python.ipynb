{
 "cells": [
  {
   "cell_type": "markdown",
   "metadata": {
    "id": "MAx-GMoJp7dB"
   },
   "source": [
    "# 1. Variabel"
   ]
  },
  {
   "cell_type": "markdown",
   "metadata": {
    "id": "Bw4iygk6qCoA"
   },
   "source": [
    "*   Variabel merupakan nama yang digunakan untuk menyimpan nilai\n",
    "*   nama_variabel = nilai.\n",
    "*   catatan: nama variabel tidak menggunakan tanda petik "
   ]
  },
  {
   "cell_type": "code",
   "execution_count": 106,
   "metadata": {
    "colab": {
     "base_uri": "https://localhost:8080/"
    },
    "id": "7569icFFpy4r",
    "outputId": "642ef5c6-6e54-44e1-b353-c1d017ffce47"
   },
   "outputs": [
    {
     "name": "stdout",
     "output_type": "stream",
     "text": [
      "10\n"
     ]
    }
   ],
   "source": [
    "# Contoh Variabel\n",
    "\n",
    "bunga = 10 \n",
    "\n",
    "# bunga merupakan variabel, 10 merupakan nilai\n",
    "\n",
    "print(bunga)"
   ]
  },
  {
   "cell_type": "code",
   "execution_count": 107,
   "metadata": {
    "id": "vgRTrS8EqyUT"
   },
   "outputs": [],
   "source": [
    "nama = 'Muhamad Hadiyansyah'\n",
    "umur = 21\n",
    "agama = 'Islam'"
   ]
  },
  {
   "cell_type": "code",
   "execution_count": 108,
   "metadata": {
    "colab": {
     "base_uri": "https://localhost:8080/"
    },
    "id": "G_3cMbuirExZ",
    "outputId": "9d26f19a-1ccc-4110-ce05-36aa1fb95532"
   },
   "outputs": [
    {
     "name": "stdout",
     "output_type": "stream",
     "text": [
      "Muhamad Hadiyansyah\n",
      "21\n",
      "Islam\n"
     ]
    }
   ],
   "source": [
    "print(nama);print(umur);print(agama)"
   ]
  },
  {
   "cell_type": "code",
   "execution_count": 109,
   "metadata": {
    "colab": {
     "base_uri": "https://localhost:8080/"
    },
    "id": "NZQTfYw5rIPA",
    "outputId": "71938042-8305-428e-e9e3-d7125129dfd9"
   },
   "outputs": [
    {
     "name": "stdout",
     "output_type": "stream",
     "text": [
      "Muhamad Hadiyansyah\n"
     ]
    }
   ],
   "source": [
    "print(nama)"
   ]
  },
  {
   "cell_type": "code",
   "execution_count": 110,
   "metadata": {},
   "outputs": [
    {
     "name": "stdout",
     "output_type": "stream",
     "text": [
      "Kiky Wardana\n"
     ]
    }
   ],
   "source": [
    "nama = 'Kiky Wardana'\n",
    "\n",
    "print(nama)"
   ]
  },
  {
   "cell_type": "markdown",
   "metadata": {
    "id": "g4I4iBxPrXhU"
   },
   "source": [
    "# 2. Data Types "
   ]
  },
  {
   "cell_type": "markdown",
   "metadata": {
    "id": "Kbr8E7NurfkO"
   },
   "source": [
    "Tipe Data\n",
    "*   Interger: bilangan bulat. ex: 25\n",
    "*   Float: bilangan yang mempunyai koma. ex: 25.4\n",
    "*   String: teks. ex: \"Ayo Belajar Python\"\n",
    "*   Boolen: True atau False\n",
    "*   Hexadecimal: bilangan dalam format hexa (berbasis 16). ex: 1a3\n",
    "*   Complex: menyatakan pasangan angka real dan angka imajiner. ex: 1 + 5j\n",
    "*   List: data untaian untuk menyimpan berbagai tipe data dan isinya bisa diubah-ubah. ex: nilai_mahasiswa = [95, 83, 65, 78, 90]\n",
    "*   Tuple: seperti list tetapi isinya tidak bisa berubah. ex nilai = (95, 43)\n",
    "*   Dictonary: data untaian untuk menyimpan berbagai tipe data dan berupa 1a3  pasangan petunjuk dan nilai. ex: {'nama':'adi', 'id':2}\n",
    "\n",
    "Catatan:\n",
    "Hexadecimal atau sistem bilangan basis enam belas adalah sebuah sistem bilangan yang menggunakan 16 simbol. Berbeda dengan sistem bilangan desimal, simbol yang digunakan dari sistem ini adalah angka 0 sampai 9, ditambah dengan 6 simbol lainnya dengan menggunakan huruf A hingga F. Sistem bilangan ini digunakan untuk menampilkan nilai alamat memori dalam pemrograman komputer.\n",
    "270 dibagi 16 hasil:  16   sisa 14  ( = E )\n",
    "16 dibagi 16 hasil:   1   sisa  0  ( = 0 )\n",
    "1 dibagi 16 hasil:   0   sisa  1  ( = 1 )"
   ]
  },
  {
   "cell_type": "code",
   "execution_count": 111,
   "metadata": {
    "colab": {
     "base_uri": "https://localhost:8080/"
    },
    "id": "TE_ZAMtwrU-J",
    "outputId": "9bbf2ef8-9849-4e56-fedd-f12dbf8553a2"
   },
   "outputs": [
    {
     "name": "stdout",
     "output_type": "stream",
     "text": [
      "<class 'int'>\n"
     ]
    }
   ],
   "source": [
    "print(type(25))"
   ]
  },
  {
   "cell_type": "code",
   "execution_count": 112,
   "metadata": {
    "colab": {
     "base_uri": "https://localhost:8080/"
    },
    "id": "wn3lq2-qusFa",
    "outputId": "74f74e35-e16d-4fe6-a68a-ce8fcbea06d7"
   },
   "outputs": [
    {
     "name": "stdout",
     "output_type": "stream",
     "text": [
      "<class 'float'>\n"
     ]
    }
   ],
   "source": [
    "print(type(25.4))"
   ]
  },
  {
   "cell_type": "code",
   "execution_count": 113,
   "metadata": {
    "colab": {
     "base_uri": "https://localhost:8080/"
    },
    "id": "Kk0uySzQux_G",
    "outputId": "4cc3f6fa-e9c8-4dea-eec4-bdeb028849c3"
   },
   "outputs": [
    {
     "name": "stdout",
     "output_type": "stream",
     "text": [
      "<class 'str'>\n"
     ]
    }
   ],
   "source": [
    "print(type(\"Ayo belajar python\"))"
   ]
  },
  {
   "cell_type": "code",
   "execution_count": 114,
   "metadata": {
    "colab": {
     "base_uri": "https://localhost:8080/"
    },
    "id": "HtsvLyB-u2gN",
    "outputId": "83a75e9a-0789-42f2-c269-8a4c995c91eb"
   },
   "outputs": [
    {
     "name": "stdout",
     "output_type": "stream",
     "text": [
      "<class 'bool'>\n"
     ]
    }
   ],
   "source": [
    "print(type(True))"
   ]
  },
  {
   "cell_type": "code",
   "execution_count": 115,
   "metadata": {
    "colab": {
     "base_uri": "https://localhost:8080/"
    },
    "id": "jVs3dlQ5vDDs",
    "outputId": "48b1c29a-5f26-4bdb-c03d-b6626e1a39fe"
   },
   "outputs": [
    {
     "name": "stdout",
     "output_type": "stream",
     "text": [
      "<class 'complex'>\n"
     ]
    }
   ],
   "source": [
    "print(type(1 + 5j))"
   ]
  },
  {
   "cell_type": "code",
   "execution_count": 116,
   "metadata": {
    "colab": {
     "base_uri": "https://localhost:8080/"
    },
    "id": "13vQMPgBvLVm",
    "outputId": "e5ebf5c6-ca6b-47f9-db06-163207ff289e"
   },
   "outputs": [
    {
     "name": "stdout",
     "output_type": "stream",
     "text": [
      "<class 'list'>\n"
     ]
    }
   ],
   "source": [
    "nilai_mahasiswa = [95, 83, 65, 78, 90]\n",
    "print(type(nilai_mahasiswa))"
   ]
  },
  {
   "cell_type": "code",
   "execution_count": 117,
   "metadata": {
    "colab": {
     "base_uri": "https://localhost:8080/"
    },
    "id": "3M9cvsGZvUiw",
    "outputId": "373b5061-e7da-4eed-a371-93020e0f8397"
   },
   "outputs": [
    {
     "name": "stdout",
     "output_type": "stream",
     "text": [
      "<class 'tuple'>\n"
     ]
    }
   ],
   "source": [
    "nilai = (95, 43)\n",
    "print(type(nilai))"
   ]
  },
  {
   "cell_type": "code",
   "execution_count": 118,
   "metadata": {
    "colab": {
     "base_uri": "https://localhost:8080/"
    },
    "id": "hSS6z9xuvfqI",
    "outputId": "11356cd4-19ec-483f-e658-0532f2fe59b5"
   },
   "outputs": [
    {
     "name": "stdout",
     "output_type": "stream",
     "text": [
      "<class 'dict'>\n"
     ]
    }
   ],
   "source": [
    "biodata = {'nama':'adi', 'id':2}\n",
    "print(type(biodata))"
   ]
  },
  {
   "cell_type": "markdown",
   "metadata": {
    "id": "vvNbYXp-vu3u"
   },
   "source": [
    "# 3. Conversion"
   ]
  },
  {
   "cell_type": "markdown",
   "metadata": {
    "id": "XLhr56IFwBWR"
   },
   "source": [
    "Python mendefinisikan fungsi konversi tipe untuk secara langsung mengonversi satu tipe data ke tipe lain yang berguna dalam pemrograman sehari-hari.\n",
    "1.   Jenis konversi implisit\n",
    "2.   Jenis konversi eksplisit\n",
    "\n",
    "\n"
   ]
  },
  {
   "cell_type": "markdown",
   "metadata": {
    "id": "NOjASm49wcQx"
   },
   "source": [
    "Jenis konversi implisit.\n",
    "Dalam konversi tipe implisit, interpreter Python secara otomatis mengonversi satu tipe data ke tipe data lainnya tanpa keterlibatan pengguna."
   ]
  },
  {
   "cell_type": "code",
   "execution_count": 119,
   "metadata": {
    "colab": {
     "base_uri": "https://localhost:8080/"
    },
    "id": "6FsdmaYuvlbO",
    "outputId": "e070949a-e5e3-4800-fa9a-9b45b4588b58"
   },
   "outputs": [
    {
     "name": "stdout",
     "output_type": "stream",
     "text": [
      "x is the type: <class 'int'>\n",
      "y is the type: <class 'float'>\n",
      "z is the type: <class 'float'>\n"
     ]
    }
   ],
   "source": [
    "x = 10\n",
    "y = 10.6\n",
    "z = x + y\n",
    "\n",
    "print('x is the type:', type(x))\n",
    "print('y is the type:', type(y))\n",
    "print('z is the type:', type(z))"
   ]
  },
  {
   "cell_type": "markdown",
   "metadata": {
    "id": "Ir_hm4fLxOPD"
   },
   "source": [
    "Jenis konversi eksplisit. Dalam Konversi Eksplisit, tipe data diubah secara manual oleh pengguna sesuai kebutuhan mereka."
   ]
  },
  {
   "cell_type": "code",
   "execution_count": 120,
   "metadata": {
    "colab": {
     "base_uri": "https://localhost:8080/"
    },
    "id": "S_hwB6u5w8dm",
    "outputId": "f1eba54a-066e-4860-8e31-b49b3c479eb4"
   },
   "outputs": [
    {
     "name": "stdout",
     "output_type": "stream",
     "text": [
      "After converting to interger base 2: After converting to float: 10010.0\n"
     ]
    }
   ],
   "source": [
    "# python code to demonstrate Type conversion\n",
    "# using int(), float()\n",
    "\n",
    "# initializing  string\n",
    "s = '10010'\n",
    "\n",
    "# printing string converting to int base 2\n",
    "c = int(s, 2)\n",
    "print(\"After converting to interger base 2: \", end=\"\")\n",
    "\n",
    "# printing string converting to float\n",
    "e = float(s)\n",
    "print(\"After converting to float: \", end=\"\")\n",
    "print(e)"
   ]
  },
  {
   "cell_type": "markdown",
   "metadata": {
    "id": "NPbWuNWCyRwm"
   },
   "source": [
    "# 4. List"
   ]
  },
  {
   "cell_type": "markdown",
   "metadata": {
    "id": "gIrsGd9Ry44K"
   },
   "source": [
    "List adalah struktur data pada python yang mampu menyimpan lebih dari satu data, seperti array. list dinyatakan sebagai  berikut ; [element 1, element2, ..]. Setiap nilai di dalam list disebut element. Dengan menggunakan list maka dapat mengelola nilai lebih dari satu tipe data."
   ]
  },
  {
   "cell_type": "code",
   "execution_count": 121,
   "metadata": {
    "colab": {
     "base_uri": "https://localhost:8080/"
    },
    "id": "xuXL5L6XyClI",
    "outputId": "3c4b1df7-606e-47f5-dde8-e0bfdc2bbbf5"
   },
   "outputs": [
    {
     "name": "stdout",
     "output_type": "stream",
     "text": [
      "[]\n"
     ]
    }
   ],
   "source": [
    "# membuat list kosong\n",
    "warna = []\n",
    "print(warna)"
   ]
  },
  {
   "cell_type": "code",
   "execution_count": 122,
   "metadata": {
    "colab": {
     "base_uri": "https://localhost:8080/"
    },
    "id": "q83_1-GbzL-_",
    "outputId": "b6fc673d-eac3-439b-f1ad-579dac38c30b"
   },
   "outputs": [
    {
     "name": "stdout",
     "output_type": "stream",
     "text": [
      "['membaca']\n"
     ]
    }
   ],
   "source": [
    "# membuat list dengan isi 1 elemen\n",
    "hobi = ['membaca']\n",
    "print(hobi)"
   ]
  },
  {
   "cell_type": "code",
   "execution_count": 123,
   "metadata": {
    "colab": {
     "base_uri": "https://localhost:8080/"
    },
    "id": "ZfUjEgMczXF6",
    "outputId": "d5969283-c565-4849-e5a6-26143a604d98"
   },
   "outputs": [
    {
     "name": "stdout",
     "output_type": "stream",
     "text": [
      "['jeruk', 'apel', 'mangga', 'duren']\n",
      "['buku', 21, True, 34.12]\n"
     ]
    }
   ],
   "source": [
    "# membuat list dengan isi banyak elemen\n",
    "buah = ['jeruk', 'apel', 'mangga', 'duren']\n",
    "laci = ['buku', 21, True, 34.12]\n",
    "\n",
    "print(buah)\n",
    "print(laci)"
   ]
  },
  {
   "cell_type": "markdown",
   "metadata": {
    "id": "ek5ZpAZ1z8li"
   },
   "source": [
    "# 5. Tuple"
   ]
  },
  {
   "cell_type": "markdown",
   "metadata": {
    "id": "9firZMjv0DMm"
   },
   "source": [
    "Sama halnya seperti list, namun isi atau elemen di dalam tuple tidak dapat diubah/manipulasi. Hanya dapat dipotong ketika ingin melihat beberapa nilai dalam tuple."
   ]
  },
  {
   "cell_type": "code",
   "execution_count": 124,
   "metadata": {
    "id": "vVhz84wizoaw"
   },
   "outputs": [],
   "source": [
    "# tuple bisa menggunakan tanda kurung\n",
    "t = (1234, 4321, 'Hello')\n",
    "\n",
    "# tuple bisa juga tanpa tanda kurung\n",
    "g = 1234, 4321, 'World!'\n",
    "\n",
    "# membuat tuple kosong\n",
    "kosong = ()\n",
    "\n",
    "# membuat Tuple yang hanya berisi satu (singleton), maka kita harus menambahkan tanda koma di belakangnya.\n",
    "satu = ('isinya',)"
   ]
  },
  {
   "cell_type": "code",
   "execution_count": 125,
   "metadata": {
    "colab": {
     "base_uri": "https://localhost:8080/"
    },
    "id": "OYryZoCX0uMT",
    "outputId": "45f5c6d2-78cc-466e-e30c-901a9f6cd386"
   },
   "outputs": [
    {
     "name": "stdout",
     "output_type": "stream",
     "text": [
      "(1234, 4321, 'Hello')\n",
      "(1234, 4321, 'World!')\n",
      "()\n",
      "('isinya',)\n"
     ]
    }
   ],
   "source": [
    "print(t)\n",
    "print(g)\n",
    "print(kosong)\n",
    "print(satu)"
   ]
  },
  {
   "cell_type": "markdown",
   "metadata": {
    "id": "hz3tjJok03KZ"
   },
   "source": [
    "Memotong tuple"
   ]
  },
  {
   "cell_type": "code",
   "execution_count": 126,
   "metadata": {
    "colab": {
     "base_uri": "https://localhost:8080/"
    },
    "id": "r1MLIj4f0ym4",
    "outputId": "22257ef9-e4be-41eb-f6a8-8b82f18643b5"
   },
   "outputs": [
    {
     "name": "stdout",
     "output_type": "stream",
     "text": [
      "(123, 'Petani Kode')\n"
     ]
    }
   ],
   "source": [
    "web = (123, 'Petani Kode', 'http://www.petanikode.com')\n",
    "\n",
    "# dapat dipotong dan hanya menampilkan indeks 0 dan 1 atau 123 dan petani kode\n",
    "print(web[0:2])"
   ]
  },
  {
   "cell_type": "markdown",
   "metadata": {
    "id": "Ogo2w2V91a8N"
   },
   "source": [
    "Mengakses nilai tuple"
   ]
  },
  {
   "cell_type": "code",
   "execution_count": 127,
   "metadata": {
    "colab": {
     "base_uri": "https://localhost:8080/"
    },
    "id": "5OSJxxJ11Nm0",
    "outputId": "6e841ec5-07d7-45f1-a358-ecb824facd0b"
   },
   "outputs": [
    {
     "name": "stdout",
     "output_type": "stream",
     "text": [
      "http://www.petanikode.com\n"
     ]
    }
   ],
   "source": [
    "print(web[2])"
   ]
  },
  {
   "cell_type": "markdown",
   "metadata": {
    "id": "iq76-a1I10Nf"
   },
   "source": [
    "Tuple Nested merupakan tuple yang berisikan tuple"
   ]
  },
  {
   "cell_type": "code",
   "execution_count": 128,
   "metadata": {
    "colab": {
     "base_uri": "https://localhost:8080/"
    },
    "id": "TlkckoQa1uNE",
    "outputId": "44b47fa1-2c72-4972-9056-71047c8be218"
   },
   "outputs": [
    {
     "name": "stdout",
     "output_type": "stream",
     "text": [
      "(('aku', 'cinta', 'kamu'), ('selama', 3, 'tahun'))\n"
     ]
    }
   ],
   "source": [
    "tuple1 = 'aku', 'cinta', 'kamu'\n",
    "tuple2 = 'selama', 3, 'tahun'\n",
    "tuple3 = (tuple1, tuple2) # nested tuple\n",
    "\n",
    "print(tuple3)"
   ]
  },
  {
   "cell_type": "markdown",
   "metadata": {
    "id": "Crpy_LvA2ezo"
   },
   "source": [
    "# 6. Subset, Calculate, Slicing, Dicing List"
   ]
  },
  {
   "cell_type": "markdown",
   "metadata": {
    "id": "6tr2nwGe2rfw"
   },
   "source": [
    "Untuk mengakses elemen dengan indeks, diperlukan tanda kurung siku. Perlu diingat bahwa index selalu dimulai dari angka 0. Elemen atau isi pertama dalam list merupakan index ke 0."
   ]
  },
  {
   "attachments": {
    "image.png": {
     "image/png": "[encoded data removed]"
    }
   },
   "cell_type": "markdown",
   "metadata": {},
   "source": [
    "![image.png](attachment:image.png)"
   ]
  },
  {
   "cell_type": "code",
   "execution_count": 129,
   "metadata": {
    "id": "gfmNDQZA2Nw5"
   },
   "outputs": [],
   "source": [
    "warna = ['merah', 'hijau', 'biru', 'kuning', 'putih', 'hitam']"
   ]
  },
  {
   "cell_type": "code",
   "execution_count": 130,
   "metadata": {
    "colab": {
     "base_uri": "https://localhost:8080/"
    },
    "id": "hn5IaPKn24-J",
    "outputId": "3bd1f60d-a113-46fe-e35c-182b0d02ceb3"
   },
   "outputs": [
    {
     "name": "stdout",
     "output_type": "stream",
     "text": [
      "merah\n"
     ]
    }
   ],
   "source": [
    "# ingin mengakses nilai pertama dalam list warna\n",
    "print(warna[0])"
   ]
  },
  {
   "cell_type": "code",
   "execution_count": 131,
   "metadata": {
    "colab": {
     "base_uri": "https://localhost:8080/"
    },
    "id": "UMdQKr8t28IT",
    "outputId": "fbbd7fe7-c67a-43ce-9e75-315007c8ec67"
   },
   "outputs": [
    {
     "name": "stdout",
     "output_type": "stream",
     "text": [
      "hijau\n"
     ]
    }
   ],
   "source": [
    "# ingin mengakses nilai kedua dalam list warna\n",
    "print(warna[1])"
   ]
  },
  {
   "cell_type": "code",
   "execution_count": 132,
   "metadata": {
    "colab": {
     "base_uri": "https://localhost:8080/"
    },
    "id": "qmhLnIMm2-Ba",
    "outputId": "135b6688-f5bf-4702-82bb-0e0975d8bd5f"
   },
   "outputs": [
    {
     "name": "stdout",
     "output_type": "stream",
     "text": [
      "kuning\n"
     ]
    }
   ],
   "source": [
    "# ingin mengakses nilai kedua dalam list warna\n",
    "print(warna[3])"
   ]
  },
  {
   "cell_type": "code",
   "execution_count": 133,
   "metadata": {
    "colab": {
     "base_uri": "https://localhost:8080/"
    },
    "id": "laQCczCr2_7_",
    "outputId": "ad062020-bec0-419c-ee31-80385206544d"
   },
   "outputs": [
    {
     "name": "stdout",
     "output_type": "stream",
     "text": [
      "hitam\n"
     ]
    }
   ],
   "source": [
    "# ingin mengakses nilai keempat dalam list warna\n",
    "print(warna[5])"
   ]
  },
  {
   "cell_type": "markdown",
   "metadata": {
    "id": "znLmMQYm3EbY"
   },
   "source": [
    "Index negatif. Terdapat cara lain dalam mengakses elemen dalam list, yaitu dengan menggunakan index negatif"
   ]
  },
  {
   "attachments": {
    "image.png": {
     "image/png": "[encoded data removed]"
    }
   },
   "cell_type": "markdown",
   "metadata": {},
   "source": [
    "![image.png](attachment:image.png)"
   ]
  },
  {
   "cell_type": "code",
   "execution_count": 134,
   "metadata": {
    "id": "iv3egpdo3Lsx"
   },
   "outputs": [],
   "source": [
    "warna = ['merah', 'hijau', 'biru', 'kuning', 'putih', 'hitam']"
   ]
  },
  {
   "cell_type": "code",
   "execution_count": 135,
   "metadata": {
    "colab": {
     "base_uri": "https://localhost:8080/"
    },
    "id": "LfaQ0G5D3BsU",
    "outputId": "a19ad9ff-ad8b-4e8a-a5a5-48a37331ca2e"
   },
   "outputs": [
    {
     "name": "stdout",
     "output_type": "stream",
     "text": [
      "hitam\n"
     ]
    }
   ],
   "source": [
    "# Ingin mengakses elemen terakhir di dalam list.\n",
    "print(warna[-1])"
   ]
  },
  {
   "cell_type": "code",
   "execution_count": 136,
   "metadata": {
    "colab": {
     "base_uri": "https://localhost:8080/"
    },
    "id": "si6BFt9b3HZ-",
    "outputId": "76a2710f-9fb5-4e7b-be02-c29a86eb3afa"
   },
   "outputs": [
    {
     "name": "stdout",
     "output_type": "stream",
     "text": [
      "putih\n"
     ]
    }
   ],
   "source": [
    "print(warna[-2])"
   ]
  },
  {
   "cell_type": "code",
   "execution_count": 137,
   "metadata": {
    "colab": {
     "base_uri": "https://localhost:8080/"
    },
    "id": "oEZLOtKc3I1m",
    "outputId": "74cb8096-af57-4079-9902-a2025d25f39d"
   },
   "outputs": [
    {
     "name": "stdout",
     "output_type": "stream",
     "text": [
      "kuning\n"
     ]
    }
   ],
   "source": [
    "print(warna[-3])"
   ]
  },
  {
   "cell_type": "code",
   "execution_count": 138,
   "metadata": {
    "colab": {
     "base_uri": "https://localhost:8080/"
    },
    "id": "9kTeQ8iO3PTY",
    "outputId": "457d1ae1-f389-4e36-f028-214c0da93454"
   },
   "outputs": [
    {
     "name": "stdout",
     "output_type": "stream",
     "text": [
      "hijau\n"
     ]
    }
   ],
   "source": [
    "print(warna[-5])"
   ]
  },
  {
   "cell_type": "markdown",
   "metadata": {
    "id": "IrwY-vUW3XP9"
   },
   "source": [
    "Penggunaaan dasar irisian. Start : Stop: Step. Start merupakan awalan elemen yang ingin ditampilkan, Stop merupakan elemen yang ingin diakhiri (bersifat ekslusif, karena tidak mengambil nilai yang tertera), Step merupakan loncatan yang diinginkan."
   ]
  },
  {
   "cell_type": "code",
   "execution_count": 139,
   "metadata": {
    "id": "7q82lztQ3R_Z"
   },
   "outputs": [],
   "source": [
    "# buat list dasar\n",
    "nums = [10, 20, 30, 40, 50, 60, 70, 80, 90]"
   ]
  },
  {
   "cell_type": "code",
   "execution_count": 140,
   "metadata": {
    "colab": {
     "base_uri": "https://localhost:8080/"
    },
    "id": "kiKSDDkN3j2Z",
    "outputId": "9fd427a1-0e19-46e6-fe25-b2724ad92f3e"
   },
   "outputs": [
    {
     "data": {
      "text/plain": [
       "[30, 40, 50, 60, 70]"
      ]
     },
     "execution_count": 140,
     "metadata": {},
     "output_type": "execute_result"
    }
   ],
   "source": [
    "# ingin mengakses isi dalam list dimulai dari index ke 2 sampai ke 6. Hasil yang ditampilkan yaitu index 0, 1, 2, 3, 4, 5, 6.\n",
    "some_nums = nums[2 : 7]\n",
    "some_nums"
   ]
  },
  {
   "cell_type": "code",
   "execution_count": 141,
   "metadata": {
    "colab": {
     "base_uri": "https://localhost:8080/"
    },
    "id": "hREgu7F23r5e",
    "outputId": "a67f160a-099e-4bbe-961a-2b7d05f4a8c8"
   },
   "outputs": [
    {
     "data": {
      "text/plain": [
       "[10, 20, 30]"
      ]
     },
     "execution_count": 141,
     "metadata": {},
     "output_type": "execute_result"
    }
   ],
   "source": [
    "# ingin mengakses isi dalam list dimulai dari index ke 0 sampai ke 2. Hasil yang ditampilkan yaitu index 0, 1, 2.\n",
    "some_nums = nums[0:3]\n",
    "some_nums"
   ]
  },
  {
   "cell_type": "code",
   "execution_count": 142,
   "metadata": {
    "colab": {
     "base_uri": "https://localhost:8080/"
    },
    "id": "FXKlmu6-34xm",
    "outputId": "437b0ef5-c2af-41cf-c181-38bfb48af047"
   },
   "outputs": [
    {
     "data": {
      "text/plain": [
       "[10, 20, 30, 40, 50]"
      ]
     },
     "execution_count": 142,
     "metadata": {},
     "output_type": "execute_result"
    }
   ],
   "source": [
    "# ingin mengakses isi dalam list dimulai dari index ke 0 sampai ke 4. Hasil yang ditampilkan yaitu index 0, 1, 2, 3, 4.\n",
    "some_nums = nums [0 : 5]\n",
    "some_nums"
   ]
  },
  {
   "cell_type": "markdown",
   "metadata": {
    "id": "3O74QjIq4I5k"
   },
   "source": [
    "Mengambil N-Elemen Pertama dari list.\n",
    "angka [: 5] sama dengan angka [0: 5] . Kombinasi ini adalah jalan pintas yang berguna untuk mengambil n elemen pertama dari List."
   ]
  },
  {
   "cell_type": "code",
   "execution_count": 143,
   "metadata": {},
   "outputs": [],
   "source": [
    "# buat list dasar\n",
    "nums = [10, 20, 30, 40, 50, 60, 70, 80, 90]"
   ]
  },
  {
   "cell_type": "code",
   "execution_count": 144,
   "metadata": {
    "colab": {
     "base_uri": "https://localhost:8080/"
    },
    "id": "ClVnFU2P4AB6",
    "outputId": "9686609e-f5ee-4039-e2fb-fda8b706e7b8"
   },
   "outputs": [
    {
     "data": {
      "text/plain": [
       "[10, 20, 30, 40, 50]"
      ]
     },
     "execution_count": 144,
     "metadata": {},
     "output_type": "execute_result"
    }
   ],
   "source": [
    "nums [:5]"
   ]
  },
  {
   "cell_type": "code",
   "execution_count": 145,
   "metadata": {
    "colab": {
     "base_uri": "https://localhost:8080/"
    },
    "id": "mwpDek1H4ZJ9",
    "outputId": "36c26327-ee9c-43b2-9aea-bb0a3555c780"
   },
   "outputs": [
    {
     "data": {
      "text/plain": [
       "[10, 20, 30]"
      ]
     },
     "execution_count": 145,
     "metadata": {},
     "output_type": "execute_result"
    }
   ],
   "source": [
    "nums[:3]"
   ]
  },
  {
   "cell_type": "code",
   "execution_count": 146,
   "metadata": {
    "colab": {
     "base_uri": "https://localhost:8080/"
    },
    "id": "iUu7vYV-4emT",
    "outputId": "0ff1ff1b-5d14-413e-d975-361d6db9f3c8"
   },
   "outputs": [
    {
     "data": {
      "text/plain": [
       "[10, 20, 30, 40, 50, 60, 70]"
      ]
     },
     "execution_count": 146,
     "metadata": {},
     "output_type": "execute_result"
    }
   ],
   "source": [
    "nums [ : 7]"
   ]
  },
  {
   "cell_type": "markdown",
   "metadata": {
    "id": "b7sUASW-4pks"
   },
   "source": [
    "Mengambil N-Elemen Terakhir dari list. Indeks negatif memungkinkan kita untuk dengan mudah mengambil n-elemen terakhir dari list"
   ]
  },
  {
   "cell_type": "code",
   "execution_count": 147,
   "metadata": {},
   "outputs": [],
   "source": [
    "# buat list dasar\n",
    "nums = [10, 20, 30, 40, 50, 60, 70, 80, 90]"
   ]
  },
  {
   "cell_type": "code",
   "execution_count": 148,
   "metadata": {
    "colab": {
     "base_uri": "https://localhost:8080/"
    },
    "id": "QUaj9KU04hfC",
    "outputId": "1954e03a-9484-4ffc-f6be-3964184ff97e"
   },
   "outputs": [
    {
     "data": {
      "text/plain": [
       "[70, 80, 90]"
      ]
     },
     "execution_count": 148,
     "metadata": {},
     "output_type": "execute_result"
    }
   ],
   "source": [
    "nums [-3:]"
   ]
  },
  {
   "cell_type": "code",
   "execution_count": 149,
   "metadata": {
    "colab": {
     "base_uri": "https://localhost:8080/"
    },
    "id": "iwsNa0MR43-2",
    "outputId": "c8e21570-0da4-400e-ec19-1d3737339423"
   },
   "outputs": [
    {
     "data": {
      "text/plain": [
       "[50, 60, 70, 80, 90]"
      ]
     },
     "execution_count": 149,
     "metadata": {},
     "output_type": "execute_result"
    }
   ],
   "source": [
    "nums[-5:]"
   ]
  },
  {
   "cell_type": "markdown",
   "metadata": {
    "id": "9HnGP8az47z5"
   },
   "source": [
    "Mengambil Semua Elemen Kecuali N Elemen Terakhir Dari List"
   ]
  },
  {
   "cell_type": "code",
   "execution_count": 150,
   "metadata": {
    "colab": {
     "base_uri": "https://localhost:8080/"
    },
    "id": "Fh3-x_U146fd",
    "outputId": "fd0cb65d-4629-4946-9c16-998dfe730777"
   },
   "outputs": [
    {
     "data": {
      "text/plain": [
       "[10, 20, 30, 40, 50, 60, 70, 80]"
      ]
     },
     "execution_count": 150,
     "metadata": {},
     "output_type": "execute_result"
    }
   ],
   "source": [
    "nums[:-1]"
   ]
  },
  {
   "cell_type": "code",
   "execution_count": 151,
   "metadata": {
    "colab": {
     "base_uri": "https://localhost:8080/"
    },
    "id": "F8EF-qbj5EuG",
    "outputId": "b2939860-c023-4c95-eebc-b5b99c09c255"
   },
   "outputs": [
    {
     "data": {
      "text/plain": [
       "[10, 20, 30, 40, 50, 60, 70]"
      ]
     },
     "execution_count": 151,
     "metadata": {},
     "output_type": "execute_result"
    }
   ],
   "source": [
    "nums[:-2]"
   ]
  },
  {
   "cell_type": "markdown",
   "metadata": {
    "id": "j-OXQFG65K62"
   },
   "source": [
    "Mengambil setiap elemen ke N dari List"
   ]
  },
  {
   "cell_type": "code",
   "execution_count": 152,
   "metadata": {
    "id": "51qqmkHf5v8z"
   },
   "outputs": [],
   "source": [
    "nums = [10, 20, 30, 40, 50, 60, 70, 80, 90]"
   ]
  },
  {
   "cell_type": "code",
   "execution_count": 153,
   "metadata": {
    "colab": {
     "base_uri": "https://localhost:8080/"
    },
    "id": "RhpoGc2-5GnI",
    "outputId": "6ebd3dca-6af1-4f8e-b6a8-4819b0d555ea"
   },
   "outputs": [
    {
     "data": {
      "text/plain": [
       "[10, 30, 50, 70, 90]"
      ]
     },
     "execution_count": 153,
     "metadata": {},
     "output_type": "execute_result"
    }
   ],
   "source": [
    "# membuat nums menjadi loncatan 2 kali. maka step parameter berperan\n",
    "nums[::2]"
   ]
  },
  {
   "cell_type": "code",
   "execution_count": 154,
   "metadata": {
    "colab": {
     "base_uri": "https://localhost:8080/"
    },
    "id": "AjS9YBrX5f9m",
    "outputId": "a3639035-434a-4eeb-94e6-89cdd0c4318e"
   },
   "outputs": [
    {
     "data": {
      "text/plain": [
       "[10, 40, 70]"
      ]
     },
     "execution_count": 154,
     "metadata": {},
     "output_type": "execute_result"
    }
   ],
   "source": [
    "# membuat nums meloncat 3 kali.\n",
    "nums[::3]"
   ]
  },
  {
   "cell_type": "code",
   "execution_count": 155,
   "metadata": {
    "colab": {
     "base_uri": "https://localhost:8080/"
    },
    "id": "_fEEiZcg5t5f",
    "outputId": "9c229a1f-4d65-4222-f2d5-0815c18105b3"
   },
   "outputs": [
    {
     "data": {
      "text/plain": [
       "[10, 30, 50, 70, 90]"
      ]
     },
     "execution_count": 155,
     "metadata": {},
     "output_type": "execute_result"
    }
   ],
   "source": [
    "# sebelumnya menghilangkan start/ stop parameter dan hanya menggunakan step.\n",
    "# maka sekarang coba dengan menggunakan start\n",
    "nums[0::2]"
   ]
  },
  {
   "cell_type": "code",
   "execution_count": 156,
   "metadata": {
    "colab": {
     "base_uri": "https://localhost:8080/"
    },
    "id": "_z4EHX0h6E0T",
    "outputId": "b13e3a37-389f-4537-80c0-873b9cdb11a4"
   },
   "outputs": [
    {
     "data": {
      "text/plain": [
       "[30, 50, 70, 90]"
      ]
     },
     "execution_count": 156,
     "metadata": {},
     "output_type": "execute_result"
    }
   ],
   "source": [
    "# mulai dari indeks ke 2 dan loncatan 2\n",
    "nums[2::2]"
   ]
  },
  {
   "cell_type": "code",
   "execution_count": 157,
   "metadata": {
    "colab": {
     "base_uri": "https://localhost:8080/"
    },
    "id": "Q7N7tSRy6Jfj",
    "outputId": "bc4809d2-c3b4-476a-c2d0-070622f48e65"
   },
   "outputs": [
    {
     "data": {
      "text/plain": [
       "[20, 40, 60]"
      ]
     },
     "execution_count": 157,
     "metadata": {},
     "output_type": "execute_result"
    }
   ],
   "source": [
    "# sekarang mulai dengan start : stop : step\n",
    "nums[1 : -3 : 2]"
   ]
  },
  {
   "cell_type": "markdown",
   "metadata": {
    "id": "NTc7kzL96WZ3"
   },
   "source": [
    "Menggunakan langkah negatif dan list terbalik"
   ]
  },
  {
   "cell_type": "code",
   "execution_count": 158,
   "metadata": {
    "id": "MMghW93b6TnK"
   },
   "outputs": [],
   "source": [
    "nums = [10, 20, 30, 40, 50, 60, 70, 80, 90]"
   ]
  },
  {
   "cell_type": "code",
   "execution_count": 159,
   "metadata": {
    "colab": {
     "base_uri": "https://localhost:8080/"
    },
    "id": "UN0amVxo6b-S",
    "outputId": "f5fb55cb-28a1-405f-c2db-89c4f0a1132d"
   },
   "outputs": [
    {
     "data": {
      "text/plain": [
       "[80, 70, 60, 50, 40, 30, 20, 10]"
      ]
     },
     "execution_count": 159,
     "metadata": {},
     "output_type": "execute_result"
    }
   ],
   "source": [
    "# menggunakan negatif step untuk mendapatkan list terbalik\n",
    "nums[-2::-1]"
   ]
  },
  {
   "cell_type": "code",
   "execution_count": 160,
   "metadata": {
    "colab": {
     "base_uri": "https://localhost:8080/"
    },
    "id": "RSciX5bx6jL6",
    "outputId": "7ee5b0f8-fe81-4975-fc8d-306933762380"
   },
   "outputs": [
    {
     "data": {
      "text/plain": [
       "[70, 60, 50, 40, 30, 20, 10]"
      ]
     },
     "execution_count": 160,
     "metadata": {},
     "output_type": "execute_result"
    }
   ],
   "source": [
    "nums[-3::-1]"
   ]
  },
  {
   "cell_type": "code",
   "execution_count": 161,
   "metadata": {
    "colab": {
     "base_uri": "https://localhost:8080/"
    },
    "id": "fHEirsB66nlZ",
    "outputId": "8fc1c4df-f92c-444d-e77a-618bc46f2526"
   },
   "outputs": [
    {
     "data": {
      "text/plain": [
       "[80, 70, 60, 50, 40, 30]"
      ]
     },
     "execution_count": 161,
     "metadata": {},
     "output_type": "execute_result"
    }
   ],
   "source": [
    "nums[-2:1:-1]"
   ]
  },
  {
   "cell_type": "markdown",
   "metadata": {
    "id": "J0nohX7_6vBS"
   },
   "source": [
    "# 7. Objek Slice"
   ]
  },
  {
   "cell_type": "markdown",
   "metadata": {
    "id": "kScfvePHRyKN"
   },
   "source": [
    "Digunakan untuk melakukan potongan berulang kali"
   ]
  },
  {
   "cell_type": "code",
   "execution_count": 162,
   "metadata": {
    "id": "hbzOBiCK6teZ"
   },
   "outputs": [],
   "source": [
    "five_items_after_second = slice (2, 2 + 5) # mulai indeks ke 2 sampai ke 7 atau sama seperti [2:7]\n",
    "\n",
    "nums = [10, 20, 30, 40, 50, 60, 70, 80, 90]\n",
    "\n",
    "colors = ['red', 'green', 'blue', 'yellow', 'white', 'black', 'silver']"
   ]
  },
  {
   "cell_type": "code",
   "execution_count": 163,
   "metadata": {
    "colab": {
     "base_uri": "https://localhost:8080/"
    },
    "id": "-_i9ZMjmSTr4",
    "outputId": "667d4bed-b489-4dcf-afdd-23c59623a3fe"
   },
   "outputs": [
    {
     "data": {
      "text/plain": [
       "[30, 40, 50, 60, 70]"
      ]
     },
     "execution_count": 163,
     "metadata": {},
     "output_type": "execute_result"
    }
   ],
   "source": [
    "nums[five_items_after_second]"
   ]
  },
  {
   "cell_type": "code",
   "execution_count": 164,
   "metadata": {
    "colab": {
     "base_uri": "https://localhost:8080/"
    },
    "id": "X1YRRQxuSw-y",
    "outputId": "b2a4362a-9829-47cb-9d3e-add9e85d7236"
   },
   "outputs": [
    {
     "data": {
      "text/plain": [
       "['blue', 'yellow', 'white', 'black', 'silver']"
      ]
     },
     "execution_count": 164,
     "metadata": {},
     "output_type": "execute_result"
    }
   ],
   "source": [
    "colors[five_items_after_second]"
   ]
  },
  {
   "cell_type": "markdown",
   "metadata": {
    "id": "zJWPDfqw62GP"
   },
   "source": [
    "# 8. Manipulate Lists"
   ]
  },
  {
   "cell_type": "markdown",
   "metadata": {
    "id": "CtADn0QFS5xj"
   },
   "source": [
    "List dalam python dapat dimanipulasi atau diubah-ubah sesuai kehendak"
   ]
  },
  {
   "cell_type": "code",
   "execution_count": 165,
   "metadata": {
    "id": "JnfW7kt37BWS"
   },
   "outputs": [],
   "source": [
    "# list awal\n",
    "z = [3, 7, 4, 2]\n",
    "\n",
    "# ingin mengubah nilai 7 menjadi 9. nilai 7 merupakan indeks ke 1\n",
    "z[1] = 9"
   ]
  },
  {
   "cell_type": "code",
   "execution_count": 166,
   "metadata": {
    "colab": {
     "base_uri": "https://localhost:8080/"
    },
    "id": "7DvgU7yGTUH1",
    "outputId": "362a054f-40a3-4fbf-b54d-6d5f0b334b28"
   },
   "outputs": [
    {
     "name": "stdout",
     "output_type": "stream",
     "text": [
      "[3, 9, 4, 2]\n"
     ]
    }
   ],
   "source": [
    "# maka nilai dari list z berubah\n",
    "print(z)"
   ]
  },
  {
   "cell_type": "markdown",
   "metadata": {
    "id": "nuhMw7zGThdO"
   },
   "source": [
    "Metode index. Metode yang digunakan untuk mengetahui indeks ke berapa dalam sebuah nilai di list."
   ]
  },
  {
   "cell_type": "code",
   "execution_count": 167,
   "metadata": {
    "id": "-3RQs3MUTriF"
   },
   "outputs": [],
   "source": [
    "# define a list\n",
    "z = [4, 2, 5, 4, 10, 4]"
   ]
  },
  {
   "cell_type": "code",
   "execution_count": 168,
   "metadata": {
    "colab": {
     "base_uri": "https://localhost:8080/"
    },
    "id": "JBTNDtcdTr7m",
    "outputId": "ea6f931f-4423-443e-fdee-9693dd61770e"
   },
   "outputs": [
    {
     "name": "stdout",
     "output_type": "stream",
     "text": [
      "0\n"
     ]
    }
   ],
   "source": [
    "print(z.index(4)) # nilai 4 merupakan indeks ke berapa?"
   ]
  },
  {
   "cell_type": "code",
   "execution_count": 169,
   "metadata": {
    "colab": {
     "base_uri": "https://localhost:8080/"
    },
    "id": "Z9r87XPRT5Zu",
    "outputId": "e7aa5ee3-a3a7-45d0-cde5-46551c082bbb"
   },
   "outputs": [
    {
     "name": "stdout",
     "output_type": "stream",
     "text": [
      "2\n"
     ]
    }
   ],
   "source": [
    "print(z.index(5))  # nilai 5 merupakan indeks ke berapa?"
   ]
  },
  {
   "cell_type": "code",
   "execution_count": 170,
   "metadata": {
    "colab": {
     "base_uri": "https://localhost:8080/"
    },
    "id": "A7nNFaZ9UDr3",
    "outputId": "8b4c84d8-ea28-4019-e812-0f373d866145"
   },
   "outputs": [
    {
     "name": "stdout",
     "output_type": "stream",
     "text": [
      "4\n"
     ]
    }
   ],
   "source": [
    "print(z.index(10)) # nilai 10 merupakan indeks ke berapa?"
   ]
  },
  {
   "cell_type": "markdown",
   "metadata": {
    "id": "3RtApXILUIHg"
   },
   "source": [
    "Metode Count. Mengetahui banyaknya angka dalam sebuah nilai"
   ]
  },
  {
   "cell_type": "code",
   "execution_count": 171,
   "metadata": {
    "colab": {
     "base_uri": "https://localhost:8080/"
    },
    "id": "jpGl3ZQpUXU9",
    "outputId": "02e9d076-0fe1-4ccf-cc54-27b667692c83"
   },
   "outputs": [
    {
     "data": {
      "text/plain": [
       "1"
      ]
     },
     "execution_count": 171,
     "metadata": {},
     "output_type": "execute_result"
    }
   ],
   "source": [
    "# membuat list dengan nama random_list\n",
    "random_list = [4, 1, 5, 4, 10, 4]\n",
    "\n",
    "# ingin mengetahui berapa banyak angka 5 di dalam list\n",
    "random_list.count(5)"
   ]
  },
  {
   "cell_type": "code",
   "execution_count": 172,
   "metadata": {
    "colab": {
     "base_uri": "https://localhost:8080/"
    },
    "id": "8LmZZiUlUosN",
    "outputId": "2da6a0e8-2f90-4e07-bbf3-d1e06e148480"
   },
   "outputs": [
    {
     "name": "stdout",
     "output_type": "stream",
     "text": [
      "3\n"
     ]
    }
   ],
   "source": [
    "# ingin mengetahui berapa banyak angka 4 di dalam list\n",
    "print(random_list.count(4))"
   ]
  },
  {
   "cell_type": "code",
   "execution_count": 173,
   "metadata": {
    "colab": {
     "base_uri": "https://localhost:8080/"
    },
    "id": "bHTKOq9iUyyu",
    "outputId": "23b431b8-de95-44b5-d292-fa514f4a8eea"
   },
   "outputs": [
    {
     "name": "stdout",
     "output_type": "stream",
     "text": [
      "1\n"
     ]
    }
   ],
   "source": [
    "# ingin mengetahui berapa banyak angka 10 di dalam list\n",
    "print(random_list.count(10))"
   ]
  },
  {
   "cell_type": "markdown",
   "metadata": {
    "id": "CyaM-81_U62W"
   },
   "source": [
    "Metode Sort. Untuk mensortir atau mengurutan nilai di dalam list. Dari A ke Z atau Z ke A. Dari kecil ke besar atau besar ke kecil"
   ]
  },
  {
   "cell_type": "code",
   "execution_count": 174,
   "metadata": {
    "id": "9gEwCxJaVJ4W"
   },
   "outputs": [],
   "source": [
    "# list baru\n",
    "z = [3, 7, 4, 2, 6, 4, 3, 1]"
   ]
  },
  {
   "cell_type": "code",
   "execution_count": 175,
   "metadata": {
    "colab": {
     "base_uri": "https://localhost:8080/"
    },
    "id": "KN8i5-kmVKE6",
    "outputId": "c8d90efb-572f-474f-a90c-9dc44dc1f387"
   },
   "outputs": [
    {
     "name": "stdout",
     "output_type": "stream",
     "text": [
      "[1, 2, 3, 3, 4, 4, 6, 7]\n"
     ]
    }
   ],
   "source": [
    "# mensortir dari nilai terkecil ke terbesar, A ke Z\n",
    "z.sort()\n",
    "print(z)"
   ]
  },
  {
   "cell_type": "code",
   "execution_count": 176,
   "metadata": {
    "colab": {
     "base_uri": "https://localhost:8080/"
    },
    "id": "ZRCIz-FLVKdJ",
    "outputId": "bfd4421d-8989-4d63-f62f-bfe14d1585ca"
   },
   "outputs": [
    {
     "name": "stdout",
     "output_type": "stream",
     "text": [
      "[7, 6, 4, 4, 3, 3, 2, 1]\n"
     ]
    }
   ],
   "source": [
    "# mensortir dari nilai terbesar ke terkecil, Z ke A\n",
    "z.sort(reverse=True)\n",
    "print(z)"
   ]
  },
  {
   "cell_type": "markdown",
   "metadata": {
    "id": "MtkH1k1AVmhG"
   },
   "source": [
    "Metode POP. Digunakan untuk menghapus nilai di dalam indeks, dengan mengakses indeks."
   ]
  },
  {
   "cell_type": "code",
   "execution_count": 177,
   "metadata": {
    "id": "l3xKeyIVVm-f"
   },
   "outputs": [],
   "source": [
    "# list baru\n",
    "z = [7, 4, 3, 3, 6, 8]"
   ]
  },
  {
   "cell_type": "code",
   "execution_count": 178,
   "metadata": {
    "colab": {
     "base_uri": "https://localhost:8080/"
    },
    "id": "lna1sA34VnQB",
    "outputId": "4f9780bf-b81f-404b-c8d5-2ee763c2bde7"
   },
   "outputs": [
    {
     "name": "stdout",
     "output_type": "stream",
     "text": [
      "4\n",
      "[7, 3, 3, 6, 8]\n"
     ]
    }
   ],
   "source": [
    "# ingin menghapus nilai yang berada pada indeks ke 1\n",
    "print(z.pop(1))\n",
    "print(z)"
   ]
  },
  {
   "cell_type": "code",
   "execution_count": 179,
   "metadata": {
    "colab": {
     "base_uri": "https://localhost:8080/"
    },
    "id": "D6FOLxxTVnYC",
    "outputId": "8121c941-e9eb-43b7-e0fe-86f35920cca6"
   },
   "outputs": [
    {
     "name": "stdout",
     "output_type": "stream",
     "text": [
      "[7, 3, 3, 6, 8]\n",
      "3\n",
      "[7, 3, 6, 8]\n"
     ]
    }
   ],
   "source": [
    "print(z)\n",
    "\n",
    "# ingin menghapus nilai yang berada pada indeks ke 2\n",
    "print(z.pop(2))\n",
    "print(z)"
   ]
  },
  {
   "cell_type": "code",
   "execution_count": 180,
   "metadata": {
    "colab": {
     "base_uri": "https://localhost:8080/"
    },
    "id": "DjnfJ8bRWQz2",
    "outputId": "d4727211-1620-4f6b-d6ea-25360e623b55"
   },
   "outputs": [
    {
     "name": "stdout",
     "output_type": "stream",
     "text": [
      "[7, 3, 6, 8]\n",
      "8\n",
      "[7, 3, 6]\n"
     ]
    }
   ],
   "source": [
    "print(z)\n",
    "\n",
    "# ingin menghapus nilai yang berada pada indeks terakhir\n",
    "print(z.pop(-1))\n",
    "print(z)"
   ]
  },
  {
   "cell_type": "markdown",
   "metadata": {
    "id": "S68neP23WW0l"
   },
   "source": [
    "Metode append. Digunakan untuk menambah nilai atau elemen yang berada di list terakhir."
   ]
  },
  {
   "cell_type": "code",
   "execution_count": 181,
   "metadata": {
    "id": "X0sfvr79WXA0"
   },
   "outputs": [],
   "source": [
    "# list baru\n",
    "z = [7, 4, 3, 2]"
   ]
  },
  {
   "cell_type": "code",
   "execution_count": 182,
   "metadata": {
    "colab": {
     "base_uri": "https://localhost:8080/"
    },
    "id": "EwNxEyzXWXKR",
    "outputId": "425c213f-07fb-4cd8-c935-0043b579986c"
   },
   "outputs": [
    {
     "name": "stdout",
     "output_type": "stream",
     "text": [
      "[7, 4, 3, 2]\n",
      "[7, 4, 3, 2, 0]\n"
     ]
    }
   ],
   "source": [
    "print(z)\n",
    "\n",
    "# menambahkan nilai 0\n",
    "z.append(0)\n",
    "print(z)\n",
    "\n",
    "# OUTPUT PERTAMA MERUPAKAN LIST Z SEBELUM MENGGUNAKAN METODE APPEND\n",
    "# OUTPUT KEDUA MERUPAKAN LIST Z SESUDAH MENGGUNAKAN METODE APPEND"
   ]
  },
  {
   "cell_type": "code",
   "execution_count": 183,
   "metadata": {
    "colab": {
     "base_uri": "https://localhost:8080/"
    },
    "id": "PfdeBcnFWXTl",
    "outputId": "30ade266-e327-4082-cdb0-7b76f7752523"
   },
   "outputs": [
    {
     "name": "stdout",
     "output_type": "stream",
     "text": [
      "[7, 4, 3, 2, 0, 9]\n"
     ]
    }
   ],
   "source": [
    "# ingin menambahkan nilai 9\n",
    "z.append(9)\n",
    "print(z)"
   ]
  },
  {
   "cell_type": "markdown",
   "metadata": {
    "id": "iV1W6gbkXMxR"
   },
   "source": [
    "Metode insert. Sama seperti append, tetapi dapat memilih untuk menambahkan berapapun banyak nilai, serta letaknya."
   ]
  },
  {
   "cell_type": "code",
   "execution_count": 184,
   "metadata": {
    "colab": {
     "base_uri": "https://localhost:8080/"
    },
    "id": "gJyrAYIaXVah",
    "outputId": "1b8c6005-5db9-4fe7-de7c-4dd213c71944"
   },
   "outputs": [
    {
     "name": "stdout",
     "output_type": "stream",
     "text": [
      "[9, 7, 3, 3, 4, 5]\n"
     ]
    }
   ],
   "source": [
    "z = [7, 3, 3, 4, 5]\n",
    "\n",
    "# ingin menambahkan nilai 9 di indeks ke 0\n",
    "z.insert(0, 9)\n",
    "print(z)"
   ]
  },
  {
   "cell_type": "code",
   "execution_count": 185,
   "metadata": {
    "colab": {
     "base_uri": "https://localhost:8080/"
    },
    "id": "9tWVNPvmXVnZ",
    "outputId": "7de64986-363f-4535-f09b-c254c665c7a7"
   },
   "outputs": [
    {
     "name": "stdout",
     "output_type": "stream",
     "text": [
      "[9, 7, 3, 3, 4, [1, 2], 5]\n"
     ]
    }
   ],
   "source": [
    "# ingin menambahkan nilai di indeks ke 4\n",
    "z.insert(5, [1, 2])\n",
    "print(z)"
   ]
  },
  {
   "cell_type": "markdown",
   "metadata": {
    "id": "4gb1AORC7CDZ"
   },
   "source": [
    "# 9. Replace List Elements"
   ]
  },
  {
   "cell_type": "markdown",
   "metadata": {
    "id": "C-N8LDQnX4Bl"
   },
   "source": [
    "Mengganti Bagian Dari List"
   ]
  },
  {
   "cell_type": "code",
   "execution_count": 186,
   "metadata": {
    "colab": {
     "base_uri": "https://localhost:8080/"
    },
    "id": "1TFRommb7GgK",
    "outputId": "59ba60fe-ebd4-4581-e9dd-c5c838e99858"
   },
   "outputs": [
    {
     "name": "stdout",
     "output_type": "stream",
     "text": [
      "[1, 2, 3, 4, 50, 60, 70, 80, 90]\n"
     ]
    }
   ],
   "source": [
    "# list\n",
    "nums = [10, 20, 30, 40, 50, 60, 70, 80, 90]\n",
    "\n",
    "# ingin mengganti nilai dari indeks [:4]\n",
    "nums[:4] = [1, 2, 3, 4]\n",
    "print(nums)"
   ]
  },
  {
   "cell_type": "code",
   "execution_count": 187,
   "metadata": {
    "colab": {
     "base_uri": "https://localhost:8080/"
    },
    "id": "W8Qi-wXqYTZp",
    "outputId": "64da6565-cc28-4060-9d43-9b46286fecf5"
   },
   "outputs": [
    {
     "name": "stdout",
     "output_type": "stream",
     "text": [
      "[1, 2, 3, 4, 5, 6, 7, 8, 50, 60, 70, 80, 90]\n"
     ]
    }
   ],
   "source": [
    "# dapat mengganti dengan banyaknya nilai yang diinginkan ex lebih banyak\n",
    "nums = [10, 20, 30, 40, 50, 60, 70, 80, 90]\n",
    "nums[:4] = [1, 2, 3, 4, 5, 6, 7, 8]\n",
    "print(nums)"
   ]
  },
  {
   "cell_type": "code",
   "execution_count": 188,
   "metadata": {
    "colab": {
     "base_uri": "https://localhost:8080/"
    },
    "id": "hdbANAO5Ynrk",
    "outputId": "194ba441-e066-4b51-c58f-0d3e7f5b18d4"
   },
   "outputs": [
    {
     "name": "stdout",
     "output_type": "stream",
     "text": [
      "[1, 2, 50, 60, 70, 80, 90]\n"
     ]
    }
   ],
   "source": [
    "# dapat mengganti dengan banyaknya nilai yang diinginkan ex lebih sedikit\n",
    "nums = [10, 20, 30, 40, 50, 60, 70, 80, 90]\n",
    "nums[:4] = [1, 2]\n",
    "print(nums)"
   ]
  },
  {
   "cell_type": "code",
   "execution_count": 189,
   "metadata": {
    "colab": {
     "base_uri": "https://localhost:8080/"
    },
    "id": "eh00PCAEY0qM",
    "outputId": "d24c0f6b-f436-4c50-dc09-ed37257ef4c9"
   },
   "outputs": [
    {
     "name": "stdout",
     "output_type": "stream",
     "text": [
      "[1, 20, 1, 40, 1, 60, 1, 80, 1]\n"
     ]
    }
   ],
   "source": [
    "# Menambahkan step memungkinkan untuk mengganti setiap elemen ke-n dengan nilai baru\n",
    "nums = [10, 20, 30, 40, 50, 60, 70, 80, 90]\n",
    "nums[:: 2] = [1, 1, 1, 1, 1]\n",
    "print(nums)"
   ]
  },
  {
   "cell_type": "code",
   "execution_count": 190,
   "metadata": {
    "colab": {
     "base_uri": "https://localhost:8080/"
    },
    "id": "3V6TeBo3ZJJu",
    "outputId": "d8dd2d35-80ce-4168-b277-f1cb0e0f286c"
   },
   "outputs": [
    {
     "name": "stdout",
     "output_type": "stream",
     "text": [
      "[1, 20, 1, 40, 1, 60, 1, 80, 1]\n"
     ]
    }
   ],
   "source": [
    "# dapat menggunakan negatif step : \n",
    "nums = [10, 20, 30, 40, 50, 60, 70, 80, 90]\n",
    "nums[:: -2] = [1, 1, 1, 1, 1]\n",
    "print(nums)"
   ]
  },
  {
   "cell_type": "code",
   "execution_count": 191,
   "metadata": {
    "colab": {
     "base_uri": "https://localhost:8080/"
    },
    "id": "CPqz2QsyZS-l",
    "outputId": "f0b9e737-95ae-41c0-a397-e0aa8762d0f1"
   },
   "outputs": [
    {
     "name": "stdout",
     "output_type": "stream",
     "text": [
      "[10, 2, 30, 4, 50, 60, 70, 80, 90]\n"
     ]
    }
   ],
   "source": [
    "# memberikan start dan stop nilai, maka dapat mempersempit area penggantian\n",
    "nums = [10, 20, 30, 40, 50, 60, 70, 80, 90]\n",
    "nums[1 : 5 : 2] = [2, 4]\n",
    "print(nums)"
   ]
  },
  {
   "cell_type": "markdown",
   "metadata": {
    "id": "lJFls7wJ7PxK"
   },
   "source": [
    "## 10. Extend & Delete List"
   ]
  },
  {
   "cell_type": "markdown",
   "metadata": {
    "id": "rFHKs7PbZpeT"
   },
   "source": [
    "Hapus List, dengan menggunakan metode del"
   ]
  },
  {
   "cell_type": "code",
   "execution_count": 192,
   "metadata": {
    "colab": {
     "base_uri": "https://localhost:8080/"
    },
    "id": "jzGvSS5H7Qne",
    "outputId": "35408db3-7adc-41a6-e675-c025e7eb2d03"
   },
   "outputs": [
    {
     "name": "stdout",
     "output_type": "stream",
     "text": [
      "['mentega', 'susu']\n"
     ]
    }
   ],
   "source": [
    "keranjang = ['roti', 'mentega', 'susu']\n",
    "\n",
    "# ingin menghapus indeks ke 0\n",
    "del keranjang [0]\n",
    "print(keranjang)"
   ]
  },
  {
   "cell_type": "code",
   "execution_count": 193,
   "metadata": {
    "colab": {
     "base_uri": "https://localhost:8080/"
    },
    "id": "LJErDvRhaCWA",
    "outputId": "89cc8a69-0faa-4b1d-c18e-87916c4a1d04"
   },
   "outputs": [
    {
     "name": "stdout",
     "output_type": "stream",
     "text": [
      "['mentega']\n"
     ]
    }
   ],
   "source": [
    "# ingin menghapus index ke satu atau susu\n",
    "del keranjang [1]\n",
    "print(keranjang)"
   ]
  },
  {
   "cell_type": "code",
   "execution_count": 194,
   "metadata": {
    "colab": {
     "base_uri": "https://localhost:8080/"
    },
    "id": "UQK8brkHaW-L",
    "outputId": "e658639c-ca34-44d4-ac24-c0822c7c49e6"
   },
   "outputs": [
    {
     "name": "stdout",
     "output_type": "stream",
     "text": [
      "[10, 20, 30, 80, 90]\n"
     ]
    }
   ],
   "source": [
    "# menghapus potongan list\n",
    "nums = [10, 20, 30, 40, 50, 60, 70, 80, 90]\n",
    "del nums [3 : 7]\n",
    "print(nums)"
   ]
  },
  {
   "cell_type": "code",
   "execution_count": 195,
   "metadata": {
    "colab": {
     "base_uri": "https://localhost:8080/"
    },
    "id": "_CyUjVrIaml3",
    "outputId": "52790f6f-1cce-48d7-efae-a8c27f8c0590"
   },
   "outputs": [
    {
     "name": "stdout",
     "output_type": "stream",
     "text": [
      "[20, 40, 60, 80]\n"
     ]
    }
   ],
   "source": [
    "# menghapus potongan list\n",
    "nums = [10, 20, 30, 40, 50, 60, 70, 80, 90]\n",
    "del nums [:: 2]\n",
    "print(nums)"
   ]
  },
  {
   "cell_type": "code",
   "execution_count": 196,
   "metadata": {
    "colab": {
     "base_uri": "https://localhost:8080/"
    },
    "id": "7smNPA_raty-",
    "outputId": "f3c29204-4305-42e5-fe9b-e199b2906d85"
   },
   "outputs": [
    {
     "name": "stdout",
     "output_type": "stream",
     "text": [
      "[10, 30, 50, 70, 80, 90]\n"
     ]
    }
   ],
   "source": [
    "# menghapus potongan list\n",
    "nums = [10, 20, 30, 40, 50, 60, 70, 80, 90]\n",
    "del nums [1 : 7 : 2]\n",
    "print(nums)"
   ]
  },
  {
   "cell_type": "markdown",
   "metadata": {
    "id": "U46lgDhWa1JF"
   },
   "source": [
    "Metode extend. seperti metode append, namun penggabungannya lebih rapih."
   ]
  },
  {
   "cell_type": "code",
   "execution_count": 197,
   "metadata": {
    "colab": {
     "base_uri": "https://localhost:8080/"
    },
    "id": "ee9bcb2Qawz_",
    "outputId": "9f216813-cf11-4153-e1e0-6d7cae3ebf5b"
   },
   "outputs": [
    {
     "name": "stdout",
     "output_type": "stream",
     "text": [
      "[7, 3, 3, 4, 5]\n"
     ]
    }
   ],
   "source": [
    "z = [7, 3, 3]\n",
    "z.extend([4,5])\n",
    "print(z)"
   ]
  },
  {
   "cell_type": "markdown",
   "metadata": {
    "id": "wYSK_UZgbeef"
   },
   "source": [
    "Alternatif lainnya."
   ]
  },
  {
   "cell_type": "code",
   "execution_count": 198,
   "metadata": {
    "colab": {
     "base_uri": "https://localhost:8080/"
    },
    "id": "DJaV0BwvbH3N",
    "outputId": "01dba625-7888-491d-e289-c2aba2b6afc0"
   },
   "outputs": [
    {
     "name": "stdout",
     "output_type": "stream",
     "text": [
      "[1, 2, 3, 4]\n"
     ]
    }
   ],
   "source": [
    "print([1,2] + [3,4])"
   ]
  },
  {
   "cell_type": "markdown",
   "metadata": {
    "id": "QVD8xMKnVlPZ"
   },
   "source": [
    "# Tambahan"
   ]
  },
  {
   "cell_type": "markdown",
   "metadata": {
    "id": "dsOpdxUVVnol"
   },
   "source": [
    "# Variabel"
   ]
  },
  {
   "cell_type": "code",
   "execution_count": 199,
   "metadata": {
    "colab": {
     "base_uri": "https://localhost:8080/"
    },
    "id": "rLVEOF2DVmgu",
    "outputId": "8534bc2d-3337-431b-a566-21f2c4f35df9"
   },
   "outputs": [
    {
     "name": "stdout",
     "output_type": "stream",
     "text": [
      "Muhamad Hadiyansyah\n",
      "<class 'str'>\n"
     ]
    }
   ],
   "source": [
    "nama = 'Muhamad Hadiyansyah'\n",
    "print(nama);print(type(nama))"
   ]
  },
  {
   "cell_type": "code",
   "execution_count": 200,
   "metadata": {
    "colab": {
     "base_uri": "https://localhost:8080/"
    },
    "id": "j1BgkUgYVzeC",
    "outputId": "6073eae2-45d3-493d-eeec-8d61e2c78e6a"
   },
   "outputs": [
    {
     "name": "stdout",
     "output_type": "stream",
     "text": [
      "21\n",
      "<class 'int'>\n"
     ]
    }
   ],
   "source": [
    "umur = 21\n",
    "print(umur)\n",
    "print(type(umur))"
   ]
  },
  {
   "cell_type": "code",
   "execution_count": 201,
   "metadata": {
    "colab": {
     "base_uri": "https://localhost:8080/"
    },
    "id": "l0E5t6i5V_is",
    "outputId": "72219b6e-44ea-415f-fdd0-694755fa29c9"
   },
   "outputs": [
    {
     "name": "stdout",
     "output_type": "stream",
     "text": [
      "True\n",
      "<class 'bool'>\n"
     ]
    }
   ],
   "source": [
    "WNI = True\n",
    "print(WNI)\n",
    "print(type(WNI))"
   ]
  },
  {
   "cell_type": "code",
   "execution_count": 202,
   "metadata": {
    "colab": {
     "base_uri": "https://localhost:8080/"
    },
    "id": "8GOqi_yjWL_e",
    "outputId": "4b7f8b6e-e879-4918-da9d-9dd65a179377"
   },
   "outputs": [
    {
     "name": "stdout",
     "output_type": "stream",
     "text": [
      "165.5\n",
      "<class 'float'>\n"
     ]
    }
   ],
   "source": [
    "tinggi = 165.5\n",
    "print(tinggi)\n",
    "print(type(tinggi))"
   ]
  },
  {
   "cell_type": "code",
   "execution_count": 203,
   "metadata": {
    "colab": {
     "base_uri": "https://localhost:8080/"
    },
    "id": "KZCYygF3WYiz",
    "outputId": "9dc59889-74e6-4bfa-c5e9-2534438a0026"
   },
   "outputs": [
    {
     "name": "stdout",
     "output_type": "stream",
     "text": [
      "Muhamad Hadiyansyah\n"
     ]
    }
   ],
   "source": [
    "nama_depan = 'Muhamad'\n",
    "nama_belakang = 'Hadiyansyah'\n",
    "nama_lengkap = nama_depan + \" \" + nama_belakang\n",
    "print(nama_lengkap)"
   ]
  },
  {
   "cell_type": "code",
   "execution_count": 204,
   "metadata": {
    "colab": {
     "base_uri": "https://localhost:8080/"
    },
    "id": "7rvXHq1MWyKO",
    "outputId": "979f988b-decd-4335-9e04-70239d830fa0"
   },
   "outputs": [
    {
     "name": "stdout",
     "output_type": "stream",
     "text": [
      "Biodata\n",
      " Muhamad Hadiyansyah \n",
      " 21 \n",
      " Belajar\n"
     ]
    }
   ],
   "source": [
    "umur = 21\n",
    "hobi = 'Belajar'\n",
    "print('Biodata\\n', nama_lengkap, '\\n', umur, '\\n', hobi)"
   ]
  },
  {
   "cell_type": "code",
   "execution_count": 205,
   "metadata": {
    "colab": {
     "base_uri": "https://localhost:8080/"
    },
    "id": "kIaRSP8HXRKg",
    "outputId": "2298f090-dd3e-4592-86ff-71d4e8e88dd7"
   },
   "outputs": [
    {
     "name": "stdout",
     "output_type": "stream",
     "text": [
      "Biodata lengkap\n",
      " Kiky Wardani \n",
      " 23 \n",
      " Berkebun\n"
     ]
    }
   ],
   "source": [
    "nama = 'Kiky Wardani'\n",
    "umur = 23\n",
    "hobi = 'Berkebun'\n",
    "print('Biodata lengkap\\n', nama, '\\n', umur, '\\n', hobi)\n"
   ]
  },
  {
   "cell_type": "code",
   "execution_count": 206,
   "metadata": {
    "colab": {
     "base_uri": "https://localhost:8080/"
    },
    "id": "tTeAjgHPXurc",
    "outputId": "2d410ac9-5109-4319-eca6-7234ab3cb1d9"
   },
   "outputs": [
    {
     "name": "stdout",
     "output_type": "stream",
     "text": [
      "buku dari dira:\n",
      " SENJA DI JAKARTA \n",
      " Mochtar Lubis \n",
      " BUKU OBOR \n",
      " 2019\n"
     ]
    }
   ],
   "source": [
    "judul = 'SENJA DI JAKARTA'\n",
    "penulis = 'Mochtar Lubis'\n",
    "penerbit = 'BUKU OBOR'\n",
    "tahun_terbit = 2019\n",
    "print(\"buku dari dira:\\n\", judul, '\\n', penulis, '\\n', penerbit, '\\n', tahun_terbit)"
   ]
  },
  {
   "cell_type": "code",
   "execution_count": 207,
   "metadata": {
    "colab": {
     "base_uri": "https://localhost:8080/"
    },
    "id": "ufchqrZjYSmy",
    "outputId": "e2271be9-1a51-45e2-9b65-b1b2772fc69d"
   },
   "outputs": [
    {
     "name": "stdout",
     "output_type": "stream",
     "text": [
      "50\n"
     ]
    }
   ],
   "source": [
    "panjang = 10\n",
    "lebar = 5\n",
    "luas = panjang * lebar\n",
    "print(luas)"
   ]
  },
  {
   "cell_type": "code",
   "execution_count": 208,
   "metadata": {
    "colab": {
     "base_uri": "https://localhost:8080/"
    },
    "id": "rYPolI36Ydcl",
    "outputId": "6da88f76-4581-4553-ed22-f0168054e419"
   },
   "outputs": [
    {
     "name": "stdout",
     "output_type": "stream",
     "text": [
      "PDB Indonesia Tahun 2019: 4938.0\n"
     ]
    }
   ],
   "source": [
    "pdb_2018 = 4502\n",
    "pdb_2019 = 5038\n",
    "pdb = pdb_2019 - pdb_2018 / pdb_2018 * 100\n",
    "print(\"PDB Indonesia Tahun 2019:\", pdb)"
   ]
  },
  {
   "cell_type": "code",
   "execution_count": 209,
   "metadata": {
    "colab": {
     "base_uri": "https://localhost:8080/"
    },
    "id": "_3tpW-UoZEub",
    "outputId": "e219e2cf-8642-427d-8ff3-05761c7b1833"
   },
   "outputs": [
    {
     "name": "stdout",
     "output_type": "stream",
     "text": [
      "nama:  Shift\n",
      "usia:  22\n",
      "sudah menikah:  False\n"
     ]
    }
   ],
   "source": [
    "nama = 'Shift'\n",
    "usia = 22\n",
    "sudah_menikah = False\n",
    "print('nama: ', nama)\n",
    "print('usia: ', usia)\n",
    "print('sudah menikah: ', sudah_menikah)"
   ]
  },
  {
   "cell_type": "code",
   "execution_count": 210,
   "metadata": {
    "colab": {
     "base_uri": "https://localhost:8080/"
    },
    "id": "uXjmq7SdZmbb",
    "outputId": "52cf30cc-33e8-44d9-f6c4-2f37690b13b1"
   },
   "outputs": [
    {
     "name": "stdout",
     "output_type": "stream",
     "text": [
      "Halo-halo Bandung Halo-halo Bandung Halo-halo Bandung \n"
     ]
    }
   ],
   "source": [
    "print('Halo-halo Bandung ' * 3)"
   ]
  },
  {
   "cell_type": "code",
   "execution_count": 211,
   "metadata": {
    "colab": {
     "base_uri": "https://localhost:8080/",
     "height": 35
    },
    "id": "BZZ5i6zsZt9K",
    "outputId": "1a33b5de-423b-4b92-ab30-4a28bc8af6bb"
   },
   "outputs": [
    {
     "data": {
      "text/plain": [
       "'Halo Halo Bandung Halo Halo Bandung Halo Halo Bandung '"
      ]
     },
     "execution_count": 211,
     "metadata": {},
     "output_type": "execute_result"
    }
   ],
   "source": [
    "( 'Halo' + ' ' + 'Halo' + ' ' + 'Bandung' + ' ') * 3"
   ]
  },
  {
   "cell_type": "code",
   "execution_count": 212,
   "metadata": {
    "colab": {
     "base_uri": "https://localhost:8080/"
    },
    "id": "ImIWfNPWaNjg",
    "outputId": "ccfae285-bf92-483e-b6f6-605d7266e3c8"
   },
   "outputs": [
    {
     "name": "stdout",
     "output_type": "stream",
     "text": [
      "a:  1\n",
      "b:  2\n",
      "c:  Mulai\n"
     ]
    }
   ],
   "source": [
    "a, b, c = 1, 2, 'Mulai'\n",
    "print('a: ', a)\n",
    "print('b: ', b)\n",
    "print('c: ', c)"
   ]
  },
  {
   "cell_type": "code",
   "execution_count": 213,
   "metadata": {
    "colab": {
     "base_uri": "https://localhost:8080/"
    },
    "id": "VX_sy9weanPA",
    "outputId": "07ad00ef-56c3-419a-cee1-7ae868b2e815"
   },
   "outputs": [
    {
     "name": "stdout",
     "output_type": "stream",
     "text": [
      "d :  10\n",
      "e :  10\n",
      "f :  10\n"
     ]
    }
   ],
   "source": [
    "d = e = f = 10\n",
    "print('d : ', d)\n",
    "print('e : ', e)\n",
    "print('f : ', f)"
   ]
  },
  {
   "cell_type": "code",
   "execution_count": 214,
   "metadata": {
    "colab": {
     "base_uri": "https://localhost:8080/"
    },
    "id": "Z-MbACdmawuo",
    "outputId": "f443a5a3-8d1a-4382-aa21-c36f6e288cdf"
   },
   "outputs": [
    {
     "name": "stdout",
     "output_type": "stream",
     "text": [
      "5 * 10.5 = 52.5\n",
      "tipe data panjang:  5 >> <class 'int'>\n",
      "tipe data lebar:  10.5 >> <class 'float'>\n",
      "tipe data luas:  52.5 >> <class 'float'>\n"
     ]
    }
   ],
   "source": [
    "panjang = 5\n",
    "lebar = 10.5\n",
    "luas = panjang * lebar\n",
    "\n",
    "print(panjang, '*', lebar, '=', luas)\n",
    "print('tipe data panjang: ', panjang, '>>', type(panjang))\n",
    "print('tipe data lebar: ', lebar, '>>', type(lebar))\n",
    "print('tipe data luas: ', luas, '>>', type(luas))"
   ]
  },
  {
   "cell_type": "code",
   "execution_count": 215,
   "metadata": {
    "colab": {
     "base_uri": "https://localhost:8080/"
    },
    "id": "OYDqVo7rbX_c",
    "outputId": "45b365ea-87c9-4802-d90a-68cc946da0ae"
   },
   "outputs": [
    {
     "name": "stdout",
     "output_type": "stream",
     "text": [
      "5j + 10j = 15j\n",
      "tipe data a:  <class 'complex'>\n",
      "tipe data b: <class 'complex'>\n",
      "tipe data c: <class 'complex'>\n"
     ]
    }
   ],
   "source": [
    "a = 5j\n",
    "b = 10j\n",
    "c = a + b\n",
    "\n",
    "print(a, '+', b, '=', c)\n",
    "print('tipe data a: ', type(a))\n",
    "print('tipe data b:', type(b))\n",
    "print('tipe data c:', type(c))"
   ]
  },
  {
   "cell_type": "markdown",
   "metadata": {
    "id": "emONyylkcHcT"
   },
   "source": [
    "# List"
   ]
  },
  {
   "cell_type": "code",
   "execution_count": 216,
   "metadata": {
    "id": "W8i4WkBrBSPx"
   },
   "outputs": [],
   "source": [
    "# membuat list kosong\n",
    "List = [] "
   ]
  },
  {
   "cell_type": "code",
   "execution_count": 217,
   "metadata": {
    "colab": {
     "base_uri": "https://localhost:8080/"
    },
    "id": "UUaNyre4BwzJ",
    "outputId": "6348da77-768c-4bf2-f225-fa738b1bcdb8"
   },
   "outputs": [
    {
     "name": "stdout",
     "output_type": "stream",
     "text": [
      "\n",
      "List with the use of string : \n",
      "['woman Dancing in Moonlight']\n"
     ]
    }
   ],
   "source": [
    "List = ['woman Dancing in Moonlight']\n",
    "print('\\nList with the use of string : ')\n",
    "print(List)"
   ]
  },
  {
   "cell_type": "code",
   "execution_count": 218,
   "metadata": {
    "colab": {
     "base_uri": "https://localhost:8080/"
    },
    "id": "qhVWLSsgCFIa",
    "outputId": "1e0d8d69-c010-4e15-a134-af7298c82deb"
   },
   "outputs": [
    {
     "name": "stdout",
     "output_type": "stream",
     "text": [
      "woman\n"
     ]
    }
   ],
   "source": [
    "List = ['woman', 'Dancing', 'in', 'Moonlight']\n",
    "print(List[0])"
   ]
  },
  {
   "cell_type": "code",
   "execution_count": 219,
   "metadata": {
    "colab": {
     "base_uri": "https://localhost:8080/"
    },
    "id": "_zxsZbxDCda8",
    "outputId": "f794f303-a0b4-4154-9350-20b231629ca6"
   },
   "outputs": [
    {
     "name": "stdout",
     "output_type": "stream",
     "text": [
      "Moonlight\n"
     ]
    }
   ],
   "source": [
    "print(List[-1])"
   ]
  },
  {
   "cell_type": "code",
   "execution_count": 220,
   "metadata": {
    "colab": {
     "base_uri": "https://localhost:8080/"
    },
    "id": "sukVV7Z7Cgs5",
    "outputId": "22e49bc7-7d92-46ad-ad0f-d945321b98c0"
   },
   "outputs": [
    {
     "name": "stdout",
     "output_type": "stream",
     "text": [
      "['woman', 'Dancing', 'in']\n"
     ]
    }
   ],
   "source": [
    "print(List[ : 3])"
   ]
  },
  {
   "cell_type": "code",
   "execution_count": 221,
   "metadata": {
    "colab": {
     "base_uri": "https://localhost:8080/"
    },
    "id": "SVSceH0HCnre",
    "outputId": "a000191e-0030-4a5b-d146-2efd2eed61d3"
   },
   "outputs": [
    {
     "name": "stdout",
     "output_type": "stream",
     "text": [
      "['Dancing', 'in']\n"
     ]
    }
   ],
   "source": [
    "print(List[1 : 3])"
   ]
  },
  {
   "cell_type": "code",
   "execution_count": 222,
   "metadata": {
    "colab": {
     "base_uri": "https://localhost:8080/"
    },
    "id": "qpVcqTluCv2K",
    "outputId": "5c0e386e-8499-429b-f12c-cf592018d7d2"
   },
   "outputs": [
    {
     "name": "stdout",
     "output_type": "stream",
     "text": [
      "['Dancing', 'Moonlight']\n"
     ]
    }
   ],
   "source": [
    "print(List[1 :: 2])"
   ]
  },
  {
   "cell_type": "code",
   "execution_count": 223,
   "metadata": {
    "colab": {
     "base_uri": "https://localhost:8080/"
    },
    "id": "ul5USJu-C3lj",
    "outputId": "996fdbec-e9e6-4897-b00c-08814b07f83d"
   },
   "outputs": [
    {
     "name": "stdout",
     "output_type": "stream",
     "text": [
      "[['woman', 'Dancing'], ['in', 'Moonlight']]\n"
     ]
    }
   ],
   "source": [
    "#LIST NESTED\n",
    "List = [['woman', 'Dancing'], ['in', 'Moonlight']]\n",
    "print(List)"
   ]
  },
  {
   "cell_type": "markdown",
   "metadata": {
    "id": "VPYHKHIxdEUE"
   },
   "source": []
  },
  {
   "cell_type": "markdown",
   "metadata": {
    "id": "CFfOla6UDRT_"
   },
   "source": [
    "# Tuple"
   ]
  },
  {
   "cell_type": "code",
   "execution_count": 224,
   "metadata": {
    "id": "Mq4K_KHiDILl"
   },
   "outputs": [],
   "source": [
    "# membuat tuple kosong\n",
    "Tuple = ()"
   ]
  },
  {
   "cell_type": "code",
   "execution_count": 225,
   "metadata": {
    "colab": {
     "base_uri": "https://localhost:8080/"
    },
    "id": "mYv8Sx01DYUx",
    "outputId": "3a1dd7bc-e192-4eb2-caef-f2b28f24a926"
   },
   "outputs": [
    {
     "name": "stdout",
     "output_type": "stream",
     "text": [
      "('Ini', 'Shift')\n"
     ]
    }
   ],
   "source": [
    "Tuple1 = ('Ini', 'Shift')\n",
    "print(Tuple1)"
   ]
  },
  {
   "cell_type": "code",
   "execution_count": 226,
   "metadata": {
    "colab": {
     "base_uri": "https://localhost:8080/"
    },
    "id": "fhlQObpPDgyJ",
    "outputId": "e1a97229-9a06-4944-e379-59b4afda936f"
   },
   "outputs": [
    {
     "name": "stdout",
     "output_type": "stream",
     "text": [
      "(1, 2, 3, 4, 5)\n"
     ]
    }
   ],
   "source": [
    "# list berubah menjadi tuple\n",
    "list1 = [1, 2, 3, 4, 5]\n",
    "print(tuple(list1))"
   ]
  },
  {
   "cell_type": "code",
   "execution_count": 227,
   "metadata": {
    "colab": {
     "base_uri": "https://localhost:8080/"
    },
    "id": "Oasujx7xDzGe",
    "outputId": "8b5f212a-9fbb-40ef-81c5-b047cf493df4"
   },
   "outputs": [
    {
     "name": "stdout",
     "output_type": "stream",
     "text": [
      "[1, 2, 3, 4]\n"
     ]
    }
   ],
   "source": [
    "# tuple berubah menjadi list\n",
    "tuple1 = 1, 2, 3, 4\n",
    "print(list(tuple1))"
   ]
  },
  {
   "cell_type": "code",
   "execution_count": 228,
   "metadata": {
    "colab": {
     "base_uri": "https://localhost:8080/"
    },
    "id": "srDiLMNsD_zO",
    "outputId": "969499cf-c624-4e8a-98bd-f272eeaee169"
   },
   "outputs": [
    {
     "name": "stdout",
     "output_type": "stream",
     "text": [
      "(1, 2, 3)\n"
     ]
    }
   ],
   "source": [
    "# memotong tuple\n",
    "tuple1 = 1, 2, 3, 4\n",
    "print(tuple1[0 : 3])"
   ]
  },
  {
   "cell_type": "code",
   "execution_count": 229,
   "metadata": {
    "colab": {
     "base_uri": "https://localhost:8080/"
    },
    "id": "3UHRiuqBELmQ",
    "outputId": "b13fd7de-f677-4727-9ab9-bf35d72de423"
   },
   "outputs": [
    {
     "name": "stdout",
     "output_type": "stream",
     "text": [
      "('S', 'h', 'i', 'f', 't')\n"
     ]
    }
   ],
   "source": [
    "Tuple1 = tuple('Shift')\n",
    "print(Tuple1)"
   ]
  },
  {
   "cell_type": "code",
   "execution_count": 230,
   "metadata": {
    "colab": {
     "base_uri": "https://localhost:8080/"
    },
    "id": "ItN4Y-3PEYrp",
    "outputId": "41c944d2-d215-420a-afef-f007a10b439a"
   },
   "outputs": [
    {
     "name": "stdout",
     "output_type": "stream",
     "text": [
      "('M', 'u', 'h', 'a', 'm', 'a', 'd', ' ', 'H', 'a', 'd', 'i', 'y', 'a', 'n', 's', 'y', 'a', 'h')\n"
     ]
    }
   ],
   "source": [
    "Nama = tuple('Muhamad Hadiyansyah')\n",
    "print(Nama)"
   ]
  },
  {
   "cell_type": "code",
   "execution_count": 231,
   "metadata": {
    "colab": {
     "base_uri": "https://localhost:8080/"
    },
    "id": "s5qbkZ3kEgkw",
    "outputId": "b3bfb3ca-6b03-45fc-9c92-6c9e963bd1dd"
   },
   "outputs": [
    {
     "name": "stdout",
     "output_type": "stream",
     "text": [
      "((0, 1, 2, 3), ('python', 'shift'))\n"
     ]
    }
   ],
   "source": [
    "# tuple nested\n",
    "Tuple1 = (0, 1, 2, 3)\n",
    "Tuple2 = ('python', 'shift')\n",
    "Tuple3 = (Tuple1, Tuple2)\n",
    "print(Tuple3)"
   ]
  },
  {
   "cell_type": "code",
   "execution_count": null,
   "metadata": {
    "id": "tAGAFt_fFNfu"
   },
   "outputs": [],
   "source": []
  },
  {
   "cell_type": "markdown",
   "metadata": {
    "id": "VDEyssGBFZJL"
   },
   "source": [
    "# Slicing\n",
    "# [Start : Stop : Step]"
   ]
  },
  {
   "cell_type": "code",
   "execution_count": 232,
   "metadata": {
    "colab": {
     "base_uri": "https://localhost:8080/"
    },
    "id": "B7ihAgglFp8_",
    "outputId": "8f43eac8-2970-4476-bb22-097f8dfb6978"
   },
   "outputs": [
    {
     "name": "stdout",
     "output_type": "stream",
     "text": [
      "['c', 'd', 'e', 'f', 'g']\n"
     ]
    }
   ],
   "source": [
    "L = ['a', 'b', 'c', 'd', 'e', 'f', 'g', 'h', 'i']\n",
    "print(L[2:7])"
   ]
  },
  {
   "cell_type": "code",
   "execution_count": 233,
   "metadata": {
    "colab": {
     "base_uri": "https://localhost:8080/"
    },
    "id": "l0weMrKCFvl0",
    "outputId": "7c04ddb1-9a6c-4650-87d5-d403e777cd2f"
   },
   "outputs": [
    {
     "name": "stdout",
     "output_type": "stream",
     "text": [
      "['c', 'd', 'e', 'f', 'g']\n"
     ]
    }
   ],
   "source": [
    "print(L[-7:-2])"
   ]
  },
  {
   "cell_type": "code",
   "execution_count": 234,
   "metadata": {
    "colab": {
     "base_uri": "https://localhost:8080/"
    },
    "id": "J9xwCi5RF6tU",
    "outputId": "085640cd-d0fb-4610-f4f0-935c7939dd09"
   },
   "outputs": [
    {
     "name": "stdout",
     "output_type": "stream",
     "text": [
      "['c', 'e', 'g']\n"
     ]
    }
   ],
   "source": [
    "print(L[2 : 7 : 2])"
   ]
  },
  {
   "cell_type": "code",
   "execution_count": 235,
   "metadata": {
    "colab": {
     "base_uri": "https://localhost:8080/"
    },
    "id": "ScJKE60XGCf-",
    "outputId": "18178921-aa74-49e6-df0c-47179d157556"
   },
   "outputs": [
    {
     "name": "stdout",
     "output_type": "stream",
     "text": [
      "['a', 'c', 'e', 'g', 'i']\n"
     ]
    }
   ],
   "source": [
    "print(L[0::2])"
   ]
  },
  {
   "cell_type": "code",
   "execution_count": 236,
   "metadata": {
    "colab": {
     "base_uri": "https://localhost:8080/"
    },
    "id": "ARoWqULMGM4-",
    "outputId": "3f7f9f74-d3ee-4cbf-89de-66aaa2fe1dc2"
   },
   "outputs": [
    {
     "name": "stdout",
     "output_type": "stream",
     "text": [
      "['g', 'f', 'e', 'd', 'c']\n"
     ]
    }
   ],
   "source": [
    "print(L[6 : 1 : -1])"
   ]
  },
  {
   "cell_type": "code",
   "execution_count": 237,
   "metadata": {
    "colab": {
     "base_uri": "https://localhost:8080/"
    },
    "id": "oa5ix8HvGYKy",
    "outputId": "7a86d4f0-0d15-419b-cc95-0dfb5dcfe938"
   },
   "outputs": [
    {
     "name": "stdout",
     "output_type": "stream",
     "text": [
      "['g', 'e', 'c']\n"
     ]
    }
   ],
   "source": [
    "print(L[6 : 0 : -2])"
   ]
  },
  {
   "cell_type": "code",
   "execution_count": 238,
   "metadata": {
    "colab": {
     "base_uri": "https://localhost:8080/"
    },
    "id": "Kq4TOm-1Gdv3",
    "outputId": "505f4188-b292-4e47-8cb3-527d6b6d2413"
   },
   "outputs": [
    {
     "name": "stdout",
     "output_type": "stream",
     "text": [
      "['i', 'h', 'g', 'f', 'e', 'd', 'c', 'b', 'a']\n"
     ]
    }
   ],
   "source": [
    "print(L[-1::-1])"
   ]
  },
  {
   "cell_type": "code",
   "execution_count": 239,
   "metadata": {
    "colab": {
     "base_uri": "https://localhost:8080/"
    },
    "id": "RVmiJmK6GmHy",
    "outputId": "04b4d6f8-a527-4367-ed12-42cf8603302a"
   },
   "outputs": [
    {
     "name": "stdout",
     "output_type": "stream",
     "text": [
      "['a', 'b', 'c']\n"
     ]
    }
   ],
   "source": [
    "print(L[:3])"
   ]
  },
  {
   "cell_type": "code",
   "execution_count": 240,
   "metadata": {
    "colab": {
     "base_uri": "https://localhost:8080/"
    },
    "id": "wNu-kuSxGva7",
    "outputId": "fb9de349-e867-4e7e-f189-003a37da94dc"
   },
   "outputs": [
    {
     "name": "stdout",
     "output_type": "stream",
     "text": [
      "['a', 'b', 'c', 'd', 'e']\n"
     ]
    }
   ],
   "source": [
    "print(L[:5])"
   ]
  },
  {
   "cell_type": "code",
   "execution_count": 241,
   "metadata": {
    "colab": {
     "base_uri": "https://localhost:8080/"
    },
    "id": "rCeQpoeoGxNj",
    "outputId": "c602708b-67bd-40b8-f10e-47bc98409764"
   },
   "outputs": [
    {
     "name": "stdout",
     "output_type": "stream",
     "text": [
      "['a', 'b', 'c', 'd', 'e', 'f', 'g', 'h']\n"
     ]
    }
   ],
   "source": [
    "print(L[:-1])"
   ]
  },
  {
   "cell_type": "code",
   "execution_count": 242,
   "metadata": {
    "colab": {
     "base_uri": "https://localhost:8080/"
    },
    "id": "z4lsWNjFG1k0",
    "outputId": "173bc3fb-9e39-408a-98df-4bc2feabe438"
   },
   "outputs": [
    {
     "name": "stdout",
     "output_type": "stream",
     "text": [
      "['a', 'b', 'c', 'd', 'e', 'f', 'g']\n"
     ]
    }
   ],
   "source": [
    "print(L[:-2])"
   ]
  },
  {
   "cell_type": "code",
   "execution_count": 243,
   "metadata": {
    "colab": {
     "base_uri": "https://localhost:8080/"
    },
    "id": "XRth-U6fG3kt",
    "outputId": "f79e11d7-3bb1-4124-9232-295710a267e1"
   },
   "outputs": [
    {
     "name": "stdout",
     "output_type": "stream",
     "text": [
      "['a', 'b', 'c', 'd', 'e', 'f']\n"
     ]
    }
   ],
   "source": [
    "print(L[:-3])"
   ]
  },
  {
   "cell_type": "code",
   "execution_count": 244,
   "metadata": {
    "colab": {
     "base_uri": "https://localhost:8080/"
    },
    "id": "MNm2AdqVG58C",
    "outputId": "43c81139-ab12-461e-caf2-ea20a598fef5"
   },
   "outputs": [
    {
     "name": "stdout",
     "output_type": "stream",
     "text": [
      "['b', 'c', 'd', 'e', 'f', 'g', 'h', 'i']\n"
     ]
    }
   ],
   "source": [
    "print(L[1:])"
   ]
  },
  {
   "cell_type": "code",
   "execution_count": 245,
   "metadata": {
    "colab": {
     "base_uri": "https://localhost:8080/"
    },
    "id": "JtDuPos4HAnC",
    "outputId": "344ebb7f-ff91-4bf9-9d0f-359f3b7ad8c9"
   },
   "outputs": [
    {
     "name": "stdout",
     "output_type": "stream",
     "text": [
      "['c', 'd', 'e', 'f', 'g', 'h', 'i']\n"
     ]
    }
   ],
   "source": [
    "print(L[2:])"
   ]
  },
  {
   "cell_type": "code",
   "execution_count": 246,
   "metadata": {
    "colab": {
     "base_uri": "https://localhost:8080/"
    },
    "id": "qMSLdtmjHDO-",
    "outputId": "4e3a11c6-73b0-4cb9-fa25-2e77763da65c"
   },
   "outputs": [
    {
     "name": "stdout",
     "output_type": "stream",
     "text": [
      "['a', 1, 2, 3, 'e']\n"
     ]
    }
   ],
   "source": [
    "L = ['a', 'b', 'c', 'd', 'e']\n",
    "L[1:4] = [1, 2, 3]\n",
    "print(L)"
   ]
  },
  {
   "cell_type": "code",
   "execution_count": 247,
   "metadata": {
    "colab": {
     "base_uri": "https://localhost:8080/"
    },
    "id": "MOOlDgCQHPlv",
    "outputId": "06b5daaf-6912-4491-f838-0394f1e6a807"
   },
   "outputs": [
    {
     "name": "stdout",
     "output_type": "stream",
     "text": [
      "['Hadi', 'Fidel', 'Jati', 'Sam', 'Habib']\n"
     ]
    }
   ],
   "source": [
    "L[0:] = ['Hadi', 'Fidel', 'Jati', 'Sam', 'Habib']\n",
    "print(L)"
   ]
  },
  {
   "cell_type": "code",
   "execution_count": 248,
   "metadata": {
    "colab": {
     "base_uri": "https://localhost:8080/"
    },
    "id": "c_tR-c_6HiRO",
    "outputId": "9853a82f-b48d-4555-ba18-a7ead5571ebe"
   },
   "outputs": [
    {
     "name": "stdout",
     "output_type": "stream",
     "text": [
      "['Hadi', 'Fidel', 'Jati', 'Sam', 'Rusmia']\n"
     ]
    }
   ],
   "source": [
    "L[-1:] = ['Rusmia']\n",
    "print(L)"
   ]
  },
  {
   "cell_type": "code",
   "execution_count": 249,
   "metadata": {
    "colab": {
     "base_uri": "https://localhost:8080/"
    },
    "id": "7bxwvFVyHsXF",
    "outputId": "88f5c0c8-9fef-42e4-8c6d-5bae17053a42"
   },
   "outputs": [
    {
     "name": "stdout",
     "output_type": "stream",
     "text": [
      "['a']\n"
     ]
    }
   ],
   "source": [
    "L = ['a', 'b', 'c', 'd', 'e']\n",
    "L[1:5] = []\n",
    "print(L)"
   ]
  },
  {
   "cell_type": "markdown",
   "metadata": {
    "id": "9Jl4b6eQIGkG"
   },
   "source": [
    "# Manipulate List"
   ]
  },
  {
   "cell_type": "code",
   "execution_count": 250,
   "metadata": {
    "id": "2kYoH966IH4P"
   },
   "outputs": [],
   "source": [
    "random_list = [4, 1, 5, 4, 10, 4]"
   ]
  },
  {
   "cell_type": "code",
   "execution_count": 251,
   "metadata": {
    "colab": {
     "base_uri": "https://localhost:8080/"
    },
    "id": "66s5V54dIRXh",
    "outputId": "278309a6-5bd9-4fdc-f626-9d2797a7af94"
   },
   "outputs": [
    {
     "data": {
      "text/plain": [
       "3"
      ]
     },
     "execution_count": 251,
     "metadata": {},
     "output_type": "execute_result"
    }
   ],
   "source": [
    "# ingin menghitung banyaknya nilai 4\n",
    "random_list.count(4)"
   ]
  },
  {
   "cell_type": "code",
   "execution_count": 252,
   "metadata": {
    "colab": {
     "base_uri": "https://localhost:8080/"
    },
    "id": "GNtTFVJXIVGv",
    "outputId": "2f7a744d-b375-4fdf-8d3d-e2831620aa29"
   },
   "outputs": [
    {
     "data": {
      "text/plain": [
       "1"
      ]
     },
     "execution_count": 252,
     "metadata": {},
     "output_type": "execute_result"
    }
   ],
   "source": [
    "# ingin menghitung banyaknya nilai 1\n",
    "random_list.count(1)"
   ]
  },
  {
   "cell_type": "code",
   "execution_count": 253,
   "metadata": {
    "colab": {
     "base_uri": "https://localhost:8080/"
    },
    "id": "Amex_75kIcch",
    "outputId": "9eb2cf7a-84e6-4ddc-c795-b62fe27b07d5"
   },
   "outputs": [
    {
     "data": {
      "text/plain": [
       "1"
      ]
     },
     "execution_count": 253,
     "metadata": {},
     "output_type": "execute_result"
    }
   ],
   "source": [
    "# ingin menghitung banyaknya nilai 5\n",
    "random_list.count(5)"
   ]
  },
  {
   "cell_type": "code",
   "execution_count": 254,
   "metadata": {
    "id": "je3QUqAZIij-"
   },
   "outputs": [],
   "source": [
    "# mengetahui posisi index"
   ]
  },
  {
   "cell_type": "code",
   "execution_count": 255,
   "metadata": {
    "colab": {
     "base_uri": "https://localhost:8080/"
    },
    "id": "U85DqX6kI4-R",
    "outputId": "a00bf5ee-54ec-46bf-bf69-2b0a48ff918c"
   },
   "outputs": [
    {
     "data": {
      "text/plain": [
       "0"
      ]
     },
     "execution_count": 255,
     "metadata": {},
     "output_type": "execute_result"
    }
   ],
   "source": [
    "random_list.index(4)"
   ]
  },
  {
   "cell_type": "code",
   "execution_count": 256,
   "metadata": {
    "colab": {
     "base_uri": "https://localhost:8080/"
    },
    "id": "83v9kyTRI7TQ",
    "outputId": "9c89efe7-d614-4cf4-d528-ed25f3f60a3d"
   },
   "outputs": [
    {
     "data": {
      "text/plain": [
       "2"
      ]
     },
     "execution_count": 256,
     "metadata": {},
     "output_type": "execute_result"
    }
   ],
   "source": [
    "random_list.index(5)"
   ]
  },
  {
   "cell_type": "code",
   "execution_count": 257,
   "metadata": {
    "colab": {
     "base_uri": "https://localhost:8080/"
    },
    "id": "e21hd8epI9hz",
    "outputId": "a0ab6eb2-fdd6-4f92-bc58-adda53526b68"
   },
   "outputs": [
    {
     "data": {
      "text/plain": [
       "4"
      ]
     },
     "execution_count": 257,
     "metadata": {},
     "output_type": "execute_result"
    }
   ],
   "source": [
    "random_list.index(10)"
   ]
  },
  {
   "cell_type": "code",
   "execution_count": 258,
   "metadata": {
    "colab": {
     "base_uri": "https://localhost:8080/"
    },
    "id": "9spGa8DbJAY-",
    "outputId": "da9633c9-b2bb-4ab0-9d4a-6fbeabd892b4"
   },
   "outputs": [
    {
     "data": {
      "text/plain": [
       "1"
      ]
     },
     "execution_count": 258,
     "metadata": {},
     "output_type": "execute_result"
    }
   ],
   "source": [
    "random_list.index(1)"
   ]
  },
  {
   "cell_type": "code",
   "execution_count": 259,
   "metadata": {
    "colab": {
     "base_uri": "https://localhost:8080/"
    },
    "id": "oSpONZLDJD18",
    "outputId": "d386bf5c-2c40-4237-c329-7eed5758ef44"
   },
   "outputs": [
    {
     "name": "stdout",
     "output_type": "stream",
     "text": [
      "[2, 3, 4, 7, 8, 10, 11]\n"
     ]
    }
   ],
   "source": [
    "# Sort ATAU mengurutkan dari a ke z atau dari z ke a\n",
    "x = [3, 7, 2, 11, 8, 10, 4]\n",
    "x.sort()\n",
    "print(x)"
   ]
  },
  {
   "cell_type": "code",
   "execution_count": 260,
   "metadata": {
    "colab": {
     "base_uri": "https://localhost:8080/"
    },
    "id": "qnDTksjtJP10",
    "outputId": "5cdb4c23-36a9-4744-a1df-bd46f5260b3a"
   },
   "outputs": [
    {
     "name": "stdout",
     "output_type": "stream",
     "text": [
      "[11, 10, 8, 7, 4, 3, 2]\n"
     ]
    }
   ],
   "source": [
    "x.sort(reverse=True)\n",
    "print(x)"
   ]
  },
  {
   "cell_type": "code",
   "execution_count": 261,
   "metadata": {
    "id": "oLEJE-4OJd76"
   },
   "outputs": [],
   "source": [
    "# append atau menambahkan elemen terakhir di dalam list"
   ]
  },
  {
   "cell_type": "code",
   "execution_count": 262,
   "metadata": {
    "colab": {
     "base_uri": "https://localhost:8080/"
    },
    "id": "JRuBzV1pJmHY",
    "outputId": "d4e524a8-1b73-4d97-9ea8-a7dabcba385b"
   },
   "outputs": [
    {
     "name": "stdout",
     "output_type": "stream",
     "text": [
      "[11, 10, 8, 7, 4, 3, 2, 1]\n"
     ]
    }
   ],
   "source": [
    "x.append(1)\n",
    "print(x)"
   ]
  },
  {
   "cell_type": "code",
   "execution_count": 263,
   "metadata": {
    "colab": {
     "base_uri": "https://localhost:8080/"
    },
    "id": "LNjXKjkZJrNR",
    "outputId": "29844f01-5925-4c44-afa1-0d7b7d0952ae"
   },
   "outputs": [
    {
     "name": "stdout",
     "output_type": "stream",
     "text": [
      "[11, 10, 8, 7, 4, 3, 2, 1, 2]\n"
     ]
    }
   ],
   "source": [
    "x.append(2)\n",
    "print(x)"
   ]
  },
  {
   "cell_type": "code",
   "execution_count": 264,
   "metadata": {
    "id": "lwVWVApMJwIl"
   },
   "outputs": [],
   "source": [
    "# insert atau seperti append tetapi bisa spesifik"
   ]
  },
  {
   "cell_type": "code",
   "execution_count": 265,
   "metadata": {
    "colab": {
     "base_uri": "https://localhost:8080/"
    },
    "id": "7gzYYlNxJ8_u",
    "outputId": "19eddd7a-c65f-4365-c732-b38c08da3d72"
   },
   "outputs": [
    {
     "name": "stdout",
     "output_type": "stream",
     "text": [
      "[11, 10, 8, 7, [4, 5], 4, 3, 2, 1, 2]\n"
     ]
    }
   ],
   "source": [
    "x.insert(4, [4, 5])\n",
    "print(x)"
   ]
  },
  {
   "cell_type": "code",
   "execution_count": 266,
   "metadata": {
    "id": "KjH5i9iHKBuf"
   },
   "outputs": [],
   "source": [
    "x.insert(0, [\"Mulai\"])"
   ]
  },
  {
   "cell_type": "code",
   "execution_count": 267,
   "metadata": {
    "colab": {
     "base_uri": "https://localhost:8080/"
    },
    "id": "4oVtY952KPCf",
    "outputId": "e8ace7b2-ee9c-4db2-e98a-618d7eb41c3a"
   },
   "outputs": [
    {
     "name": "stdout",
     "output_type": "stream",
     "text": [
      "[['Mulai'], 11, 10, 8, 7, [4, 5], 4, 3, 2, 1, 2]\n"
     ]
    }
   ],
   "source": [
    "print(x)"
   ]
  },
  {
   "cell_type": "code",
   "execution_count": 268,
   "metadata": {
    "id": "WTFRDnxgKP_5"
   },
   "outputs": [],
   "source": [
    "# Delete : menggunakan dengan index"
   ]
  },
  {
   "cell_type": "code",
   "execution_count": 269,
   "metadata": {
    "colab": {
     "base_uri": "https://localhost:8080/"
    },
    "id": "azoACtbdKere",
    "outputId": "0a5af7a9-b602-4485-99bf-316ef9d53337"
   },
   "outputs": [
    {
     "name": "stdout",
     "output_type": "stream",
     "text": [
      "['a']\n"
     ]
    }
   ],
   "source": [
    "L = ['a', 'b', 'c', 'd', 'e']\n",
    "del L[1:5]\n",
    "print(L)"
   ]
  },
  {
   "cell_type": "code",
   "execution_count": 270,
   "metadata": {
    "id": "kEUfJSmJKfFq"
   },
   "outputs": [],
   "source": [
    "# remove : menggunakan dengan nilai"
   ]
  },
  {
   "cell_type": "code",
   "execution_count": 271,
   "metadata": {
    "id": "Z0IjADa3K374"
   },
   "outputs": [],
   "source": [
    "x.remove(10)"
   ]
  },
  {
   "cell_type": "code",
   "execution_count": 272,
   "metadata": {
    "colab": {
     "base_uri": "https://localhost:8080/"
    },
    "id": "xaoTo9xkK4Q8",
    "outputId": "9086847d-0622-41a2-e404-0a829b5639c1"
   },
   "outputs": [
    {
     "name": "stdout",
     "output_type": "stream",
     "text": [
      "[['Mulai'], 11, 8, 7, [4, 5], 4, 3, 2, 1, 2]\n"
     ]
    }
   ],
   "source": [
    "print(x)"
   ]
  },
  {
   "cell_type": "code",
   "execution_count": 273,
   "metadata": {
    "id": "HxOR8xwZK5Wd"
   },
   "outputs": [],
   "source": [
    "x.remove([\"Mulai\"])"
   ]
  },
  {
   "cell_type": "code",
   "execution_count": 274,
   "metadata": {
    "colab": {
     "base_uri": "https://localhost:8080/"
    },
    "id": "F156FedgK7_k",
    "outputId": "34c4160a-6b61-4a7d-833a-c6e34c7cf9d6"
   },
   "outputs": [
    {
     "name": "stdout",
     "output_type": "stream",
     "text": [
      "[11, 8, 7, [4, 5], 4, 3, 2, 1, 2]\n"
     ]
    }
   ],
   "source": [
    "print(x)"
   ]
  },
  {
   "cell_type": "code",
   "execution_count": 275,
   "metadata": {
    "id": "pGSIiTjjLFOU"
   },
   "outputs": [],
   "source": [
    "# pop atau mengurangi"
   ]
  },
  {
   "cell_type": "code",
   "execution_count": 276,
   "metadata": {
    "colab": {
     "base_uri": "https://localhost:8080/"
    },
    "id": "b3mUmZMALXT7",
    "outputId": "2dc2b9bc-96a8-41c5-a959-a2a1257b40f8"
   },
   "outputs": [
    {
     "data": {
      "text/plain": [
       "[4, 5]"
      ]
     },
     "execution_count": 276,
     "metadata": {},
     "output_type": "execute_result"
    }
   ],
   "source": [
    "x.pop(3)"
   ]
  },
  {
   "cell_type": "code",
   "execution_count": 277,
   "metadata": {
    "colab": {
     "base_uri": "https://localhost:8080/"
    },
    "id": "nS4aBS4zLXta",
    "outputId": "4d07d790-8b08-4e31-ddd6-6194f0da1306"
   },
   "outputs": [
    {
     "name": "stdout",
     "output_type": "stream",
     "text": [
      "[11, 8, 7, 4, 3, 2, 1, 2]\n"
     ]
    }
   ],
   "source": [
    "print(x)"
   ]
  },
  {
   "cell_type": "code",
   "execution_count": 278,
   "metadata": {
    "colab": {
     "base_uri": "https://localhost:8080/"
    },
    "id": "5IB3Dki3LarF",
    "outputId": "8d051afa-81e3-4dd6-ef45-48cd4c190829"
   },
   "outputs": [
    {
     "data": {
      "text/plain": [
       "4"
      ]
     },
     "execution_count": 278,
     "metadata": {},
     "output_type": "execute_result"
    }
   ],
   "source": [
    "x.pop(3)"
   ]
  },
  {
   "cell_type": "code",
   "execution_count": 279,
   "metadata": {
    "colab": {
     "base_uri": "https://localhost:8080/"
    },
    "id": "kKnlehTsLduC",
    "outputId": "2167c497-7945-448b-dfe0-8af2847af69c"
   },
   "outputs": [
    {
     "name": "stdout",
     "output_type": "stream",
     "text": [
      "[11, 8, 7, 3, 2, 1, 2]\n"
     ]
    }
   ],
   "source": [
    "print(x)"
   ]
  },
  {
   "cell_type": "code",
   "execution_count": 280,
   "metadata": {
    "id": "VF-X2SlnLely"
   },
   "outputs": [],
   "source": [
    "# extend atau menambahkan dan bisa lebih dari satu nilai"
   ]
  },
  {
   "cell_type": "code",
   "execution_count": 281,
   "metadata": {
    "id": "fr8VQb40LmOr"
   },
   "outputs": [],
   "source": [
    "x.extend([3, 10])"
   ]
  },
  {
   "cell_type": "code",
   "execution_count": 282,
   "metadata": {
    "colab": {
     "base_uri": "https://localhost:8080/"
    },
    "id": "RaTp90chLoVZ",
    "outputId": "1c675ed4-ddbb-4589-a4fe-1ed2cf3e6377"
   },
   "outputs": [
    {
     "name": "stdout",
     "output_type": "stream",
     "text": [
      "[11, 8, 7, 3, 2, 1, 2, 3, 10]\n"
     ]
    }
   ],
   "source": [
    "print(x)"
   ]
  },
  {
   "cell_type": "code",
   "execution_count": 283,
   "metadata": {
    "colab": {
     "base_uri": "https://localhost:8080/"
    },
    "id": "DFF7ytIzLtDX",
    "outputId": "2fb4d90e-e11e-4219-f2c7-511839b75e99"
   },
   "outputs": [
    {
     "name": "stdout",
     "output_type": "stream",
     "text": [
      "nama saya tasya \n"
     ]
    }
   ],
   "source": [
    "print('nama saya', end = ' ')\n",
    "print('tasya ')"
   ]
  },
  {
   "cell_type": "code",
   "execution_count": 284,
   "metadata": {
    "colab": {
     "base_uri": "https://localhost:8080/"
    },
    "id": "bAtho29kLwcz",
    "outputId": "c517ef03-b236-45db-ef84-a68e30746c0b"
   },
   "outputs": [
    {
     "name": "stdout",
     "output_type": "stream",
     "text": [
      "nama saya\n",
      "tasya \n"
     ]
    }
   ],
   "source": [
    "print('nama saya')\n",
    "print('tasya ')"
   ]
  },
  {
   "cell_type": "code",
   "execution_count": 285,
   "metadata": {
    "colab": {
     "base_uri": "https://localhost:8080/"
    },
    "id": "gnFlix0QLyxm",
    "outputId": "90d8461b-8dec-4a03-f6a5-e1197c844eb8"
   },
   "outputs": [
    {
     "name": "stdout",
     "output_type": "stream",
     "text": [
      "nama saya tasya \n"
     ]
    }
   ],
   "source": [
    "print('nama saya', 'tasya ')"
   ]
  },
  {
   "cell_type": "code",
   "execution_count": 286,
   "metadata": {
    "colab": {
     "base_uri": "https://localhost:8080/"
    },
    "id": "SalyC2X5L68r",
    "outputId": "62f6e580-274c-46c4-e527-4029786a7c25"
   },
   "outputs": [
    {
     "name": "stdout",
     "output_type": "stream",
     "text": [
      "x 18\n"
     ]
    }
   ],
   "source": [
    "s = \"10010\"\n",
    "c = int(s, 2)\n",
    "print('x' , end=' ')\n",
    "print(c)"
   ]
  },
  {
   "cell_type": "code",
   "execution_count": null,
   "metadata": {
    "id": "gOUX8gLCcw3g"
   },
   "outputs": [],
   "source": []
  }
 ],
 "metadata": {
  "colab": {
   "collapsed_sections": [],
   "name": "Python 1 Benar",
   "provenance": []
  },
  "kernelspec": {
   "display_name": "Python 3",
   "language": "python",
   "name": "python3"
  },
  "language_info": {
   "codemirror_mode": {
    "name": "ipython",
    "version": 3
   },
   "file_extension": ".py",
   "mimetype": "text/x-python",
   "name": "python",
   "nbconvert_exporter": "python",
   "pygments_lexer": "ipython3",
   "version": "3.8.5"
  }
 },
 "nbformat": 4,
 "nbformat_minor": 1
}
